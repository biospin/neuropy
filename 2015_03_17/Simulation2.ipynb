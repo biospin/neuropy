{
 "cells": [
  {
   "cell_type": "code",
   "execution_count": 1,
   "metadata": {
    "collapsed": true
   },
   "outputs": [],
   "source": [
    "%matplotlib inline"
   ]
  },
  {
   "cell_type": "code",
   "execution_count": 2,
   "metadata": {
    "collapsed": true
   },
   "outputs": [],
   "source": [
    "from IPython.display import Image"
   ]
  },
  {
   "cell_type": "code",
   "execution_count": 3,
   "metadata": {
    "collapsed": true
   },
   "outputs": [],
   "source": [
    "# for competibilities with Python 3\n",
    "# gonna use print() function instead of print statement\n",
    "# and 3 / 1 should return 3.0 in the way of Python 3 instead returning 3 with Python 2\n",
    "from __future__ import print_function\n",
    "from __future__ import division"
   ]
  },
  {
   "cell_type": "markdown",
   "metadata": {},
   "source": [
    "[Hines Michael et al., NEURON and Python, Frontiers in Neuroinformatics(3), 28 January 2009](http://journal.frontiersin.org/article/10.3389/neuro.11.001.2009/full) 중 Fig. 3"
   ]
  },
  {
   "cell_type": "code",
   "execution_count": 4,
   "metadata": {
    "collapsed": false
   },
   "outputs": [
    {
     "data": {
      "text/html": [
       "<img src=\"http://www.intechopen.com/source/html/39824/media/image13.jpg\" width=\"700\"/>"
      ],
      "text/plain": [
       "<IPython.core.display.Image object>"
      ]
     },
     "execution_count": 4,
     "metadata": {},
     "output_type": "execute_result"
    }
   ],
   "source": [
    "Image(url=\"http://www.intechopen.com/source/html/39824/media/image13.jpg\", width=700)"
   ]
  },
  {
   "cell_type": "code",
   "execution_count": 5,
   "metadata": {
    "collapsed": false
   },
   "outputs": [
    {
     "data": {
      "text/plain": [
       "[<matplotlib.lines.Line2D at 0x10d73aa50>]"
      ]
     },
     "execution_count": 5,
     "metadata": {},
     "output_type": "execute_result"
    },
    {
     "data": {
      "image/png": "[encoded data removed]",
      "text/plain": [
       "<matplotlib.figure.Figure at 0x10a8a8750>"
      ]
     },
     "metadata": {},
     "output_type": "display_data"
    }
   ],
   "source": [
    "from neuron import h\n",
    "\n",
    "# create pre- and post-synaptic sections\n",
    "pre = h.Section()                      \n",
    "post = h.Section()                      \n",
    "\n",
    "for sec in pre, post:\n",
    "    sec.insert('hh')\n",
    "\n",
    "# inject current in the pre-synaptic section\n",
    "stim = h.IClamp(0.5, sec=pre)          \n",
    "stim.amp = 10.0                        \n",
    "stim.delay = 5.0\n",
    "stim.dur = 5.0\n",
    "\n",
    "# create a synapse in the pre-synaptic section\n",
    "syn = h.ExpSyn(0.5, sec=post)\n",
    "\n",
    "# connect the pre-synaptic section to the\n",
    "# synapse object                         \n",
    "nc = h.NetCon(pre(0.5)._ref_v, syn)\n",
    "nc.weight[0] = 2.0\n",
    "\n",
    "vec = {}\n",
    "for var in 'v_pre', 'v_post', 'i_syn', 't':\n",
    "    vec[var] = h.Vector()\n",
    "\n",
    "# record the membrane potentials and\n",
    "# synaptic currents\n",
    "vec['v_pre'].record(pre(0.5)._ref_v)\n",
    "vec['v_post'].record(post(0.5)._ref_v)\n",
    "vec['i_syn'].record(syn._ref_i)                   \n",
    "vec['t'].record(h._ref_t)\n",
    "\n",
    "# run the simulation\n",
    "h.load_file(\"stdrun.hoc\")              \n",
    "h.init()\n",
    "h.tstop = 20.0\n",
    "h.run()\n",
    "\n",
    "# plot the results\n",
    "import pylab\n",
    "pylab.subplot(2,1,1)\n",
    "pylab.plot(vec['t'], vec['v_pre'],\n",
    "           vec['t'], vec['v_post'])\n",
    "pylab.subplot(2,1,2)\n",
    "pylab.plot(vec['t'], vec['i_syn'])"
   ]
  },
  {
   "cell_type": "code",
   "execution_count": null,
   "metadata": {
    "collapsed": true
   },
   "outputs": [],
   "source": []
  }
 ],
 "metadata": {
  "kernelspec": {
   "display_name": "Python 2",
   "language": "python",
   "name": "python2"
  },
  "language_info": {
   "codemirror_mode": {
    "name": "ipython",
    "version": 2
   },
   "file_extension": ".py",
   "mimetype": "text/x-python",
   "name": "python",
   "nbconvert_exporter": "python",
   "pygments_lexer": "ipython2",
   "version": "2.7.6"
  }
 },
 "nbformat": 4,
 "nbformat_minor": 0
}
