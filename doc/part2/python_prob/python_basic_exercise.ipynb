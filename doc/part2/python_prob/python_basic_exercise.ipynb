{
 "cells": [
  {
   "cell_type": "markdown",
   "metadata": {},
   "source": [
    "# 파이썬 기초 연습문제"
   ]
  },
  {
   "cell_type": "markdown",
   "metadata": {},
   "source": [
    "* 바이오스핀 : 뉴로파이썬 파트2\n",
    "* 김무성"
   ]
  },
  {
   "cell_type": "markdown",
   "metadata": {},
   "source": [
    "# 차례"
   ]
  },
  {
   "cell_type": "markdown",
   "metadata": {},
   "source": [
    "* 기초\n",
    "* 응용"
   ]
  },
  {
   "cell_type": "markdown",
   "metadata": {},
   "source": [
    "## 기초 [1]"
   ]
  },
  {
   "cell_type": "markdown",
   "metadata": {},
   "source": [
    "* 문자열 (ch4)\n",
    "  - (문자열) 연습문제 9 (174p)\n",
    "  - (문자열) 연습문제 10 (174p)\n",
    "  - (문자열, 웹에서 페이지 가져오기) 연습문제 16번 (175p)\n",
    "* 리스트 (ch5)\n",
    "  - (리스트 이용해서 문자열 다루기) 연습문제 3 (208p) \n",
    "  - (리스트 정렬) 연습문제 5 (209p)\n",
    "  - (파일목록 얻기, 리스트 이용) 연습문제 10번 (210p)\n",
    "  - (파일상태 알아내기, 리스트 이용) 연습문제 11번 (210p)\n",
    "  - (HTML 문서 처리기초, 리스트 이용) 예제 1번 (211p)\n",
    "* 튜플 (ch6)\n",
    "  - (튜플과 리스트 상호변환) 튜플을 리스트로, 리스트를 튜플로 바꾸기 (217p)  \n",
    "  - (튜플, 경로명 다루기) 경로명 다루기 예제 따라하기 (219p)\n",
    "* 사전 (ch7)\n",
    "  - (사전) 연습문제 4 (243p)\n",
    "  - (사전) 연습문제 7 (244p)\n",
    "* 파일 (ch9)\n",
    "  - (파일, 파일 쓰기) 연습문제 2 (284p)\n",
    "  - (파일, 파일 읽기) 연습문제 3 (284p)\n",
    "  - (파일, 파일 읽기,쓰기) 연습문제 4 (284p)\n",
    "  - (파일, HTML 문서 읽어서 파일로 저장) 연습문제 12 (286p)\n",
    "* 함수 (ch10)\n",
    "  - (함수, 함수만들기) 연습문제 1 (327p)  \n",
    "* 클래스\n",
    "  - (클래스, 클래스 만들기) ch12 클래스 - 연습문제 6 (464p) "
   ]
  },
  {
   "cell_type": "markdown",
   "metadata": {},
   "source": [
    "### 문자열_ch4"
   ]
  },
  {
   "cell_type": "markdown",
   "metadata": {},
   "source": [
    "#### 문자열_연습문제 9_174p"
   ]
  },
  {
   "cell_type": "markdown",
   "metadata": {},
   "source": [
    "##### 다음에서 주어진 문자열에서 모든 대문자를 소문자로 변환하고, 문자 ','와 '.'를 없앤 후에 각 단어를 순서대로 출력하시오."
   ]
  },
  {
   "cell_type": "code",
   "execution_count": 1,
   "metadata": {
    "collapsed": false
   },
   "outputs": [],
   "source": [
    "s = 'We propose to start by making it possible to teach programming in Python, an existing scripting language, and to focus on creating a new development environment and teaching materials for it'"
   ]
  },
  {
   "cell_type": "code",
   "execution_count": null,
   "metadata": {
    "collapsed": false
   },
   "outputs": [],
   "source": [
    "# input yuour code"
   ]
  },
  {
   "cell_type": "markdown",
   "metadata": {},
   "source": [
    "#### 문자열_연습문제 10_174p"
   ]
  },
  {
   "cell_type": "markdown",
   "metadata": {},
   "source": [
    "##### 위 문제 9에서 각 단어가 몇 번씩 나타났는가도 함께 출력해보시오."
   ]
  },
  {
   "cell_type": "code",
   "execution_count": null,
   "metadata": {
    "collapsed": false
   },
   "outputs": [],
   "source": [
    "# input yuour code"
   ]
  },
  {
   "cell_type": "markdown",
   "metadata": {},
   "source": [
    "#### 문자열-웹에서 페이지 가져오기_연습문제 16번_175p"
   ]
  },
  {
   "cell_type": "markdown",
   "metadata": {},
   "source": [
    "##### URL로 지정된 웹문서를 가져다가 모든 태그를 제외한 텍스트를 출력해보시오. 웹 문서를 가져오는 방법은 다음과 같다."
   ]
  },
  {
   "cell_type": "code",
   "execution_count": 3,
   "metadata": {
    "collapsed": false
   },
   "outputs": [],
   "source": [
    "import urllib\n",
    "\n",
    "s = urllib.urlopen('http://www.python.org').read()"
   ]
  },
  {
   "cell_type": "code",
   "execution_count": null,
   "metadata": {
    "collapsed": false
   },
   "outputs": [],
   "source": [
    "# input yuour code"
   ]
  },
  {
   "cell_type": "markdown",
   "metadata": {},
   "source": [
    "### 리스트_ch5"
   ]
  },
  {
   "cell_type": "markdown",
   "metadata": {},
   "source": [
    "#### 리스트 이용해서 문자열 다루기_연습문제 3_208p"
   ]
  },
  {
   "cell_type": "markdown",
   "metadata": {},
   "source": [
    "##### 다음 문자열 S에 대해서 다음을 풀어라"
   ]
  },
  {
   "cell_type": "code",
   "execution_count": 5,
   "metadata": {
    "collapsed": false
   },
   "outputs": [],
   "source": [
    "S = 'Sometiems I feel like a motherless child'"
   ]
  },
  {
   "cell_type": "markdown",
   "metadata": {},
   "source": [
    "##### 가) 단어의 순서가 바뀐 문자열을 만들어라('child motherless a like fee I Sometimes')"
   ]
  },
  {
   "cell_type": "code",
   "execution_count": null,
   "metadata": {
    "collapsed": false
   },
   "outputs": [],
   "source": [
    "# input yuour code"
   ]
  },
  {
   "cell_type": "markdown",
   "metadata": {},
   "source": [
    "##### 나) 위 문자열의 앞뒤 순서를 완전히 바꾼 문자열을 만들어라. (dlihc ssel..) (list 이용)"
   ]
  },
  {
   "cell_type": "code",
   "execution_count": null,
   "metadata": {
    "collapsed": false
   },
   "outputs": [],
   "source": [
    "# input yuour code"
   ]
  },
  {
   "cell_type": "markdown",
   "metadata": {},
   "source": [
    "##### 다) 문자열 메쏘드 split과 join을 이용하여 위 문자열에서 공백을 모두 없앤 문자열을 만들어라."
   ]
  },
  {
   "cell_type": "code",
   "execution_count": null,
   "metadata": {
    "collapsed": false
   },
   "outputs": [],
   "source": [
    "# input yuour code"
   ]
  },
  {
   "cell_type": "markdown",
   "metadata": {},
   "source": [
    "#### 리스트 정렬_연습문제 5_209p"
   ]
  },
  {
   "cell_type": "markdown",
   "metadata": {},
   "source": [
    "##### 다음 리스트 L을 5로 나눈 나머지를 기준으로 정렬하라."
   ]
  },
  {
   "cell_type": "code",
   "execution_count": 6,
   "metadata": {
    "collapsed": false
   },
   "outputs": [
    {
     "data": {
      "text/plain": [
       "[0, 1, 2, 3, 4, 5, 6, 7, 8, 9]"
      ]
     },
     "execution_count": 6,
     "metadata": {},
     "output_type": "execute_result"
    }
   ],
   "source": [
    "L = range(10)\n",
    "L"
   ]
  },
  {
   "cell_type": "code",
   "execution_count": null,
   "metadata": {
    "collapsed": false
   },
   "outputs": [],
   "source": [
    "# input yuour code\n",
    "# 정렬 결과가 [0, 5, 1, 6, 2, 7, 3, 8, 4, 9]\n"
   ]
  },
  {
   "cell_type": "markdown",
   "metadata": {},
   "source": [
    "#### 파일목록 얻기-리스트 이용_연습문제 10번_210p"
   ]
  },
  {
   "cell_type": "markdown",
   "metadata": {},
   "source": [
    "##### 현재 디렉토리에 있는 .py 파일들 중에서 크기가 500바이트를 넘는 것들만 파일 목록을 출력하라. (힌트:os.path 모듈, os.path.listdir 함수)"
   ]
  },
  {
   "cell_type": "code",
   "execution_count": null,
   "metadata": {
    "collapsed": false
   },
   "outputs": [],
   "source": [
    "# input yuour code"
   ]
  },
  {
   "cell_type": "markdown",
   "metadata": {},
   "source": [
    "#### 파일상태 알아내기-리스트 이용_연습문제 11번_210p"
   ]
  },
  {
   "cell_type": "markdown",
   "metadata": {},
   "source": [
    "##### 현재 디렉토리에 있는 모든 파일들 중에서 최근 24시간 이내에 변경된 파일들의 목록을 출력하라"
   ]
  },
  {
   "cell_type": "code",
   "execution_count": null,
   "metadata": {
    "collapsed": false
   },
   "outputs": [],
   "source": [
    "# input yuour code"
   ]
  },
  {
   "cell_type": "markdown",
   "metadata": {},
   "source": [
    "#### HTML 문서 처리기초_리스트 이용_예제 1번_211p"
   ]
  },
  {
   "cell_type": "markdown",
   "metadata": {},
   "source": [
    "##### 명령행에 URL 주소를 입력하면 그 URL의 HTML 문서를 화면에 출력하는 프로그램을 작성하라.(url에서 HTML 문서를 가져오는 것은 다음과 같은 코드를 이용한다)"
   ]
  },
  {
   "cell_type": "code",
   "execution_count": null,
   "metadata": {
    "collapsed": false
   },
   "outputs": [],
   "source": [
    "import urllib\n",
    "import sys\n",
    "\n",
    "def getpage(url) : \n",
    "    f = urllib.urlopen(url)\n",
    "    return f.read()\n",
    "\n",
    "text = getpage(sys.argv[1])\n",
    "print text"
   ]
  },
  {
   "cell_type": "markdown",
   "metadata": {},
   "source": [
    "##### 가) 위 코드를 수정하여 명령행에서 인수가 입력되지 않았을 때 사용법을 출력하도록 에러 처리 루틴을 첨가하라"
   ]
  },
  {
   "cell_type": "code",
   "execution_count": null,
   "metadata": {
    "collapsed": false
   },
   "outputs": [],
   "source": [
    "# input yuour code"
   ]
  },
  {
   "cell_type": "markdown",
   "metadata": {},
   "source": [
    "##### 나) 명령행 인수에 두 개 이상의 인수를 입력받아서 그 문서들을 출력하도록 코드를 수정하라"
   ]
  },
  {
   "cell_type": "code",
   "execution_count": null,
   "metadata": {
    "collapsed": false
   },
   "outputs": [],
   "source": [
    "# input yuour code"
   ]
  },
  {
   "cell_type": "markdown",
   "metadata": {},
   "source": [
    "##### 나) 잘못된 URL이 입력되면 그 URL 출력은 건너뛰고, 나중에 잘못된 URL 목록을 출력하도록 수정하라"
   ]
  },
  {
   "cell_type": "code",
   "execution_count": null,
   "metadata": {
    "collapsed": false
   },
   "outputs": [],
   "source": [
    "# input yuour code"
   ]
  },
  {
   "cell_type": "markdown",
   "metadata": {},
   "source": [
    "### 튜플_ch6"
   ]
  },
  {
   "cell_type": "markdown",
   "metadata": {},
   "source": [
    "#### 튜플과 리스트 상호변환-튜플을 리스트로_리스트를 튜플로 바꾸기_217p"
   ]
  },
  {
   "cell_type": "code",
   "execution_count": null,
   "metadata": {
    "collapsed": false
   },
   "outputs": [],
   "source": [
    "T = (1, 2, 3, 4, 5)"
   ]
  },
  {
   "cell_type": "code",
   "execution_count": null,
   "metadata": {
    "collapsed": false
   },
   "outputs": [],
   "source": [
    "T[0] = 100   # 어떻게 되나?"
   ]
  },
  {
   "cell_type": "markdown",
   "metadata": {},
   "source": [
    "##### 가) 튜플 T를 리스트 L 로 바꾸기"
   ]
  },
  {
   "cell_type": "code",
   "execution_count": null,
   "metadata": {
    "collapsed": false
   },
   "outputs": [],
   "source": [
    "L = # 튜플 T를 리스트로 변환"
   ]
  },
  {
   "cell_type": "code",
   "execution_count": null,
   "metadata": {
    "collapsed": false
   },
   "outputs": [],
   "source": [
    "# input yuour code\n",
    "L[0] = 100 # 어떻게 되나?"
   ]
  },
  {
   "cell_type": "markdown",
   "metadata": {},
   "source": [
    "##### 나) 리스트 L을 튜플 T2로 바꾸기"
   ]
  },
  {
   "cell_type": "code",
   "execution_count": null,
   "metadata": {
    "collapsed": false
   },
   "outputs": [],
   "source": [
    "# input yuour code\n",
    "T2 = # L을 튜플로"
   ]
  },
  {
   "cell_type": "markdown",
   "metadata": {},
   "source": [
    "#### 튜플, 함수인자 여러개 반환-두 개의 인자를 받아서 더한 결과와 곱한 결과를 동시에 반환하는 함수를 작성_218p"
   ]
  },
  {
   "cell_type": "code",
   "execution_count": null,
   "metadata": {
    "collapsed": false
   },
   "outputs": [],
   "source": [
    "def calc(a, b) :\n",
    "    #함수 내용을 작성하세요. \n",
    "    # a+b와 a*b를 계산해서 두 개의 결과를 반환하는 함수"
   ]
  },
  {
   "cell_type": "code",
   "execution_count": null,
   "metadata": {
    "collapsed": false
   },
   "outputs": [],
   "source": [
    "# input yuour code\n",
    "# x와 y에 결과를 동시에 받는다\n"
   ]
  },
  {
   "cell_type": "markdown",
   "metadata": {},
   "source": [
    "#### 튜플-경로명 다루기_경로명 다루기 예제 따라하기_219p"
   ]
  },
  {
   "cell_type": "code",
   "execution_count": null,
   "metadata": {
    "collapsed": false
   },
   "outputs": [],
   "source": [
    "import os\n",
    "p = os.path.abspath('t.py')  # 상대 경로를 절대 경로로"
   ]
  },
  {
   "cell_type": "code",
   "execution_count": null,
   "metadata": {
    "collapsed": false
   },
   "outputs": [],
   "source": [
    "os.path.exists(p) # 파일의 존재 여부 검사"
   ]
  },
  {
   "cell_type": "code",
   "execution_count": null,
   "metadata": {
    "collapsed": false
   },
   "outputs": [],
   "source": [
    "os.path.getsize(p) # 파일 크기 알아보기"
   ]
  },
  {
   "cell_type": "code",
   "execution_count": null,
   "metadata": {
    "collapsed": false
   },
   "outputs": [],
   "source": [
    "os.path.split(p)   # (head, tail)로 분리. (디렉토리명, 파일명)"
   ]
  },
  {
   "cell_type": "code",
   "execution_count": null,
   "metadata": {
    "collapsed": false
   },
   "outputs": [],
   "source": [
    "your_path=''\n",
    "os.path.join(your_path, 't.txt')  # 디렉토리와 파일명 결합"
   ]
  },
  {
   "cell_type": "code",
   "execution_count": null,
   "metadata": {
    "collapsed": false
   },
   "outputs": [],
   "source": [
    "your_fullpath_filename = ''\n",
    "os.path.splitext(your_fullpath_filename) # 파일 이름과 확장자 분리"
   ]
  },
  {
   "cell_type": "markdown",
   "metadata": {},
   "source": [
    "### 사전"
   ]
  },
  {
   "cell_type": "markdown",
   "metadata": {},
   "source": [
    "#### 사전_연습문제 4_243p"
   ]
  },
  {
   "cell_type": "markdown",
   "metadata": {},
   "source": [
    "##### 사전 {'one':1, 'two':2, 'three':3, 'four:4', 'five':5}이 주어졌을 때,"
   ]
  },
  {
   "cell_type": "markdown",
   "metadata": {},
   "source": [
    "##### 가) 키의 알파벳을 기준으로 순서대로 (키, 값) 쌍을 출력하라. "
   ]
  },
  {
   "cell_type": "code",
   "execution_count": null,
   "metadata": {
    "collapsed": false
   },
   "outputs": [],
   "source": [
    "# input yuour code"
   ]
  },
  {
   "cell_type": "markdown",
   "metadata": {},
   "source": [
    "##### 나) 또 반대로 값을 중심으로부터 작은 값부터 큰 값 순서대로 (키, 값) 쌍을 출력하라."
   ]
  },
  {
   "cell_type": "code",
   "execution_count": null,
   "metadata": {
    "collapsed": false
   },
   "outputs": [],
   "source": [
    "# input yuour code"
   ]
  },
  {
   "cell_type": "markdown",
   "metadata": {},
   "source": [
    "#### 사전_연습문제 7_244p"
   ]
  },
  {
   "cell_type": "markdown",
   "metadata": {},
   "source": [
    "#####  다음 주어진 문자열에서 모든 대문자를 소문자로 변환하고, 문자 ','와 '.'를 없앤 후에 각 단어를 순서대로 출력하시오. 단, 중복적인 한 단어는 한번만 출력되어야 하며 단어가 문자열에서 발생한 횟수도 함께 출력한다."
   ]
  },
  {
   "cell_type": "code",
   "execution_count": null,
   "metadata": {
    "collapsed": false
   },
   "outputs": [],
   "source": [
    "s = 'We propose to start by making it possible to teach programming in Python, an existing scripting language, and to focus on creating a new development environment and teaching materials for it.'"
   ]
  },
  {
   "cell_type": "code",
   "execution_count": null,
   "metadata": {
    "collapsed": false
   },
   "outputs": [],
   "source": [
    "# input yuour code"
   ]
  },
  {
   "cell_type": "markdown",
   "metadata": {},
   "source": [
    "### 파일_ch9"
   ]
  },
  {
   "cell_type": "markdown",
   "metadata": {},
   "source": [
    "#### 파일,파일 쓰기_연습문제 2_284p"
   ]
  },
  {
   "cell_type": "markdown",
   "metadata": {},
   "source": [
    "##### 다음 코드로 출력될 내용을 number.txt에 출력하시오."
   ]
  },
  {
   "cell_type": "code",
   "execution_count": null,
   "metadata": {
    "collapsed": false
   },
   "outputs": [],
   "source": [
    "for k in range(10) :\n",
    "    prnt k"
   ]
  },
  {
   "cell_type": "code",
   "execution_count": null,
   "metadata": {
    "collapsed": false
   },
   "outputs": [],
   "source": [
    "# input yuour code"
   ]
  },
  {
   "cell_type": "markdown",
   "metadata": {},
   "source": [
    "#### 파일,파일 읽기-연습문제 3_284p"
   ]
  },
  {
   "cell_type": "markdown",
   "metadata": {},
   "source": [
    "##### 파일 s.txt에 있는 라인들을 정렬해서 출력하시오. 파일 s.txt의 내용은 다음과 같다."
   ]
  },
  {
   "cell_type": "code",
   "execution_count": null,
   "metadata": {
    "collapsed": false
   },
   "outputs": [],
   "source": [
    "pig ham\n",
    "cat dog\n",
    "ham bird\n",
    "dog pig"
   ]
  },
  {
   "cell_type": "markdown",
   "metadata": {},
   "source": [
    "##### 정렬 후 결과는 다음과 같다"
   ]
  },
  {
   "cell_type": "code",
   "execution_count": null,
   "metadata": {
    "collapsed": false
   },
   "outputs": [],
   "source": [
    "cat dog\n",
    "dog pig\n",
    "ham bird\n",
    "pig ham"
   ]
  },
  {
   "cell_type": "code",
   "execution_count": null,
   "metadata": {
    "collapsed": false
   },
   "outputs": [],
   "source": [
    "# input yuour code"
   ]
  },
  {
   "cell_type": "markdown",
   "metadata": {},
   "source": [
    "#### 파일, 파일 읽기,쓰기_연습문제 4_284p "
   ]
  },
  {
   "cell_type": "markdown",
   "metadata": {},
   "source": [
    "#### 문제 3의 파일을 두 번째 단어를 기준으로 정렬하라. 결과는 다음과 같아야 한다."
   ]
  },
  {
   "cell_type": "code",
   "execution_count": null,
   "metadata": {
    "collapsed": false
   },
   "outputs": [],
   "source": [
    "pig ham cat\n",
    "doc ham bird\n",
    "dog pig"
   ]
  },
  {
   "cell_type": "code",
   "execution_count": null,
   "metadata": {
    "collapsed": false
   },
   "outputs": [],
   "source": [
    "# input yuour code"
   ]
  },
  {
   "cell_type": "markdown",
   "metadata": {},
   "source": [
    "##### 그리고 그 결과를 s2.txt 파일로 저장하라."
   ]
  },
  {
   "cell_type": "code",
   "execution_count": null,
   "metadata": {
    "collapsed": false
   },
   "outputs": [],
   "source": [
    "# input yuour code"
   ]
  },
  {
   "cell_type": "markdown",
   "metadata": {},
   "source": [
    "#### 파일, HTML 문서 읽어서 파일로 저장_연습문제 12_286p"
   ]
  },
  {
   "cell_type": "markdown",
   "metadata": {},
   "source": [
    "#####  하나의 URL을 받아들여서 해당 페이지 및 그 페이지에 연결되어 있는 확장자가 .html인 HTML 파일을 디스크에 저장하시오. 단, 같은 서버에 있는 페이지만 저장하고 파일명은 동일하게 하라. 필요하다면 디렉토리도 같은 구조로 만들어라."
   ]
  },
  {
   "cell_type": "code",
   "execution_count": null,
   "metadata": {
    "collapsed": false
   },
   "outputs": [],
   "source": [
    "# input yuour code"
   ]
  },
  {
   "cell_type": "markdown",
   "metadata": {},
   "source": [
    "### 함수"
   ]
  },
  {
   "cell_type": "markdown",
   "metadata": {},
   "source": [
    "#### 함수, 함수만들기_연습문제 1_327p"
   ]
  },
  {
   "cell_type": "markdown",
   "metadata": {},
   "source": [
    "##### range와 유사한 frange 함수를 만들어라. frange는 실수 리스트를 리턴한다. frange의 기본 시작 값은 0.0이고 기본 단계 값은 0.25이다. frange(5.0), frange(10.0, 3.0, 0.1) 등이 동작하도록 하라"
   ]
  },
  {
   "cell_type": "code",
   "execution_count": null,
   "metadata": {
    "collapsed": false
   },
   "outputs": [],
   "source": [
    "# input yuour code"
   ]
  },
  {
   "cell_type": "markdown",
   "metadata": {},
   "source": [
    "### 클래스_ch12"
   ]
  },
  {
   "cell_type": "markdown",
   "metadata": {},
   "source": [
    "#### 클래스, 클래스 만들기_연습문제 6_464p"
   ]
  },
  {
   "cell_type": "markdown",
   "metadata": {},
   "source": [
    "##### Counter 클래스를 설계하라"
   ]
  },
  {
   "cell_type": "markdown",
   "metadata": {},
   "source": [
    "##### 가) 이 클래스의 생성자는 정수의 초기  값을 받는다. 만일 인수가 주어지지 않으면 초기 값 0을 가진다."
   ]
  },
  {
   "cell_type": "markdown",
   "metadata": {},
   "source": [
    "##### 나) 멤버 step은 카운터 값을 증가시키는 증분이다. 초기 값은 1이다"
   ]
  },
  {
   "cell_type": "markdown",
   "metadata": {},
   "source": [
    "##### 다) 메쏘드 incr을 호출하면 현재의 카운터에서 step만큼 증가한다."
   ]
  },
  {
   "cell_type": "markdown",
   "metadata": {},
   "source": [
    "##### 라) 카운터 값을 문자열로 변환하는 __str__, __rep__ 메쏘드를 추가하라."
   ]
  },
  {
   "cell_type": "markdown",
   "metadata": {},
   "source": [
    "\\>\\>\\> c = Counter() <br>\n",
    "\\>\\>\\> c.incr() <br>\n",
    "\\>\\>\\> c <br>\n",
    "1"
   ]
  },
  {
   "cell_type": "code",
   "execution_count": null,
   "metadata": {
    "collapsed": false
   },
   "outputs": [],
   "source": [
    "# input yuour code"
   ]
  },
  {
   "cell_type": "markdown",
   "metadata": {},
   "source": [
    "## 응용"
   ]
  },
  {
   "cell_type": "markdown",
   "metadata": {},
   "source": [
    "* 응용문제 1 - 엑셀파일 분석\n",
    "* 응용문제 2 - 폴더의 사진 정리\n",
    "* 응용문제 3 - 간단한 웹 크롤링 - 이미지 주소만 추출해서 다운받기"
   ]
  },
  {
   "cell_type": "markdown",
   "metadata": {},
   "source": [
    "### 응용문제 1 - 엑셀파일 분석"
   ]
  },
  {
   "cell_type": "markdown",
   "metadata": {},
   "source": [
    "* person.xls 파일을 파이썬으로 분석한다. (python_basic 폴더에 있음)\n",
    "* (힌트, 엑셀에서 열어서 csv 포맷으로 바꾸면 훨씬 쉬워진다. 물론 엑셀 관련 파이썬 패키지를 사용해도 좋음)"
   ]
  },
  {
   "cell_type": "markdown",
   "metadata": {},
   "source": [
    "##### 1) score의 평균을 구하기"
   ]
  },
  {
   "cell_type": "code",
   "execution_count": null,
   "metadata": {
    "collapsed": false
   },
   "outputs": [],
   "source": [
    "# input yuour code"
   ]
  },
  {
   "cell_type": "markdown",
   "metadata": {},
   "source": [
    "##### 2) 남,녀별 score 평균 구하기"
   ]
  },
  {
   "cell_type": "code",
   "execution_count": null,
   "metadata": {
    "collapsed": false
   },
   "outputs": [],
   "source": [
    "# input yuour code"
   ]
  },
  {
   "cell_type": "markdown",
   "metadata": {},
   "source": [
    "##### 3) 각 email의 값은 비워져있다. 채워넣어보자. 이메일은 '아이디@회사이름.com' 규칙을 따른다.  예를들어 id가 user1이고 회사가 naver이면 그 사람의 email은 user1@naver.com 이다."
   ]
  },
  {
   "cell_type": "code",
   "execution_count": null,
   "metadata": {
    "collapsed": false
   },
   "outputs": [],
   "source": [
    "# input yuour code"
   ]
  },
  {
   "cell_type": "markdown",
   "metadata": {},
   "source": [
    "### 응용문제 2 - 폴더의 사진 정리"
   ]
  },
  {
   "cell_type": "markdown",
   "metadata": {},
   "source": [
    "* iu.zip 압축파일을 풀면 iu사진이 들어있는 폴더가 나온다. (python_basic 폴더에 있음)\n",
    "* 폴더 안에 하위 폴더를 생성해서 사진 파일 포맷별로 정리해보자. \n",
    "* 예를들어 jpg 파일들은 jpg 파일별로 모아서 새로 폴더를 생성해서 그곳에 넣는다.\n",
    "* 예) iu/1.jpg, 2.jpg, 3.jpg --> iu/jpg/1.jpg, 2.jpg, 3.jpg"
   ]
  },
  {
   "cell_type": "code",
   "execution_count": null,
   "metadata": {
    "collapsed": false
   },
   "outputs": [],
   "source": [
    "# input yuour code"
   ]
  },
  {
   "cell_type": "markdown",
   "metadata": {},
   "source": [
    "### 응용문제 3 - 간단한 웹 크롤링 - 이미지 주소만 추출해서 다운받기"
   ]
  },
  {
   "cell_type": "markdown",
   "metadata": {},
   "source": [
    "* 여성 의류 쇼핑몰 사이트 http://www.vanillamint.net이 url의 결과를 읽어들여서, \n",
    "* 그 안에서 이미지 링크만 골라내고, 그 링크를 가지고 이미지만 다운받는 프로그램을 짜보자. \n",
    "* 주의!  해당 사이트에서 이상행동으로 인식하지 못하게, 프로그램에서 이미지를 다운받는 시도는 1~5초 사이로 랜덤하게 지연시간을 꼭 둬야한다. \n",
    "* random 함수와 sleep함수를 사용해보자."
   ]
  },
  {
   "cell_type": "code",
   "execution_count": null,
   "metadata": {
    "collapsed": false
   },
   "outputs": [],
   "source": [
    "# input yuour code"
   ]
  },
  {
   "cell_type": "markdown",
   "metadata": {},
   "source": [
    "## 참고자료 \n",
    "\n",
    " * [1] 파이썬(열혈강의)(개정판 VER.2) - http://freelec.co.kr/book/catalogue_view.asp?UID=37"
   ]
  }
 ],
 "metadata": {
  "kernelspec": {
   "display_name": "Python 2",
   "language": "python",
   "name": "python2"
  },
  "language_info": {
   "codemirror_mode": {
    "name": "ipython",
    "version": 2
   },
   "file_extension": ".py",
   "mimetype": "text/x-python",
   "name": "python",
   "nbconvert_exporter": "python",
   "pygments_lexer": "ipython2",
   "version": "2.7.6"
  }
 },
 "nbformat": 4,
 "nbformat_minor": 0
}
