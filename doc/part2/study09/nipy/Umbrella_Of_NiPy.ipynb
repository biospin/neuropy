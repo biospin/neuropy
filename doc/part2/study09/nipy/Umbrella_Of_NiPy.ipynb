{
 "cells": [
  {
   "cell_type": "markdown",
   "metadata": {},
   "source": [
    "# Nipy : Neuroimaging in Python"
   ]
  },
  {
   "cell_type": "markdown",
   "metadata": {},
   "source": [
    "# Nipy (Community)"
   ]
  },
  {
   "cell_type": "markdown",
   "metadata": {},
   "source": [
    "* http://nipy.org/ Or http://nipy.github.io    "
   ]
  },
  {
   "cell_type": "markdown",
   "metadata": {},
   "source": [
    "## Projects"
   ]
  },
  {
   "cell_type": "markdown",
   "metadata": {},
   "source": [
    "* http://nipy.org/project-directory/\n",
    "* Overview\n",
    "    - File I/O and data management\n",
    "        - Nibabel\n",
    "            - Read / write access to some common neuroimaging file formats.\n",
    "            - http://nipy.org/nibabel/\n",
    "        - Scitran SDM\n",
    "            - SciTran SDM delivers efficient and robust archiving, organization, and sharing of scientific data.\n",
    "            - https://github.com/scitran/sdm\n",
    "    - Functional MRI\n",
    "        - Nilearn\n",
    "            - Nilearn is a Python module for fast and easy statistical learning on NeuroImaging data.\n",
    "            - http://nilearn.github.io/\n",
    "        - Nipy\n",
    "            - NIPY is not only the name of the Neuroimaging in Python community, but also a python project for analysis of structural and functional neuroimaging data.\n",
    "            - http://nipy.org/nipy/\n",
    "        - Nitime\n",
    "            - Nitime is a library for time-series analysis of data from neuroscience experiments.\n",
    "            - http://nipy.org/nitime/\n",
    "        - PyMVPA\n",
    "            - PyMVPA is a Python package intended to ease statistical learning analyses of large datasets.\n",
    "            - http://www.pymvpa.org/\n",
    "    - Diffusion MRI\n",
    "        - Dipy \n",
    "            - Dipy is a free and open source software project focusing mainly on diffusion magnetic resonance imaging (dMRI) analysis.\n",
    "            - http://nipy.org/dipy/\n",
    "    - Human electrophysiology\n",
    "        - MNE\n",
    "            - MNE is a software package for processing magnetoencephalography (MEG) and electroencephalography (EEG) data.\n",
    "            - http://www.martinos.org/mne/stable/index.html\n",
    "    - Analysis pipeline management \n",
    "        - Nipype\n",
    "            - Nipype, an open-source, community-developed initiative under the umbrella of NiPy, is a Python project that provides a uniform interface to existing neuroimaging software and facilitates interaction between these packages within a single workflow.\n",
    "            - http://nipy.org/nipype/"
   ]
  },
  {
   "cell_type": "markdown",
   "metadata": {},
   "source": [
    "# PyMVPA"
   ]
  },
  {
   "cell_type": "markdown",
   "metadata": {},
   "source": [
    "## 설치"
   ]
  },
  {
   "cell_type": "markdown",
   "metadata": {},
   "source": [
    "* http://www.pymvpa.org/installation.html"
   ]
  },
  {
   "cell_type": "markdown",
   "metadata": {},
   "source": [
    "* MacOS X 환경\n",
    "    - git clone git://github.com/PyMVPA/PyMVPA.git\n",
    "    - brew install libsvm\n",
    "    - brew install https://raw.github.com/cobrateam/formulae/master/swig.rb\n",
    "    - cd PyMVPA\n",
    "    - source ~/.venv/neuropy/bin/acitvate\n",
    "    - python setup.py install --with-libsvm\n",
    "    - cp -r mvpa2 ~/.venv/neuropy/lib/python2.7/site-packages"
   ]
  },
  {
   "cell_type": "code",
   "execution_count": 1,
   "metadata": {
    "collapsed": false
   },
   "outputs": [],
   "source": [
    "import mvpa2"
   ]
  },
  {
   "cell_type": "code",
   "execution_count": 2,
   "metadata": {
    "collapsed": false
   },
   "outputs": [
    {
     "name": "stdout",
     "output_type": "stream",
     "text": [
      "WARNING: Failed to load fast implementation of SMLR.  May be you forgotten to build it.  We will use much slower pure-Python version. Original exception was dlopen(/Users/moodern/.venv/neuropy/lib/python2.7/site-packages/mvpa2/clfs/libsmlrc/smlrc.so, 6): image not found\n",
      " * Please note: warnings are printed only once, but underlying problem might occur many times *\n",
      "WARNING: SMLR: C implementation is not available. Using pure Python one\n"
     ]
    }
   ],
   "source": [
    "from mvpa2.tutorial_suite import *"
   ]
  },
  {
   "cell_type": "code",
   "execution_count": null,
   "metadata": {
    "collapsed": true
   },
   "outputs": [],
   "source": []
  }
 ],
 "metadata": {
  "kernelspec": {
   "display_name": "Python 2",
   "language": "python",
   "name": "python2"
  },
  "language_info": {
   "codemirror_mode": {
    "name": "ipython",
    "version": 2
   },
   "file_extension": ".py",
   "mimetype": "text/x-python",
   "name": "python",
   "nbconvert_exporter": "python",
   "pygments_lexer": "ipython2",
   "version": "2.7.6"
  }
 },
 "nbformat": 4,
 "nbformat_minor": 0
}
