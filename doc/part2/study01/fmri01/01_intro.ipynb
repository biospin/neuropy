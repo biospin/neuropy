{
 "cells": [
  {
   "cell_type": "markdown",
   "metadata": {},
   "source": [
    "# Chapter 1. 서론"
   ]
  },
  {
   "cell_type": "markdown",
   "metadata": {},
   "source": [
    "* 뉴로파이썬 - 파트 2\n",
    "* 김무성"
   ]
  },
  {
   "cell_type": "markdown",
   "metadata": {},
   "source": [
    "# fMRI 데이터 분석의 이해 "
   ]
  },
  {
   "cell_type": "markdown",
   "metadata": {},
   "source": [
    "* http://www.fmri-data-analysis.org/"
   ]
  },
  {
   "cell_type": "markdown",
   "metadata": {},
   "source": [
    "## 목차\n",
    "\n",
    "* Chapter 1. 서론\n",
    "* Chapter 2. 영상 처리의 기초\n",
    "* Chapter 3. fMRI 데이터의 전처리\n",
    "* Chapter 4. 공간적 표준화\n",
    "* Chapter 5. 통계적 모형화 : 단일 피험자 분석\n",
    "* Chapter 6. 통계적 모형화 : 집단분석\n",
    "* Chapter 7. 영상에 대한 통계적 추론\n",
    "* Chapter 8. 뇌 연결성 모형화\n",
    "* Chapter 9. 다중복셀 패턴 분석과 기계학습\n",
    "* Chapter 10. fMRI 데이터의 시각화, 국지화 및 보고 "
   ]
  },
  {
   "cell_type": "markdown",
   "metadata": {},
   "source": [
    "# Chapter 1. 서론"
   ]
  },
  {
   "cell_type": "markdown",
   "metadata": {},
   "source": [
    "1. fMRI의 간략한 개관\n",
    "2. 인지신경과학의 출현\n",
    "3. fMRI 분석의 대략적 역사\n",
    "4. fMRI 분석의 주요 요소\n",
    "5. fMRI 분석을 위한 소프트웨어 패키지\n",
    "6. 소프트웨어 패키지 선택하기\n",
    "7. 처리과정 흐름의 개관\n",
    "8. fMRI 분석을 위한 필수 기초 지식"
   ]
  },
  {
   "cell_type": "markdown",
   "metadata": {},
   "source": [
    "# 1. fMRI의 간략한 개관"
   ]
  },
  {
   "cell_type": "markdown",
   "metadata": {},
   "source": [
    "* 1) 혈류와 신경세포 활동\n",
    "* 2) 자기공명영상(MRI)"
   ]
  },
  {
   "cell_type": "markdown",
   "metadata": {},
   "source": [
    "<img src=\"figures/fig1.1.png\" width=600 />"
   ]
  },
  {
   "cell_type": "markdown",
   "metadata": {},
   "source": [
    "## 1) 혈류와 신경세포 활동"
   ]
  },
  {
   "cell_type": "markdown",
   "metadata": {},
   "source": [
    "<img src=\"figures/fig1.2.png\" width=600 />"
   ]
  },
  {
   "cell_type": "markdown",
   "metadata": {},
   "source": [
    "## 2) 자기공명영상(MRI)"
   ]
  },
  {
   "cell_type": "markdown",
   "metadata": {},
   "source": [
    "# 2. 인지신경과학의 출현"
   ]
  },
  {
   "cell_type": "markdown",
   "metadata": {},
   "source": [
    "# 3. fMRI 분석의 대략적 역사"
   ]
  },
  {
   "cell_type": "markdown",
   "metadata": {},
   "source": [
    "<img src=\"figures/fig1.3.png\" width=600 />"
   ]
  },
  {
   "cell_type": "markdown",
   "metadata": {},
   "source": [
    "# 4. fMRI 분석의 주요 요소"
   ]
  },
  {
   "cell_type": "markdown",
   "metadata": {},
   "source": [
    "* 질적 통제(quality contral)\n",
    "* 왜곡 보정(distortion conrrection)\n",
    "* 움직임 보정(motion correction)\n",
    "* 절편 타이밍 보정(slice timing correction)\n",
    "* 공간적 표준화(spatial normalization)\n",
    "* 공간적 편평화(spatial smoothing)\n",
    "* 시간적 필터링(temporal filtering)\n",
    "* 통계적 모형화(statistical modeling)\n",
    "* 통계적 추론(statistical inference)\n",
    "* 시각화(visualization)"
   ]
  },
  {
   "cell_type": "markdown",
   "metadata": {},
   "source": [
    "# 5. fMRI 분석을 위한 소프트웨어 패키지"
   ]
  },
  {
   "cell_type": "markdown",
   "metadata": {},
   "source": [
    "* 1) SPM\n",
    "* 2) FSL\n",
    "* 3) AFNI\n",
    "* 4) 다른 중요한 소프트웨어"
   ]
  },
  {
   "cell_type": "markdown",
   "metadata": {},
   "source": [
    "<img src=\"figures/tbl1.1.png\" width=600 />"
   ]
  },
  {
   "cell_type": "markdown",
   "metadata": {},
   "source": [
    "## 1) SPM"
   ]
  },
  {
   "cell_type": "markdown",
   "metadata": {},
   "source": [
    "## 2) FSL"
   ]
  },
  {
   "cell_type": "markdown",
   "metadata": {},
   "source": [
    "## 3) AFNI"
   ]
  },
  {
   "cell_type": "markdown",
   "metadata": {},
   "source": [
    "## 4) 다른 중요한 소프트웨어"
   ]
  },
  {
   "cell_type": "markdown",
   "metadata": {},
   "source": [
    "* BrainVoyager\n",
    "* FreeSurfer"
   ]
  },
  {
   "cell_type": "markdown",
   "metadata": {},
   "source": [
    "# 6. 소프트웨어 패키지 선택하기"
   ]
  },
  {
   "cell_type": "markdown",
   "metadata": {},
   "source": [
    "# 7. 처리과정 흐름의 개관"
   ]
  },
  {
   "cell_type": "markdown",
   "metadata": {},
   "source": [
    "<img src=\"figures/fig1.4.png\" width=600 />"
   ]
  },
  {
   "cell_type": "markdown",
   "metadata": {},
   "source": [
    "# 8. fMRI 분석을 위한 필수 기초 지식"
   ]
  },
  {
   "cell_type": "markdown",
   "metadata": {},
   "source": [
    "* 확률과 통계\n",
    "* 컴퓨터 프로그래밍\n",
    "* 선형대수학\n",
    "* 자기공명영상\n",
    "* 신경생리학과 생물물리학\n",
    "* 신호 및 영상 처리"
   ]
  },
  {
   "cell_type": "markdown",
   "metadata": {},
   "source": [
    "# 참고자료"
   ]
  },
  {
   "cell_type": "markdown",
   "metadata": {},
   "source": [
    "* [1] fMRI 데이터 분석의 이해 - http://www.kyobobook.co.kr/product/detailViewKor.laf?ejkGb=KOR&mallGb=KOR&barcode=978899970581\n",
    "* [2] Handbook of Functional MRI Analysis - http://www.fmri-data-analysis.org/home"
   ]
  }
 ],
 "metadata": {
  "kernelspec": {
   "display_name": "Python 2",
   "language": "python",
   "name": "python2"
  },
  "language_info": {
   "codemirror_mode": {
    "name": "ipython",
    "version": 2
   },
   "file_extension": ".py",
   "mimetype": "text/x-python",
   "name": "python",
   "nbconvert_exporter": "python",
   "pygments_lexer": "ipython2",
   "version": "2.7.6"
  }
 },
 "nbformat": 4,
 "nbformat_minor": 0
}
