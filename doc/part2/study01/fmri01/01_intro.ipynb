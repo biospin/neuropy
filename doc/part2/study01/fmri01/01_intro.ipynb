{
 "cells": [
  {
   "cell_type": "markdown",
   "metadata": {},
   "source": [
    "# Chapter 1. 서론"
   ]
  },
  {
   "cell_type": "markdown",
   "metadata": {},
   "source": [
    "* 뉴로파이썬 - 파트 2\n",
    "* 김무성"
   ]
  },
  {
   "cell_type": "markdown",
   "metadata": {},
   "source": [
    "# fMRI 데이터 분석의 이해 "
   ]
  },
  {
   "cell_type": "markdown",
   "metadata": {},
   "source": [
    "* http://www.fmri-data-analysis.org/"
   ]
  },
  {
   "cell_type": "markdown",
   "metadata": {},
   "source": [
    "## 목차\n",
    "\n",
    "* Chapter 1. 서론\n",
    "* Chapter 2. 영상 처리의 기초\n",
    "* Chapter 3. fMRI 데이터의 전처리\n",
    "* Chapter 4. 공간적 표준화\n",
    "* Chapter 5. 통계적 모형화 : 단일 피험자 분석\n",
    "* Chapter 6. 통계적 모형화 : 집단분석\n",
    "* Chapter 7. 영상에 대한 통계적 추론\n",
    "* Chapter 8. 뇌 연결성 모형화\n",
    "* Chapter 9. 다중복셀 패턴 분석과 기계학습\n",
    "* Chapter 10. fMRI 데이터의 시각화, 국지화 및 보고 "
   ]
  },
  {
   "cell_type": "markdown",
   "metadata": {},
   "source": [
    "# Chapter 1. 서론"
   ]
  },
  {
   "cell_type": "markdown",
   "metadata": {},
   "source": [
    "1. fMRI의 간략한 개관\n",
    "2. 인지신경과학의 출현\n",
    "3. fMRI 분석의 대략적 역사\n",
    "4. fMRI 분석의 주요 요소\n",
    "5. fMRI 분석을 위한 소프트웨어 패키지\n",
    "6. 소프트웨어 패키지 선택하기\n",
    "7. 처리과정 흐름의 개관\n",
    "8. fMRI 분석을 위한 필수 기초 지식"
   ]
  },
  {
   "cell_type": "markdown",
   "metadata": {},
   "source": [
    "# 1. fMRI의 간략한 개관"
   ]
  },
  {
   "cell_type": "markdown",
   "metadata": {},
   "source": [
    "* 1) 혈류와 신경세포 활동\n",
    "* 2) 자기공명영상(MRI)"
   ]
  },
  {
   "cell_type": "markdown",
   "metadata": {},
   "source": [
    "<img src=\"figures/fig1.1.png\" width=600 />"
   ]
  },
  {
   "cell_type": "markdown",
   "metadata": {},
   "source": [
    "### 참고 [3, 4]"
   ]
  },
  {
   "cell_type": "markdown",
   "metadata": {},
   "source": [
    "* fMRI?"
   ]
  },
  {
   "cell_type": "markdown",
   "metadata": {},
   "source": [
    "<img src=\"http://pauluslab.ucsd.edu/assets/site/images/fmri.jpg\" width=600 />"
   ]
  },
  {
   "cell_type": "markdown",
   "metadata": {},
   "source": [
    "<img src=\"http://web.csulb.edu/~cwallis/482/fmri/fmri.h1.gif\" width=600 />"
   ]
  },
  {
   "cell_type": "markdown",
   "metadata": {},
   "source": [
    "<img src=\"http://web.csulb.edu/~cwallis/482/fmri/fmri.h2.gif\" width=600 />"
   ]
  },
  {
   "cell_type": "markdown",
   "metadata": {},
   "source": [
    "<img src=\"http://web.csulb.edu/~cwallis/482/fmri/fmri.h3.gif\" width=600 />"
   ]
  },
  {
   "cell_type": "markdown",
   "metadata": {},
   "source": [
    "* Magnetic Resonance?"
   ]
  },
  {
   "cell_type": "markdown",
   "metadata": {},
   "source": [
    "## 1) 혈류와 신경세포 활동"
   ]
  },
  {
   "cell_type": "markdown",
   "metadata": {},
   "source": [
    "* 혈류역학 반응(Hemodynamic Response)은 느리다.\n",
    "* 혈류역학 반응은 근사적으로 선형적 시불변(linear time-invariant) 시스템으로 간주될 수 있다.\n",
    "    - 선형성(linearity)을 가진다 = 긴 일련의 신경세포 활동은 짧은 시간동안 발생하는 활동에 대한 반응들의 합이다\n",
    "    - 선형성을 이용하여 신호의 시간추이를 기술하는 직접적인 통계적 모형을 만들 수 있다 -> 컨벌루션(Convolution) 적용"
   ]
  },
  {
   "cell_type": "markdown",
   "metadata": {},
   "source": [
    "<img src=\"figures/fig1.2.png\" width=600 />"
   ]
  },
  {
   "cell_type": "markdown",
   "metadata": {},
   "source": [
    "### 참고 [2, 5, 6, 7, 8]"
   ]
  },
  {
   "cell_type": "markdown",
   "metadata": {},
   "source": [
    "* BOLD(Blood Oxygenation Level Dependent) 신호?"
   ]
  },
  {
   "cell_type": "markdown",
   "metadata": {},
   "source": [
    "<img src=\"http://www.bric.ed.ac.uk/images/research/functional-fig2.jpg\" />"
   ]
  },
  {
   "cell_type": "markdown",
   "metadata": {},
   "source": [
    "<img src=\"figures/fig5.1.png\" width=600 />"
   ]
  },
  {
   "cell_type": "markdown",
   "metadata": {},
   "source": [
    "* HRF(Hemodynamic Response Function)?"
   ]
  },
  {
   "cell_type": "markdown",
   "metadata": {},
   "source": [
    "<img src=\"http://cfile3.uf.tistory.com/image/1913BA4B4FE5E5FD09AA73\" />"
   ]
  },
  {
   "cell_type": "markdown",
   "metadata": {},
   "source": [
    "* LTI(Linear Time Invariant System)?"
   ]
  },
  {
   "cell_type": "markdown",
   "metadata": {},
   "source": [
    "<img src=\"http://upload.wikimedia.org/wikipedia/commons/thumb/f/f5/LTI.png/320px-LTI.png\" />"
   ]
  },
  {
   "cell_type": "markdown",
   "metadata": {},
   "source": [
    "## 2) 자기공명영상(MRI)"
   ]
  },
  {
   "cell_type": "markdown",
   "metadata": {},
   "source": [
    "<img src=\"http://web.csulb.edu/~cwallis/482/fmri/helium-anim.gif\" />"
   ]
  },
  {
   "cell_type": "markdown",
   "metadata": {},
   "source": [
    "<img src=\"http://web.csulb.edu/~cwallis/482/fmri/process/processani.gif\" />"
   ]
  },
  {
   "cell_type": "markdown",
   "metadata": {},
   "source": [
    "* T1? T2? - http://structure.yonsei.ac.kr/docu/MRI_.pptx"
   ]
  },
  {
   "cell_type": "markdown",
   "metadata": {},
   "source": [
    "<img src=\"http://web.csulb.edu/~cwallis/482/fmri/trani.gif\" />"
   ]
  },
  {
   "cell_type": "markdown",
   "metadata": {},
   "source": [
    "# 2. 인지신경과학의 출현"
   ]
  },
  {
   "cell_type": "markdown",
   "metadata": {},
   "source": [
    "### 참고 [7]"
   ]
  },
  {
   "cell_type": "markdown",
   "metadata": {},
   "source": [
    "<img src=\"http://www.nature.com/nature/journal/v468/n7321/images/nature09569-f1.2.jpg\" width=600 />"
   ]
  },
  {
   "cell_type": "markdown",
   "metadata": {},
   "source": [
    "# 3. fMRI 분석의 대략적 역사"
   ]
  },
  {
   "cell_type": "markdown",
   "metadata": {},
   "source": [
    "<img src=\"figures/fig1.3.png\" width=600 />"
   ]
  },
  {
   "cell_type": "markdown",
   "metadata": {},
   "source": [
    "* PET\n",
    "* t-test\n",
    "* paired t-test\n",
    "* event-related design\n",
    "* BOLD\n",
    "* HRF\n",
    "* LTI\n",
    "* GLM(General Linear Model)\n",
    "* BOLD noise\n",
    "* drift(= low frequency)\n",
    "* nuisance regressor\n",
    "* temporal autocorrelation\n",
    "* fiexed effect model\n",
    "* mixed effect model\n",
    "* multi-voxel pattern analysis\n",
    "* pattern information analysis = machine learning"
   ]
  },
  {
   "cell_type": "markdown",
   "metadata": {},
   "source": [
    "# 4. fMRI 분석의 주요 요소"
   ]
  },
  {
   "cell_type": "markdown",
   "metadata": {},
   "source": [
    "* #### 질적 통제(quality contral)\n",
    "    - 데이터가 인공결함에 의해 오염되지 않도록 확인하는 것\n",
    "* #### 왜곡 보정(distortion conrrection)\n",
    "    - fMRI 영상에 흔히 나타나는 공간적 왜곡의 보정\n",
    "* #### 움직임 보정(motion correction)\n",
    "    - 머리 움직임을 보정하기 위해 시간을 가로질러 영상을 재배치하는 것\n",
    "* #### 절편 타이밍 보정(slice timing correction)\n",
    "    - 이미지의 다른 절편들에 걸친 획득 시간의 차이를 보정하는 것\n",
    "* #### 공간적 표준화(spatial normalization)\n",
    "    - 서로 다른 개인으로부터 획득한 데이터를 공통의 공간적 틀로 배치함으로써 그 데이터가 집단분석을 위해 결합될 수 있도록 하는 것\n",
    "* #### 공간적 편평화(spatial smoothing)\n",
    "    - 잡음을 줄이기 위해 데이터를 의도적으로 희미해지게 만드는 것\n",
    "* #### 시간적 필터링(temporal filtering)\n",
    "    - 저주파 잡음을 제거하기 위해 시간측에서 데이터를 걸러 내는 것\n",
    "* #### 통계적 모형화(statistical modeling)\n",
    "    - 하나의 과제 혹은 자극에 대한 반응을 추정하기 위해 통계적 모형을 데이터에 맞추는 것\n",
    "* #### 통계적 추론(statistical inference)\n",
    "    - 결과의 통계적 유의성에 대한 추정으로, 전체 뇌에 걸쳐 수행되는 많은 수의 통계 검증들에 대한 보정을 포함하는 과정\n",
    "* #### 시각화(visualization)\n",
    "    - 결과에 대한 시각화와 효과크기에 대한 추정을 하는 것"
   ]
  },
  {
   "cell_type": "markdown",
   "metadata": {},
   "source": [
    "# 5. fMRI 분석을 위한 소프트웨어 패키지"
   ]
  },
  {
   "cell_type": "markdown",
   "metadata": {},
   "source": [
    "* 1) SPM\n",
    "* 2) FSL\n",
    "* 3) AFNI\n",
    "* 4) 다른 중요한 소프트웨어"
   ]
  },
  {
   "cell_type": "markdown",
   "metadata": {},
   "source": [
    "<img src=\"figures/tbl1.1.png\" width=600 />"
   ]
  },
  {
   "cell_type": "markdown",
   "metadata": {},
   "source": [
    "## 1) SPM"
   ]
  },
  {
   "cell_type": "markdown",
   "metadata": {},
   "source": [
    "* http://www.fil.ion.ucl.ac.uk/spm/"
   ]
  },
  {
   "cell_type": "code",
   "execution_count": 1,
   "metadata": {
    "collapsed": false
   },
   "outputs": [
    {
     "data": {
      "text/html": [
       "<iframe src=http://www.fil.ion.ucl.ac.uk/spm/ width=700 height=350></iframe>"
      ],
      "text/plain": [
       "<IPython.core.display.HTML object>"
      ]
     },
     "execution_count": 1,
     "metadata": {},
     "output_type": "execute_result"
    }
   ],
   "source": [
    "from IPython.display import HTML\n",
    "HTML('<iframe src=http://www.fil.ion.ucl.ac.uk/spm/ width=700 height=350></iframe>')"
   ]
  },
  {
   "cell_type": "markdown",
   "metadata": {},
   "source": [
    "## 2) FSL"
   ]
  },
  {
   "cell_type": "markdown",
   "metadata": {},
   "source": [
    "* http://fsl.fmrib.ox.ac.uk/fsl/fslwiki/"
   ]
  },
  {
   "cell_type": "code",
   "execution_count": 3,
   "metadata": {
    "collapsed": false
   },
   "outputs": [
    {
     "data": {
      "text/html": [
       "<iframe src=http://fsl.fmrib.ox.ac.uk/fsl/fslwiki/ width=700 height=350></iframe>"
      ],
      "text/plain": [
       "<IPython.core.display.HTML object>"
      ]
     },
     "execution_count": 3,
     "metadata": {},
     "output_type": "execute_result"
    }
   ],
   "source": [
    "HTML('<iframe src=http://fsl.fmrib.ox.ac.uk/fsl/fslwiki/ width=700 height=350></iframe>')"
   ]
  },
  {
   "cell_type": "markdown",
   "metadata": {},
   "source": [
    "## 3) AFNI"
   ]
  },
  {
   "cell_type": "markdown",
   "metadata": {},
   "source": [
    "* http://afni.nimh.nih.gov/afni/"
   ]
  },
  {
   "cell_type": "code",
   "execution_count": 4,
   "metadata": {
    "collapsed": false
   },
   "outputs": [
    {
     "data": {
      "text/html": [
       "<iframe src=http://afni.nimh.nih.gov/afni/ width=700 height=350></iframe>"
      ],
      "text/plain": [
       "<IPython.core.display.HTML object>"
      ]
     },
     "execution_count": 4,
     "metadata": {},
     "output_type": "execute_result"
    }
   ],
   "source": [
    "HTML('<iframe src=http://afni.nimh.nih.gov/afni/ width=700 height=350></iframe>')"
   ]
  },
  {
   "cell_type": "markdown",
   "metadata": {},
   "source": [
    "## 4) 다른 중요한 소프트웨어"
   ]
  },
  {
   "cell_type": "markdown",
   "metadata": {},
   "source": [
    "* BrainVoyager\n",
    "    - http://www.brainvoyager.com/\n",
    "* FreeSurfer\n",
    "    - http://freesurfer.net/"
   ]
  },
  {
   "cell_type": "markdown",
   "metadata": {},
   "source": [
    "# 6. 소프트웨어 패키지 선택하기"
   ]
  },
  {
   "cell_type": "markdown",
   "metadata": {},
   "source": [
    "# 7. 처리과정 흐름의 개관"
   ]
  },
  {
   "cell_type": "markdown",
   "metadata": {},
   "source": [
    "<img src=\"figures/fig1.4.png\" width=600 />"
   ]
  },
  {
   "cell_type": "markdown",
   "metadata": {},
   "source": [
    "# 8. fMRI 분석을 위한 필수 기초 지식"
   ]
  },
  {
   "cell_type": "markdown",
   "metadata": {},
   "source": [
    "* 확률과 통계\n",
    "* 컴퓨터 프로그래밍\n",
    "* 선형대수학\n",
    "* 자기공명영상\n",
    "* 신경생리학과 생물물리학\n",
    "* 신호 및 영상 처리"
   ]
  },
  {
   "cell_type": "markdown",
   "metadata": {},
   "source": [
    "# 참고자료"
   ]
  },
  {
   "cell_type": "markdown",
   "metadata": {},
   "source": [
    "* [1] fMRI 데이터 분석의 이해 - http://www.kyobobook.co.kr/product/detailViewKor.laf?ejkGb=KOR&mallGb=KOR&barcode=978899970581\n",
    "* [2] Handbook of Functional MRI Analysis - http://www.fmri-data-analysis.org/home\n",
    "* [3] FMRI Functional Magnetic Resonance Imaging Lab - http://web.csulb.edu/~cwallis/482/fmri/fmri.html\n",
    "* [4] MRI의 기본 원리 - http://structure.yonsei.ac.kr/docu/MRI_.pptx \n",
    "* [5] The BOLD contrast - http://www.bric.ed.ac.uk/research/techniques/functional.html\n",
    "* [6] BOLD 신호의 원리 - http://ddiri01.tistory.com/79\n",
    "* [7] LTI system theory - http://en.wikipedia.org/wiki/LTI_system_theory\n",
    "* [8] Linear Time Invariant System 선형시불변 시스템, 선형 시불변, LTI 채널, LTI 시스템 -http://www.ktword.co.kr/abbr_view.php?m_temp1=1533\n",
    "* [7] Functional neuroimaging methods and their temporal and spatial resolution - http://www.nature.com/nature/journal/v468/n7321/fig_tab/nature09569_F1.html"
   ]
  }
 ],
 "metadata": {
  "kernelspec": {
   "display_name": "Python 2",
   "language": "python",
   "name": "python2"
  },
  "language_info": {
   "codemirror_mode": {
    "name": "ipython",
    "version": 2
   },
   "file_extension": ".py",
   "mimetype": "text/x-python",
   "name": "python",
   "nbconvert_exporter": "python",
   "pygments_lexer": "ipython2",
   "version": "2.7.6"
  }
 },
 "nbformat": 4,
 "nbformat_minor": 0
}
