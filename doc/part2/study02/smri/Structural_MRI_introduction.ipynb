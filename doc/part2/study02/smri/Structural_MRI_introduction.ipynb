{
 "cells": [
  {
   "cell_type": "markdown",
   "metadata": {
    "slideshow": {
     "slide_type": "slide"
    }
   },
   "source": [
    "# Neuroimaging : \n",
    "<br>\n",
    "# Structural MRI introduction\n",
    "<br><br>\n",
    "\n",
    "### 조강익"
   ]
  },
  {
   "cell_type": "markdown",
   "metadata": {
    "slideshow": {
     "slide_type": "subslide"
    }
   },
   "source": [
    "- Jupyter presentation : https://github.com/damianavila/RISE"
   ]
  },
  {
   "cell_type": "code",
   "execution_count": 48,
   "metadata": {
    "collapsed": false,
    "slideshow": {
     "slide_type": "skip"
    }
   },
   "outputs": [
    {
     "name": "stdout",
     "output_type": "stream",
     "text": [
      "Populating the interactive namespace from numpy and matplotlib\n"
     ]
    },
    {
     "name": "stderr",
     "output_type": "stream",
     "text": [
      "WARNING: pylab import has clobbered these variables: ['interactive']\n",
      "`%matplotlib` prevents importing * from pylab and numpy\n"
     ]
    }
   ],
   "source": [
    "#inside an IPython notebook\n",
    "from IPython.html.widgets import interact, interactive, fixed\n",
    "from IPython.html import widgets\n",
    "from IPython.display import clear_output, display, HTML\n",
    "\n",
    "%pylab inline\n",
    "\n",
    "def show_image(x, y, z, path ):\n",
    "    import nibabel as nb\n",
    "    import numpy as np\n",
    "    import matplotlib.pyplot as plt\n",
    "    img = nb.load(path)\n",
    "    img_data = img.get_data()\n",
    "    \n",
    "    fig = plt.figure(figsize = (20, 20)) \n",
    "    plt.subplot(1, 3, 1)\n",
    "    plt.imshow(np.rot90(img_data[:,:,z]),\n",
    "                        cmap = plt.cm.gray,\n",
    "                        interpolation = 'nearest'\n",
    "                        )\n",
    "    plt.subplot(1, 3, 2)\n",
    "    plt.imshow(np.rot90(img_data[:,y,:]),\n",
    "                        cmap = plt.cm.gray,\n",
    "                        interpolation = 'nearest'\n",
    "                        )\n",
    "    plt.subplot(1, 3, 3)\n",
    "    plt.imshow(np.rot90(img_data[x,:,:]),\n",
    "                        cmap = plt.cm.gray,\n",
    "                        interpolation = 'nearest'\n",
    "                        )\n",
    "    \n",
    "    \n",
    "import matplotlib as mpl"
   ]
  },
  {
   "cell_type": "markdown",
   "metadata": {
    "slideshow": {
     "slide_type": "slide"
    }
   },
   "source": [
    "# Contents"
   ]
  },
  {
   "cell_type": "markdown",
   "metadata": {
    "slideshow": {
     "slide_type": "subslide"
    }
   },
   "source": [
    "- MRI scan session"
   ]
  },
  {
   "cell_type": "markdown",
   "metadata": {
    "slideshow": {
     "slide_type": "subslide"
    }
   },
   "source": [
    "- Structural image\n",
    "    - Types\n",
    "    - Preproessing\n",
    "    - Use"
   ]
  },
  {
   "cell_type": "markdown",
   "metadata": {
    "slideshow": {
     "slide_type": "subslide"
    }
   },
   "source": [
    "- 실습"
   ]
  },
  {
   "cell_type": "markdown",
   "metadata": {
    "slideshow": {
     "slide_type": "slide"
    }
   },
   "source": [
    "# MRI scan session"
   ]
  },
  {
   "cell_type": "markdown",
   "metadata": {
    "slideshow": {
     "slide_type": "subslide"
    }
   },
   "source": [
    "<img src=\"http://www.fairview.org/fv/groups/public/documents/images/95150.jpg\" width=600>\n",
    "<img source : http://www.fairview.org/fv/groups/public/documents/images/95150.jpg>"
   ]
  },
  {
   "cell_type": "markdown",
   "metadata": {
    "slideshow": {
     "slide_type": "subslide"
    }
   },
   "source": [
    "## Optimal MRI scan session sequence"
   ]
  },
  {
   "cell_type": "markdown",
   "metadata": {
    "collapsed": true,
    "slideshow": {
     "slide_type": "fragment"
    }
   },
   "source": [
    "- Localizer (Scout)"
   ]
  },
  {
   "cell_type": "markdown",
   "metadata": {
    "slideshow": {
     "slide_type": "fragment"
    }
   },
   "source": [
    "- Structural image"
   ]
  },
  {
   "cell_type": "markdown",
   "metadata": {
    "slideshow": {
     "slide_type": "fragment"
    }
   },
   "source": [
    "- Field map"
   ]
  },
  {
   "cell_type": "markdown",
   "metadata": {
    "slideshow": {
     "slide_type": "subslide"
    }
   },
   "source": [
    "- Functional image"
   ]
  },
  {
   "cell_type": "markdown",
   "metadata": {
    "slideshow": {
     "slide_type": "fragment"
    }
   },
   "source": [
    "- Diffusion weighted image"
   ]
  },
  {
   "cell_type": "markdown",
   "metadata": {
    "slideshow": {
     "slide_type": "fragment"
    }
   },
   "source": [
    "- Extra images"
   ]
  },
  {
   "cell_type": "markdown",
   "metadata": {
    "slideshow": {
     "slide_type": "slide"
    }
   },
   "source": [
    "## Problems"
   ]
  },
  {
   "cell_type": "markdown",
   "metadata": {
    "slideshow": {
     "slide_type": "subslide"
    }
   },
   "source": [
    "- 정보\n",
    "    - 시력\n",
    "    - 설문지\n",
    "    - Consent forms\n",
    "- 안심시켜야함\n",
    "<img src=\"http://www.mnc.umd.edu/sites/default/files/images/facilities/mri-2.png\" width=1000>\n"
   ]
  },
  {
   "cell_type": "markdown",
   "metadata": {
    "slideshow": {
     "slide_type": "subslide"
    }
   },
   "source": [
    "- MRI 선생님\n",
    "    - 실무자의 파워\n",
    "        - Data quality\n",
    "        - Expensive sessions\n"
   ]
  },
  {
   "cell_type": "markdown",
   "metadata": {
    "slideshow": {
     "slide_type": "subslide"
    }
   },
   "source": [
    "- 피험자 움직임\n",
    "    - \"움직이면 쏜다...\"\n"
   ]
  },
  {
   "cell_type": "markdown",
   "metadata": {
    "slideshow": {
     "slide_type": "subslide"
    }
   },
   "source": [
    "<img src=\"http://www.elec.canterbury.ac.nz/research/imaging/graphics/mri_pair.jpg\" width=700>"
   ]
  },
  {
   "cell_type": "markdown",
   "metadata": {
    "slideshow": {
     "slide_type": "subslide"
    }
   },
   "source": [
    "- 데이타 체크 및 백업\n",
    "    - 잘린부분\n",
    "    - motion\n",
    "    - missing files"
   ]
  },
  {
   "cell_type": "markdown",
   "metadata": {
    "slideshow": {
     "slide_type": "slide"
    }
   },
   "source": [
    "## Practical MRI scan session"
   ]
  },
  {
   "cell_type": "markdown",
   "metadata": {
    "slideshow": {
     "slide_type": "fragment"
    }
   },
   "source": [
    "* **공손하게 인사**\n"
   ]
  },
  {
   "cell_type": "markdown",
   "metadata": {
    "slideshow": {
     "slide_type": "subslide"
    }
   },
   "source": [
    "* **Consent forms + other information collection**"
   ]
  },
  {
   "cell_type": "markdown",
   "metadata": {
    "slideshow": {
     "slide_type": "subslide"
    }
   },
   "source": [
    "* **Remove metal / eye sight test**"
   ]
  },
  {
   "cell_type": "markdown",
   "metadata": {
    "slideshow": {
     "slide_type": "fragment"
    }
   },
   "source": [
    "* **Explain how important it is to stay still during scans**"
   ]
  },
  {
   "cell_type": "markdown",
   "metadata": {
    "slideshow": {
     "slide_type": "subslide"
    }
   },
   "source": [
    "- Localizer (Scout)\n",
    "- Structural image\n",
    "- Field map"
   ]
  },
  {
   "cell_type": "markdown",
   "metadata": {
    "slideshow": {
     "slide_type": "fragment"
    }
   },
   "source": [
    "- **Data check**"
   ]
  },
  {
   "cell_type": "markdown",
   "metadata": {
    "slideshow": {
     "slide_type": "fragment"
    }
   },
   "source": [
    "* **Explain how important it is to stay still during scans**"
   ]
  },
  {
   "cell_type": "markdown",
   "metadata": {
    "slideshow": {
     "slide_type": "fragment"
    }
   },
   "source": [
    "- Functional image\n",
    "- Diffusion weighted image\n",
    "- Extra images\n",
    "- **Data collection**"
   ]
  },
  {
   "cell_type": "markdown",
   "metadata": {
    "slideshow": {
     "slide_type": "slide"
    }
   },
   "source": [
    "#GIGO"
   ]
  },
  {
   "cell_type": "code",
   "execution_count": 1,
   "metadata": {
    "collapsed": false,
    "slideshow": {
     "slide_type": "fragment"
    }
   },
   "outputs": [
    {
     "data": {
      "text/html": [
       "\n",
       "        <iframe\n",
       "            width=\"1000\"\n",
       "            height=\"350\"\n",
       "            src=\"http://en.wikipedia.org/wiki/Garbage_in,_garbage_out\"\n",
       "            frameborder=\"0\"\n",
       "            allowfullscreen\n",
       "        ></iframe>\n",
       "        "
      ],
      "text/plain": [
       "<IPython.lib.display.IFrame at 0x102fea450>"
      ]
     },
     "execution_count": 1,
     "metadata": {},
     "output_type": "execute_result"
    }
   ],
   "source": [
    "from IPython.display import IFrame\n",
    "IFrame('http://en.wikipedia.org/wiki/Garbage_in,_garbage_out', width=1000, height=350)"
   ]
  },
  {
   "cell_type": "markdown",
   "metadata": {
    "slideshow": {
     "slide_type": "slide"
    }
   },
   "source": [
    "## Structural image"
   ]
  },
  {
   "cell_type": "markdown",
   "metadata": {
    "slideshow": {
     "slide_type": "subslide"
    }
   },
   "source": [
    "## Resolution\n",
    "\n",
    "- High spatial resolution\n",
    "\n",
    "<img src=\"http://www.nzbri.org/research/labs/mristatic/web_3TMRI_html_m3cf3a36c.jpg\" width=600>"
   ]
  },
  {
   "cell_type": "markdown",
   "metadata": {
    "slideshow": {
     "slide_type": "subslide"
    }
   },
   "source": [
    "fMRI\n",
    "<img src=\"http://www.psychology.gatech.edu/cabi/Resources/Protocols/images/fmri.jpg\" width=600>"
   ]
  },
  {
   "cell_type": "markdown",
   "metadata": {
    "slideshow": {
     "slide_type": "slide"
    }
   },
   "source": [
    "## Different types of sMRI"
   ]
  },
  {
   "cell_type": "markdown",
   "metadata": {
    "slideshow": {
     "slide_type": "subslide"
    }
   },
   "source": [
    "- T1 & T2\n",
    "<img src=\"http://cfile27.uf.tistory.com/image/133C254E4E5C96AE35D7AF\" width=600>\n",
    "<br><br><br><br>\n"
   ]
  },
  {
   "cell_type": "markdown",
   "metadata": {
    "slideshow": {
     "slide_type": "subslide"
    }
   },
   "source": [
    "- Diffusion weighted images\n",
    "<img src=\"http://2.bp.blogspot.com/-Yl2JJQjcJRM/UMJKUm-hs0I/AAAAAAAAAIU/1D2zBVUiklA/s400/diffusion_weighted_images_in_three_diffusion_directions.jpg\" width=600>\n",
    "<br><br><br><br>\n"
   ]
  },
  {
   "cell_type": "markdown",
   "metadata": {
    "slideshow": {
     "slide_type": "subslide"
    }
   },
   "source": [
    "    - Diffusion tensor image\n",
    "<img src = \"http://www.med.lu.se/var/plain/storage/images/media/images/bilder_klinvet_lund/bilder_mr_fysik/principal_diffusion_encoding_directions_in_an_rgb_map/171729-1-eng-GB/principal_diffusion_encoding_directions_in_an_rgb_map.jpg\" width=600>"
   ]
  },
  {
   "cell_type": "markdown",
   "metadata": {
    "slideshow": {
     "slide_type": "subslide"
    }
   },
   "source": [
    "- Myelin images\n",
    "<img src=\"http://list.snu.ac.kr/vista.gif\" width=600>"
   ]
  },
  {
   "cell_type": "markdown",
   "metadata": {
    "slideshow": {
     "slide_type": "slide"
    }
   },
   "source": [
    "### fMRI에도 sMRI가 필요한 이유\n",
    "\n",
    "\n",
    "- 활성 위치를 얻을 수 있지만, resolution이 낮아 어느 부위에 activation이 있는지 잘 알지 못한다.\n",
    "    - 활성 위치를 조금 더 정확하게 알기위하여 sMRI를 사용한다.\n",
    "\n",
    "- 가설을 가지고 있는 구조의 활성만 살피고 싶다.\n",
    "    - ROI analysis"
   ]
  },
  {
   "cell_type": "markdown",
   "metadata": {
    "slideshow": {
     "slide_type": "slide"
    }
   },
   "source": [
    "# Registration\n",
    "<br>\n",
    "## 한 피험자의 sMRI와 fMRI를 맞추기\n",
    "<br>\n",
    "왜 ? \n",
    "- Different images are \n",
    "- in difference spaces(sizes)"
   ]
  },
  {
   "cell_type": "markdown",
   "metadata": {
    "slideshow": {
     "slide_type": "subslide"
    }
   },
   "source": [
    "### Registration\n",
    "1. 3D image in a space\n",
    "2. transformation (registration)\n",
    "3. different space"
   ]
  },
  {
   "cell_type": "markdown",
   "metadata": {
    "slideshow": {
     "slide_type": "subslide"
    }
   },
   "source": [
    "# fMRI and sMRI from one subject\n",
    "<img src=\"registration1.png\" width=800>\n",
    "Img 출처 : FSL"
   ]
  },
  {
   "cell_type": "markdown",
   "metadata": {
    "slideshow": {
     "slide_type": "subslide"
    }
   },
   "source": [
    "### Rotation (x,y,z) + displace (x,y,z) + Scaling (x,y,z)\n",
    "(linear transformation)\n",
    "<br><br>\n",
    "\n",
    "### Voxel location = anatomical location\n",
    "<img src=\"registration2.png\" width=800>\n",
    "Img 출처 : FSL"
   ]
  },
  {
   "cell_type": "markdown",
   "metadata": {
    "slideshow": {
     "slide_type": "subslide"
    }
   },
   "source": [
    "# Registration\n",
    "<br>\n",
    "## 다른 피험자들의 sMRI들을 맞추기\n",
    "<br>\n",
    "왜 ? \n",
    "- 서로 비교하기위해"
   ]
  },
  {
   "cell_type": "markdown",
   "metadata": {
    "slideshow": {
     "slide_type": "subslide"
    }
   },
   "source": [
    "<img src=\"http://cfile30.uf.tistory.com/image/2375DF49528CB07F283C84\" width=800>\n",
    "\n",
    "다른 것 \n",
    "- 크기\n",
    "- 모양\n",
    "- **내부구조**"
   ]
  },
  {
   "cell_type": "markdown",
   "metadata": {
    "slideshow": {
     "slide_type": "subslide"
    }
   },
   "source": [
    "linear transformation으로는 내부구조의 모양까지 맞추기가 힘들다.\n",
    "\n",
    "**이땐, non-linear transformation (FNIRT)을 사용**"
   ]
  },
  {
   "cell_type": "markdown",
   "metadata": {
    "slideshow": {
     "slide_type": "subslide"
    }
   },
   "source": [
    "## 예를 들어... MNI152 space"
   ]
  },
  {
   "cell_type": "code",
   "execution_count": 58,
   "metadata": {
    "collapsed": false,
    "slideshow": {
     "slide_type": "subslide"
    }
   },
   "outputs": [],
   "source": [
    "!fslview $FSLDIR/data/standard/MNI152_T1_1mm.nii.gz"
   ]
  },
  {
   "cell_type": "markdown",
   "metadata": {
    "slideshow": {
     "slide_type": "subslide"
    }
   },
   "source": [
    "<img src=\"mni152.png\" width=1200>"
   ]
  },
  {
   "cell_type": "code",
   "execution_count": 55,
   "metadata": {
    "collapsed": false,
    "scrolled": true,
    "slideshow": {
     "slide_type": "subslide"
    }
   },
   "outputs": [
    {
     "data": {
      "image/png": "[encoded data removed]",
      "text/plain": [
       "<matplotlib.figure.Figure at 0x1152b6a10>"
      ]
     },
     "metadata": {},
     "output_type": "display_data"
    }
   ],
   "source": [
    "img = nb.load('/usr/local/fsl/data/standard/MNI152_T1_1mm.nii.gz').get_data()\n",
    "interact(show_image, path = \"/usr/local/fsl/data/standard/MNI152_T1_1mm.nii.gz\",\n",
    "         z=widgets.IntSliderWidget(min=0,max=img.shape[0]-1,step=1,value=img.shape[0]/2),\n",
    "         y=widgets.IntSliderWidget(min=0,max=img.shape[1]-1,step=1,value=img.shape[1]/2),\n",
    "         x=widgets.IntSliderWidget(min=0,max=img.shape[2]-1,step=1,value=img.shape[2]/2) )"
   ]
  },
  {
   "cell_type": "markdown",
   "metadata": {
    "slideshow": {
     "slide_type": "subslide"
    }
   },
   "source": [
    "<br>\n",
    "###여기에 나의 뇌가 linear transformation 으로 맞춰질까?\n",
    "\n",
    "- Look at the ventricle / corpus callosum"
   ]
  },
  {
   "cell_type": "code",
   "execution_count": 56,
   "metadata": {
    "collapsed": false,
    "slideshow": {
     "slide_type": "subslide"
    }
   },
   "outputs": [],
   "source": [
    "!fslview /Users/kcho/T1/20110928_185137TFL3D208SLABs002a1001_dim.nii.gz & fslview /usr/local/fsl/data/standard/MNI152_T1_1mm.nii.gz"
   ]
  },
  {
   "cell_type": "markdown",
   "metadata": {
    "slideshow": {
     "slide_type": "subslide"
    }
   },
   "source": [
    "- 크기\n",
    "- 모양\n",
    "- **내부구조**"
   ]
  },
  {
   "cell_type": "markdown",
   "metadata": {
    "slideshow": {
     "slide_type": "subslide"
    }
   },
   "source": [
    "# non-linear transformation \n",
    "- for topology preservation\n",
    "<img src=\"linear_nonlinear.png\" width=800>"
   ]
  },
  {
   "cell_type": "markdown",
   "metadata": {
    "slideshow": {
     "slide_type": "slide"
    }
   },
   "source": [
    "# Diffusion tensor imaging"
   ]
  },
  {
   "cell_type": "markdown",
   "metadata": {
    "slideshow": {
     "slide_type": "subslide"
    }
   },
   "source": [
    "ppt"
   ]
  },
  {
   "cell_type": "markdown",
   "metadata": {
    "slideshow": {
     "slide_type": "slide"
    }
   },
   "source": [
    "# 실습"
   ]
  },
  {
   "cell_type": "markdown",
   "metadata": {
    "slideshow": {
     "slide_type": "subslide"
    }
   },
   "source": [
    "## Thalamus (시상)에 해당하는 ROI를 잡은 후\n",
    "\n",
    "## 그 부위의 BOLD signal들 extract 해보기 !\n",
    "\n",
    "과정\n",
    "\n",
    "- 시상의 ROI 그리기 (freesurfer)\n",
    "- transformation matrix 구하기 (fsl)\n",
    "- 시상의 BOLD signal 뽑아내기 (python)\n",
    "\n",
    "- **fMRI preprocessing stage들은 이후에 배울 것이기 때문에 건너뛰고 진행**"
   ]
  },
  {
   "cell_type": "markdown",
   "metadata": {
    "slideshow": {
     "slide_type": "slide"
    }
   },
   "source": [
    "# Required softwares\n",
    "\n",
    "- Freesurfer (http://freesurfer.net)\n",
    "- FSL (http://fsl.fmrib.ox.ac.uk)\n",
    "- Python modules (numpy, scipy, pandas, nibabel, sympy, nipy, nipype)\n",
    "\n",
    "\n"
   ]
  },
  {
   "cell_type": "markdown",
   "metadata": {
    "slideshow": {
     "slide_type": "subslide"
    }
   },
   "source": [
    "## 실습 중 제일 \n",
    "- 짜증나고 \n",
    "- 귀찮고 \n",
    "- 어려운 부분은 \n",
    "\n",
    "- ###설치과정"
   ]
  },
  {
   "cell_type": "markdown",
   "metadata": {
    "slideshow": {
     "slide_type": "slide"
    }
   },
   "source": [
    "# 시상의 ROI 그리기 (freesurfer)\n",
    "\n",
    "<img src = \"http://images.wisegeek.com/left-hand-outstretched.jpg\" width=300>"
   ]
  },
  {
   "cell_type": "markdown",
   "metadata": {
    "slideshow": {
     "slide_type": "fragment"
    }
   },
   "source": [
    "- 오래걸림\n",
    "- 비정확\n",
    "- 사람마다 다름"
   ]
  },
  {
   "cell_type": "markdown",
   "metadata": {
    "slideshow": {
     "slide_type": "slide"
    }
   },
   "source": [
    "# Freesurfer auto-segmentation\n",
    "\n",
    "<img src=\"http://www.rb.org.br/imagens/v44n1a06-fig01.jpg\" width=800>"
   ]
  },
  {
   "cell_type": "markdown",
   "metadata": {
    "slideshow": {
     "slide_type": "fragment"
    }
   },
   "source": [
    "1. 크기와 모양을 비슷하게 맞춘다\n",
    "2. 미리 만들어놓은 도장으로 찍어낸다\n",
    "\n",
    "<br>\n",
    "8 시간 정도 걸림 ..."
   ]
  },
  {
   "cell_type": "markdown",
   "metadata": {
    "slideshow": {
     "slide_type": "subslide"
    }
   },
   "source": [
    "## Segmentation 진행\n",
    "    recon-all -all -subjid Kevin -i T1.nii.gz  \n",
    "    # Freesurfer command"
   ]
  },
  {
   "cell_type": "markdown",
   "metadata": {
    "slideshow": {
     "slide_type": "subslide"
    }
   },
   "source": [
    "## Thalamus ROI 뽑아내기\n",
    "    mri_binarize --i /Users/kcho/T1/mri/aseg.mgz --match 10 --o thalamus.nii.gz \n",
    "    # 10 : Right thalamus"
   ]
  },
  {
   "cell_type": "code",
   "execution_count": 2,
   "metadata": {
    "collapsed": false
   },
   "outputs": [
    {
     "name": "stdout",
     "output_type": "stream",
     "text": [
      "\n",
      "$Id: mri_binarize.c,v 1.26.2.1 2011/04/08 15:40:50 greve Exp $\n",
      "cwd /Users/kcho/Desktop/study\n",
      "cmdline mri_binarize --i /Users/kcho/T1/mri/aseg.mgz --match 10 --o thalamus.nii.gz \n",
      "sysname  Darwin\n",
      "hostname Kevins-MacBook-Pro.local\n",
      "machine  x86_64\n",
      "user     kcho\n",
      "\n",
      "input      /Users/kcho/T1/mri/aseg.mgz\n",
      "frame      0\n",
      "nErode3d   0\n",
      "nErode2d   0\n",
      "output     thalamus.nii.gz\n",
      "Binarizing based on matching values\n",
      "nMatch 1\n",
      " 0    10\n",
      "binval        1\n",
      "binvalnot     0\n",
      "Found 9842 values in range\n",
      "Counting number of voxels\n",
      "Found 9842 voxels in final mask\n",
      "mri_binarize done\n"
     ]
    }
   ],
   "source": [
    "!mri_binarize --i /Users/kcho/T1/mri/aseg.mgz --match 10 --o thalamus.nii.gz "
   ]
  },
  {
   "cell_type": "markdown",
   "metadata": {
    "slideshow": {
     "slide_type": "subslide"
    }
   },
   "source": [
    "### Image check"
   ]
  },
  {
   "cell_type": "code",
   "execution_count": 7,
   "metadata": {
    "collapsed": true,
    "slideshow": {
     "slide_type": "-"
    }
   },
   "outputs": [],
   "source": [
    "!fslview orig.nii.gz thalamus.nii.gz -l 'Red'"
   ]
  },
  {
   "cell_type": "code",
   "execution_count": 10,
   "metadata": {
    "collapsed": true,
    "slideshow": {
     "slide_type": "subslide"
    }
   },
   "outputs": [],
   "source": [
    "from nipype.interfaces import fsl"
   ]
  },
  {
   "cell_type": "code",
   "execution_count": 11,
   "metadata": {
    "collapsed": false,
    "slideshow": {
     "slide_type": "subslide"
    }
   },
   "outputs": [],
   "source": [
    "for img in ['thalamus.nii.gz','orig.nii.gz']:\n",
    "    swapdim = fsl.utils.SwapDimensions()\n",
    "    swapdim.inputs.in_file = img\n",
    "    swapdim.inputs.out_file = img.split('.')[0]+'_dim'+'.nii.gz'\n",
    "    swapdim.inputs.new_dims = ('RL', 'PA', 'IS')\n",
    "    res = swapdim.run()\n"
   ]
  },
  {
   "cell_type": "code",
   "execution_count": 12,
   "metadata": {
    "collapsed": true,
    "slideshow": {
     "slide_type": "subslide"
    }
   },
   "outputs": [],
   "source": [
    "!fslview orig_dim.nii.gz thalamus_dim.nii.gz -l 'Red'"
   ]
  },
  {
   "cell_type": "markdown",
   "metadata": {
    "slideshow": {
     "slide_type": "subslide"
    }
   },
   "source": [
    "### For complete list of Freesrufer structures..."
   ]
  },
  {
   "cell_type": "code",
   "execution_count": 48,
   "metadata": {
    "collapsed": false,
    "slideshow": {
     "slide_type": "-"
    }
   },
   "outputs": [
    {
     "name": "stdout",
     "output_type": "stream",
     "text": [
      "#$Id: FreeSurferColorLUT.txt,v 1.70.2.7 2012/08/27 17:20:08 nicks Exp $\r",
      "\r\n",
      "\r",
      "\r\n",
      "#No. Label Name:                            R   G   B   A\r",
      "\r\n",
      "\r",
      "\r\n",
      "0   Unknown                                 0   0   0   0\r",
      "\r\n",
      "1   Left-Cerebral-Exterior                  70  130 180 0\r",
      "\r\n",
      "2   Left-Cerebral-White-Matter              245 245 245 0\r",
      "\r\n",
      "3   Left-Cerebral-Cortex                    205 62  78  0\r",
      "\r\n",
      "4   Left-Lateral-Ventricle                  120 18  134 0\r",
      "\r\n",
      "5   Left-Inf-Lat-Vent                       196 58  250 0\r",
      "\r\n",
      "6   Left-Cerebellum-Exterior                0   148 0   0\r",
      "\r\n",
      "7   Left-Cerebellum-White-Matter            220 248 164 0\r",
      "\r\n",
      "8   Left-Cerebellum-Cortex                  230 148 34  0\r",
      "\r\n",
      "9   Left-Thalamus                           0   118 14  0\r",
      "\r\n",
      "10  Left-Thalamus-Proper                    0   118 14  0\r",
      "\r\n",
      "11  Left-Caudate                            122 186 220 0\r",
      "\r\n",
      "12  Left-Putamen                            236 13  176 0\r",
      "\r\n",
      "13  Left-Pallidum                           12  48  255 0\r",
      "\r\n",
      "14  3rd-Ventricle                           204 182 142 0\r",
      "\r\n",
      "15  4th-Ventricle                           42  204 164 0\r",
      "\r\n",
      "16  Brain-Stem                              119 159 176 0\r",
      "\r\n",
      "17  Left-Hippocampus                        220 216 20  0\r",
      "\r\n",
      "18  Left-Amygdala                           103 255 255 0\r",
      "\r\n",
      "19  Left-Insula                             80  196 98  0\r",
      "\r\n",
      "20  Left-Operculum                          60  58  210 0\r",
      "\r\n",
      "21  Line-1                                  60  58  210 0\r",
      "\r\n",
      "22  Line-2                                  60  58  210 0\r",
      "\r\n",
      "23  Line-3                                  60  58  210 0\r",
      "\r\n",
      "24  CSF                                     60  60  60  0\r",
      "\r\n",
      "25  Left-Lesion                             255 165 0   0\r",
      "\r\n",
      "26  Left-Accumbens-area                     255 165 0   0\r",
      "\r\n",
      "27  Left-Substancia-Nigra                   0   255 127 0\r",
      "\r\n",
      "28  Left-VentralDC                          165 42  42  0\r",
      "\r\n",
      "29  Left-undetermined                       135 206 235 0\r",
      "\r\n",
      "30  Left-vessel                             160 32  240 0\r",
      "\r\n",
      "31  Left-choroid-plexus                     0   200 200 0\r",
      "\r\n",
      "32  Left-F3orb                              100 50  100 0\r",
      "\r\n",
      "33  Left-lOg                                135 50  74  0\r",
      "\r\n",
      "34  Left-aOg                                122 135 50  0\r",
      "\r\n",
      "35  Left-mOg                                51  50  135 0\r",
      "\r\n",
      "36  Left-pOg                                74  155 60  0\r",
      "\r\n",
      "37  Left-Stellate                           120 62  43  0\r",
      "\r\n",
      "38  Left-Porg                               74  155 60  0\r",
      "\r\n",
      "39  Left-Aorg                               122 135 50  0\r",
      "\r\n",
      "40  Right-Cerebral-Exterior                 70  130 180 0\r",
      "\r\n",
      "41  Right-Cerebral-White-Matter             0   225 0   0\r",
      "\r\n",
      "42  Right-Cerebral-Cortex                   205 62  78  0\r",
      "\r\n",
      "43  Right-Lateral-Ventricle                 120 18  134 0\r",
      "\r\n",
      "44  Right-Inf-Lat-Vent                      196 58  250 0\r",
      "\r\n",
      "45  Right-Cerebellum-Exterior               0   148 0   0\r",
      "\r\n",
      "46  Right-Cerebellum-White-Matter           220 248 164 0\r",
      "\r\n",
      "47  Right-Cerebellum-Cortex                 230 148 34  0\r",
      "\r\n",
      "48  Right-Thalamus                          0   118 14  0\r",
      "\r\n",
      "49  Right-Thalamus-Proper                   0   118 14  0\r",
      "\r\n",
      "50  Right-Caudate                           122 186 220 0\r",
      "\r\n",
      "51  Right-Putamen                           236 13  176 0\r",
      "\r\n",
      "52  Right-Pallidum                          13  48  255 0\r",
      "\r\n",
      "53  Right-Hippocampus                       220 216 20  0\r",
      "\r\n",
      "54  Right-Amygdala                          103 255 255 0\r",
      "\r\n",
      "55  Right-Insula                            80  196 98  0\r",
      "\r\n",
      "56  Right-Operculum                         60  58  210 0\r",
      "\r\n",
      "57  Right-Lesion                            255 165 0   0\r",
      "\r\n",
      "58  Right-Accumbens-area                    255 165 0   0\r",
      "\r\n",
      "59  Right-Substancia-Nigra                  0   255 127 0\r",
      "\r\n",
      "60  Right-VentralDC                         165 42  42  0\r",
      "\r\n",
      "61  Right-undetermined                      135 206 235 0\r",
      "\r\n",
      "62  Right-vessel                            160 32  240 0\r",
      "\r\n",
      "63  Right-choroid-plexus                    0   200 221 0\r",
      "\r\n",
      "64  Right-F3orb                             100 50  100 0\r",
      "\r\n",
      "65  Right-lOg                               135 50  74  0\r",
      "\r\n",
      "66  Right-aOg                               122 135 50  0\r",
      "\r\n",
      "67  Right-mOg                               51  50  135 0\r",
      "\r\n",
      "68  Right-pOg                               74  155 60  0\r",
      "\r\n",
      "69  Right-Stellate                          120 62  43  0\r",
      "\r\n",
      "70  Right-Porg                              74  155 60  0\r",
      "\r\n",
      "71  Right-Aorg                              122 135 50  0\r",
      "\r\n",
      "72  5th-Ventricle                           120 190 150 0\r",
      "\r\n",
      "73  Left-Interior                           122 135 50  0\r",
      "\r\n",
      "74  Right-Interior                          122 135 50  0\r",
      "\r\n",
      "# 75/76 removed. duplicates of 4/43\r",
      "\r\n",
      "77  WM-hypointensities                      200 70  255 0\r",
      "\r\n",
      "78  Left-WM-hypointensities                 255 148 10  0\r",
      "\r\n",
      "79  Right-WM-hypointensities                255 148 10  0\r",
      "\r\n",
      "80  non-WM-hypointensities                  164 108 226 0\r",
      "\r\n",
      "81  Left-non-WM-hypointensities             164 108 226 0\r",
      "\r\n",
      "82  Right-non-WM-hypointensities            164 108 226 0\r",
      "\r\n",
      "83  Left-F1                                 255 218 185 0\r",
      "\r\n",
      "84  Right-F1                                255 218 185 0\r",
      "\r\n",
      "85  Optic-Chiasm                            234 169 30  0\r",
      "\r\n",
      "192 Corpus_Callosum                         250 255 50  0\r",
      "\r\n",
      "\r",
      "\r\n",
      "86  Left_future_WMSA                        200 120  255 0\r",
      "\r\n",
      "87  Right_future_WMSA                       200 121  255 0\r",
      "\r\n",
      "88  future_WMSA                             200 122  255 0\r",
      "\r\n",
      "\r",
      "\r\n",
      "\r",
      "\r\n",
      "96  Left-Amygdala-Anterior                  205 10  125 0\r",
      "\r\n",
      "97  Right-Amygdala-Anterior                 205 10  125 0\r",
      "\r\n",
      "98  Dura                                    160 32  240 0\r",
      "\r\n",
      "\r",
      "\r\n",
      "100 Left-wm-intensity-abnormality           124 140 178 0\r",
      "\r\n",
      "101 Left-caudate-intensity-abnormality      125 140 178 0\r",
      "\r\n",
      "102 Left-putamen-intensity-abnormality      126 140 178 0\r",
      "\r\n",
      "103 Left-accumbens-intensity-abnormality    127 140 178 0\r",
      "\r\n",
      "104 Left-pallidum-intensity-abnormality     124 141 178 0\r",
      "\r\n",
      "105 Left-amygdala-intensity-abnormality     124 142 178 0\r",
      "\r\n",
      "106 Left-hippocampus-intensity-abnormality  124 143 178 0\r",
      "\r\n",
      "107 Left-thalamus-intensity-abnormality     124 144 178 0\r",
      "\r\n",
      "108 Left-VDC-intensity-abnormality          124 140 179 0\r",
      "\r\n",
      "109 Right-wm-intensity-abnormality          124 140 178 0\r",
      "\r\n",
      "110 Right-caudate-intensity-abnormality     125 140 178 0\r",
      "\r\n",
      "111 Right-putamen-intensity-abnormality     126 140 178 0\r",
      "\r\n",
      "112 Right-accumbens-intensity-abnormality   127 140 178 0\r",
      "\r\n",
      "113 Right-pallidum-intensity-abnormality    124 141 178 0\r",
      "\r\n",
      "114 Right-amygdala-intensity-abnormality    124 142 178 0\r",
      "\r\n",
      "115 Right-hippocampus-intensity-abnormality 124 143 178 0\r",
      "\r\n",
      "116 Right-thalamus-intensity-abnormality    124 144 178 0\r",
      "\r\n",
      "117 Right-VDC-intensity-abnormality         124 140 179 0\r",
      "\r\n",
      "\r",
      "\r\n",
      "118 Epidermis                               255 20  147 0\r",
      "\r\n",
      "119 Conn-Tissue                             205 179 139 0\r",
      "\r\n",
      "120 SC-Fat-Muscle                           238 238 209 0\r",
      "\r\n",
      "121 Cranium                                 200 200 200 0\r",
      "\r\n",
      "122 CSF-SA                                  74  255 74  0\r",
      "\r\n",
      "123 Muscle                                  238 0   0   0\r",
      "\r\n",
      "124 Ear                                     0   0   139 0\r",
      "\r\n",
      "125 Adipose                                 173 255 47  0\r",
      "\r\n",
      "126 Spinal-Cord                             133 203 229 0\r",
      "\r\n",
      "127 Soft-Tissue                             26  237 57  0\r",
      "\r\n",
      "128 Nerve                                   34  139 34  0\r",
      "\r\n",
      "129 Bone                                    30  144 255 0\r",
      "\r\n",
      "130 Air                                     147 19  173 0\r",
      "\r\n",
      "131 Orbital-Fat                             238 59  59  0\r",
      "\r\n",
      "132 Tongue                                  221 39  200 0\r",
      "\r\n",
      "133 Nasal-Structures                        238 174 238 0\r",
      "\r\n",
      "134 Globe                                   255 0   0   0\r",
      "\r\n",
      "135 Teeth                                   72  61  139 0\r",
      "\r\n",
      "136 Left-Caudate-Putamen                    21  39  132 0\r",
      "\r\n",
      "137 Right-Caudate-Putamen                   21  39  132 0\r",
      "\r\n",
      "138 Left-Claustrum                          65  135 20  0\r",
      "\r\n",
      "139 Right-Claustrum                         65  135 20  0\r",
      "\r\n",
      "140 Cornea                                  134 4   160 0\r",
      "\r\n",
      "142 Diploe                                  221 226 68  0\r",
      "\r\n",
      "143 Vitreous-Humor                          255 255 254 0\r",
      "\r\n",
      "144 Lens                                    52  209 226 0\r",
      "\r\n",
      "145 Aqueous-Humor                           239 160 223 0\r",
      "\r\n",
      "146 Outer-Table                             70  130 180 0\r",
      "\r\n",
      "147 Inner-Table                             70  130 181 0\r",
      "\r\n",
      "148 Periosteum                              139 121 94  0\r",
      "\r\n",
      "149 Endosteum                               224 224 224 0\r",
      "\r\n",
      "150 R-C-S                                   255 0   0   0\r",
      "\r\n",
      "151 Iris                                    205 205 0   0\r",
      "\r\n",
      "152 SC-Adipose-Muscle                       238 238 209 0\r",
      "\r\n",
      "153 SC-Tissue                               139 121 94  0\r",
      "\r\n",
      "154 Orbital-Adipose                         238 59  59  0\r",
      "\r\n",
      "\r",
      "\r\n",
      "155 Left-IntCapsule-Ant                     238 59  59  0\r",
      "\r\n",
      "156 Right-IntCapsule-Ant                    238 59  59  0\r",
      "\r\n",
      "157 Left-IntCapsule-Pos                     62  10  205 0\r",
      "\r\n",
      "158 Right-IntCapsule-Pos                    62  10  205 0\r",
      "\r\n",
      "\r",
      "\r\n",
      "# These labels are for babies/children\r",
      "\r\n",
      "159 Left-Cerebral-WM-unmyelinated           0   118 14  0\r",
      "\r\n",
      "160 Right-Cerebral-WM-unmyelinated          0   118 14  0\r",
      "\r\n",
      "161 Left-Cerebral-WM-myelinated             220 216 21  0\r",
      "\r\n",
      "162 Right-Cerebral-WM-myelinated            220 216 21  0\r",
      "\r\n",
      "163 Left-Subcortical-Gray-Matter            122 186 220 0\r",
      "\r\n",
      "164 Right-Subcortical-Gray-Matter           122 186 220 0\r",
      "\r\n",
      "165 Skull                                   255 165 0   0\r",
      "\r\n",
      "166 Posterior-fossa                         14  48  255 0\r",
      "\r\n",
      "167 Scalp                                   166 42  42  0\r",
      "\r\n",
      "168 Hematoma                                121 18  134 0\r",
      "\r\n",
      "169 Left-Basal-Ganglia                      236 13  127 0\r",
      "\r\n",
      "176 Right-Basal-Ganglia                     236 13  126 0\r",
      "\r\n",
      "\r",
      "\r\n",
      "# Label names and colors for Brainstem consituents\r",
      "\r\n",
      "# No.  Label Name:                          R   G   B   A\r",
      "\r\n",
      "170 brainstem                               119 159 176 0\r",
      "\r\n",
      "171 DCG                                     119 0   176 0\r",
      "\r\n",
      "172 Vermis                                  119 100 176 0\r",
      "\r\n",
      "173 Midbrain                                119 200 176 0\r",
      "\r\n",
      "174 Pons                                    119 159 100 0\r",
      "\r\n",
      "175 Medulla                                 119 159 200 0\r",
      "\r\n",
      "\r",
      "\r\n",
      "#176 Right-Basal-Ganglia   found in babies/children section above\r",
      "\r\n",
      "\r",
      "\r\n",
      "180 Left-Cortical-Dysplasia                 73  61  139 0\r",
      "\r\n",
      "181 Right-Cortical-Dysplasia                73  62  139 0\r",
      "\r\n",
      "\r",
      "\r\n",
      "#192 Corpus_Callosum  listed after #85 above\r",
      "\r\n",
      "193 Left-hippocampal_fissure                0   196 255 0\r",
      "\r\n",
      "194 Left-CADG-head                          255 164 164 0\r",
      "\r\n",
      "195 Left-subiculum                          196 196 0   0\r",
      "\r\n",
      "196 Left-fimbria                            0   100 255 0\r",
      "\r\n",
      "197 Right-hippocampal_fissure               128 196 164 0\r",
      "\r\n",
      "198 Right-CADG-head                         0   126 75  0\r",
      "\r\n",
      "199 Right-subiculum                         128 96  64  0\r",
      "\r\n",
      "200 Right-fimbria                           0   50  128 0\r",
      "\r\n",
      "201 alveus                                  255 204 153 0\r",
      "\r\n",
      "202 perforant_pathway                       255 128 128 0\r",
      "\r\n",
      "203 parasubiculum                           255 255 0   0\r",
      "\r\n",
      "204 presubiculum                            64  0   64  0\r",
      "\r\n",
      "205 subiculum                               0   0   255 0\r",
      "\r\n",
      "206 CA1                                     255 0   0   0\r",
      "\r\n",
      "207 CA2                                     128 128 255 0\r",
      "\r\n",
      "208 CA3                                     0   128 0   0\r",
      "\r\n",
      "209 CA4                                     196 160 128 0\r",
      "\r\n",
      "210 GC-ML-DG                                32  200 255 0\r",
      "\r\n",
      "211 HATA                                    128 255 128 0\r",
      "\r\n",
      "212 fimbria                                 204 153 204 0\r",
      "\r\n",
      "213 lateral_ventricle                       121 17  136 0\r",
      "\r\n",
      "214 molecular_layer_HP                      128 0   0   0\r",
      "\r\n",
      "215 hippocampal_fissure                     128 32  255 0\r",
      "\r\n",
      "216 entorhinal_cortex                       255 204 102 0\r",
      "\r\n",
      "217 molecular_layer_subiculum               128 128 128 0\r",
      "\r\n",
      "218 Amygdala                                104 255 255 0\r",
      "\r\n",
      "219 Cerebral_White_Matter                   0   226 0   0\r",
      "\r\n",
      "220 Cerebral_Cortex                         205 63  78  0\r",
      "\r\n",
      "221 Inf_Lat_Vent                            197 58  250 0\r",
      "\r\n",
      "222 Perirhinal                              33  150 250 0\r",
      "\r\n",
      "223 Cerebral_White_Matter_Edge              226 0   0   0\r",
      "\r\n",
      "224 Background                              100 100 100 0\r",
      "\r\n",
      "225 Ectorhinal                              197 150 250 0\r",
      "\r\n",
      "226 HP_tail                                 170 170 255 0\r",
      "\r\n",
      "\r",
      "\r\n",
      "250 Fornix                                  255 0   0   0\r",
      "\r\n",
      "251 CC_Posterior                            0   0   64  0\r",
      "\r\n",
      "252 CC_Mid_Posterior                        0   0   112 0\r",
      "\r\n",
      "253 CC_Central                              0   0   160 0\r",
      "\r\n",
      "254 CC_Mid_Anterior                         0   0   208 0\r",
      "\r\n",
      "255 CC_Anterior                             0   0   255 0\r",
      "\r\n",
      "\r",
      "\r\n",
      "# This is for keeping track of voxel changes\r",
      "\r\n",
      "256 Voxel-Unchanged                         0   0   0   0\r",
      "\r\n",
      "\r",
      "\r\n",
      "# lymph node and vascular labels\r",
      "\r\n",
      "331 Aorta                                   255 0   0   0\r",
      "\r\n",
      "332 Left-Common-IliacA                      255 80  0   0\r",
      "\r\n",
      "333 Right-Common-IliacA                     255 160 0   0\r",
      "\r\n",
      "334 Left-External-IliacA                    255 255 0   0\r",
      "\r\n",
      "335 Right-External-IliacA                   0   255 0   0\r",
      "\r\n",
      "336 Left-Internal-IliacA                    255 0   160 0\r",
      "\r\n",
      "337 Right-Internal-IliacA                   255 0   255 0\r",
      "\r\n",
      "338 Left-Lateral-SacralA                    255 50  80  0\r",
      "\r\n",
      "339 Right-Lateral-SacralA                   80  255 50  0\r",
      "\r\n",
      "340 Left-ObturatorA                         160 255 50  0\r",
      "\r\n",
      "341 Right-ObturatorA                        160 200 255 0\r",
      "\r\n",
      "342 Left-Internal-PudendalA                 0   255 160 0\r",
      "\r\n",
      "343 Right-Internal-PudendalA                0   0   255 0\r",
      "\r\n",
      "344 Left-UmbilicalA                         80  50  255 0\r",
      "\r\n",
      "345 Right-UmbilicalA                        160 0   255 0\r",
      "\r\n",
      "346 Left-Inf-RectalA                        255 210 0   0\r",
      "\r\n",
      "347 Right-Inf-RectalA                       0   160 255 0\r",
      "\r\n",
      "348 Left-Common-IliacV                      255 200 80  0\r",
      "\r\n",
      "349 Right-Common-IliacV                     255 200 160 0\r",
      "\r\n",
      "350 Left-External-IliacV                    255 80  200 0\r",
      "\r\n",
      "351 Right-External-IliacV                   255 160 200 0\r",
      "\r\n",
      "352 Left-Internal-IliacV                    30  255 80  0\r",
      "\r\n",
      "353 Right-Internal-IliacV                   80  200 255 0\r",
      "\r\n",
      "354 Left-ObturatorV                         80  255 200 0\r",
      "\r\n",
      "355 Right-ObturatorV                        195 255 200 0\r",
      "\r\n",
      "356 Left-Internal-PudendalV                 120 200 20  0\r",
      "\r\n",
      "357 Right-Internal-PudendalV                170 10  200 0\r",
      "\r\n",
      "358 Pos-Lymph                               20  130 180 0\r",
      "\r\n",
      "359 Neg-Lymph                               20  180 130 0\r",
      "\r\n",
      "\r",
      "\r\n",
      "400 V1                                      206 62  78  0\r",
      "\r\n",
      "401 V2                                      121 18  134 0\r",
      "\r\n",
      "402 BA44                                    199 58  250 0\r",
      "\r\n",
      "403 BA45                                    1   148 0   0\r",
      "\r\n",
      "404 BA4a                                    221 248 164 0\r",
      "\r\n",
      "405 BA4p                                    231 148 34  0\r",
      "\r\n",
      "406 BA6                                     1   118 14  0\r",
      "\r\n",
      "407 BA2                                     120 118 14  0\r",
      "\r\n",
      "408 BA1_old                                 123 186 221 0\r",
      "\r\n",
      "409 BAun2                                   238 13  177 0\r",
      "\r\n",
      "410 BA1                                     123 186 220 0\r",
      "\r\n",
      "411 BA2b                                    138 13  206 0\r",
      "\r\n",
      "412 BA3a                                    238 130 176 0\r",
      "\r\n",
      "413 BA3b                                    218 230 76  0\r",
      "\r\n",
      "414 MT                                      38  213 176 0\r",
      "\r\n",
      "415 AIPS_AIP_l                              1   225 176 0\r",
      "\r\n",
      "416 AIPS_AIP_r                              1   225 176 0\r",
      "\r\n",
      "417 AIPS_VIP_l                              200 2   100 0\r",
      "\r\n",
      "418 AIPS_VIP_r                              200 2   100 0\r",
      "\r\n",
      "419 IPL_PFcm_l                              5   200 90  0\r",
      "\r\n",
      "420 IPL_PFcm_r                              5   200 90  0\r",
      "\r\n",
      "421 IPL_PF_l                                100 5   200 0\r",
      "\r\n",
      "422 IPL_PFm_l                               25  255 100 0\r",
      "\r\n",
      "423 IPL_PFm_r                               25  255 100 0\r",
      "\r\n",
      "424 IPL_PFop_l                              230 7   100 0\r",
      "\r\n",
      "425 IPL_PFop_r                              230 7   100 0\r",
      "\r\n",
      "426 IPL_PF_r                                100 5   200 0\r",
      "\r\n",
      "427 IPL_PFt_l                               150 10  200 0\r",
      "\r\n",
      "428 IPL_PFt_r                               150 10  200 0\r",
      "\r\n",
      "429 IPL_PGa_l                               175 10  176 0\r",
      "\r\n",
      "430 IPL_PGa_r                               175 10  176 0\r",
      "\r\n",
      "431 IPL_PGp_l                               10  100 255 0\r",
      "\r\n",
      "432 IPL_PGp_r                               10  100 255 0\r",
      "\r\n",
      "433 Visual_V3d_l                            150 45  70  0\r",
      "\r\n",
      "434 Visual_V3d_r                            150 45  70  0\r",
      "\r\n",
      "435 Visual_V4_l                             45  200 15  0\r",
      "\r\n",
      "436 Visual_V4_r                             45  200 15  0\r",
      "\r\n",
      "437 Visual_V5_b                             227 45  100 0\r",
      "\r\n",
      "438 Visual_VP_l                             227 45  100 0\r",
      "\r\n",
      "439 Visual_VP_r                             227 45  100 0\r",
      "\r\n",
      "\r",
      "\r\n",
      "# wm lesions\r",
      "\r\n",
      "498 wmsa                                    143 188 143 0\r",
      "\r\n",
      "499 other_wmsa                              255 248 220 0\r",
      "\r\n",
      "\r",
      "\r\n",
      "# HiRes Hippocampus labeling\r",
      "\r\n",
      "500 right_CA2_3                             17  85  136 0\r",
      "\r\n",
      "501 right_alveus                            119 187 102 0\r",
      "\r\n",
      "502 right_CA1                               204 68  34  0\r",
      "\r\n",
      "503 right_fimbria                           204 0   255 0\r",
      "\r\n",
      "504 right_presubiculum                      221 187 17  0\r",
      "\r\n",
      "505 right_hippocampal_fissure               153 221 238 0\r",
      "\r\n",
      "506 right_CA4_DG                            51  17  17  0\r",
      "\r\n",
      "507 right_subiculum                         0   119 85  0\r",
      "\r\n",
      "508 right_fornix                            20  100 200 0\r",
      "\r\n",
      "\r",
      "\r\n",
      "550 left_CA2_3                              17  85  137 0\r",
      "\r\n",
      "551 left_alveus                             119 187 103 0\r",
      "\r\n",
      "552 left_CA1                                204 68  35  0\r",
      "\r\n",
      "553 left_fimbria                            204 0   254 0\r",
      "\r\n",
      "554 left_presubiculum                       221 187 16  0\r",
      "\r\n",
      "555 left_hippocampal_fissure                153 221 239 0\r",
      "\r\n",
      "556 left_CA4_DG                             51  17  18  0\r",
      "\r\n",
      "557 left_subiculum                          0   119 86  0\r",
      "\r\n",
      "558 left_fornix                             20  100 201 0\r",
      "\r\n",
      "\r",
      "\r\n",
      "600 Tumor                                   254 254 254 0\r",
      "\r\n",
      "\r",
      "\r\n",
      "\r",
      "\r\n",
      "# Cerebellar parcellation labels from SUIT (matches labels in cma.h)\r",
      "\r\n",
      "#No. Label Name:                            R   G   B   A\r",
      "\r\n",
      "601  Cbm_Left_I_IV                          70  130 180 0\r",
      "\r\n",
      "602  Cbm_Right_I_IV                         245 245 245 0\r",
      "\r\n",
      "603  Cbm_Left_V                             205 62  78  0\r",
      "\r\n",
      "604  Cbm_Right_V                            120 18  134 0\r",
      "\r\n",
      "605  Cbm_Left_VI                            196 58  250 0\r",
      "\r\n",
      "606  Cbm_Vermis_VI                          0   148 0   0\r",
      "\r\n",
      "607  Cbm_Right_VI                           220 248 164 0\r",
      "\r\n",
      "608  Cbm_Left_CrusI                         230 148 34  0\r",
      "\r\n",
      "609  Cbm_Vermis_CrusI                       0   118 14  0\r",
      "\r\n",
      "610  Cbm_Right_CrusI                        0   118 14  0\r",
      "\r\n",
      "611  Cbm_Left_CrusII                        122 186 220 0\r",
      "\r\n",
      "612  Cbm_Vermis_CrusII                      236 13  176 0\r",
      "\r\n",
      "613  Cbm_Right_CrusII 12                    48  255 0\r",
      "\r\n",
      "614  Cbm_Left_VIIb                          204 182 142 0\r",
      "\r\n",
      "615  Cbm_Vermis_VIIb                        42  204 164 0\r",
      "\r\n",
      "616  Cbm_Right_VIIb                         119 159 176 0\r",
      "\r\n",
      "617  Cbm_Left_VIIIa                         220 216 20  0\r",
      "\r\n",
      "618  Cbm_Vermis_VIIIa                       103 255 255 0\r",
      "\r\n",
      "619  Cbm_Right_VIIIa                        80  196 98  0\r",
      "\r\n",
      "620  Cbm_Left_VIIIb                         60  58  210 0\r",
      "\r\n",
      "621  Cbm_Vermis_VIIIb                       60  58  210 0\r",
      "\r\n",
      "622  Cbm_Right_VIIIb                        60  58  210 0\r",
      "\r\n",
      "623  Cbm_Left_IX                            60  58  210 0\r",
      "\r\n",
      "624  Cbm_Vermis_IX                          60  60  60  0\r",
      "\r\n",
      "625  Cbm_Right_IX                           255 165 0   0\r",
      "\r\n",
      "626  Cbm_Left_X                             255 165 0   0\r",
      "\r\n",
      "627  Cbm_Vermis_X                           0   255 127 0\r",
      "\r\n",
      "628  Cbm_Right_X                            165 42  42  0\r",
      "\r\n",
      "\r",
      "\r\n",
      "# Cerebellar lobule parcellations\r",
      "\r\n",
      "640  Cbm_Right_I_V_med                      204  0  0   0\r",
      "\r\n",
      "641  Cbm_Right_I_V_mid                      255  0  0   0\r",
      "\r\n",
      "642  Cbm_Right_VI_med                       0    0  255 0\r",
      "\r\n",
      "643  Cbm_Right_VI_mid                       30  144 255 0\r",
      "\r\n",
      "644  Cbm_Right_VI_lat                       100 212 237 0\r",
      "\r\n",
      "645  Cbm_Right_CrusI_med                    218 165 32  0\r",
      "\r\n",
      "646  Cbm_Right_CrusI_mid                    255 215 0   0\r",
      "\r\n",
      "647  Cbm_Right_CrusI_lat                    255 255 166 0\r",
      "\r\n",
      "648  Cbm_Right_CrusII_med                   153 0   204 0\r",
      "\r\n",
      "649  Cbm_Right_CrusII_mid                   153 141 209 0\r",
      "\r\n",
      "650  Cbm_Right_CrusII_lat                   204 204 255 0\r",
      "\r\n",
      "651  Cbm_Right_7med                         31  212 194 0\r",
      "\r\n",
      "652  Cbm_Right_7mid                         3   255 237 0\r",
      "\r\n",
      "653  Cbm_Right_7lat                         204 255 255 0\r",
      "\r\n",
      "654  Cbm_Right_8med                         86  74  147 0\r",
      "\r\n",
      "655  Cbm_Right_8mid                         114 114 190 0\r",
      "\r\n",
      "656  Cbm_Right_8lat                         184 178 255 0\r",
      "\r\n",
      "657  Cbm_Right_PUNs                         126 138 37  0\r",
      "\r\n",
      "658  Cbm_Right_TONs                         189 197 117 0\r",
      "\r\n",
      "659  Cbm_Right_FLOs                         240 230 140 0\r",
      "\r\n",
      "660  Cbm_Left_I_V_med                       204  0  0   0\r",
      "\r\n",
      "661  Cbm_Left_I_V_mid                       255  0  0   0\r",
      "\r\n",
      "662  Cbm_Left_VI_med                        0    0  255 0\r",
      "\r\n",
      "663  Cbm_Left_VI_mid                        30  144 255 0\r",
      "\r\n",
      "664  Cbm_Left_VI_lat                        100 212 237 0\r",
      "\r\n",
      "665  Cbm_Left_CrusI_med                     218 165 32  0\r",
      "\r\n",
      "666  Cbm_Left_CrusI_mid                     255 215 0   0\r",
      "\r\n",
      "667  Cbm_Left_CrusI_lat                     255 255 166 0\r",
      "\r\n",
      "668  Cbm_Left_CrusII_med                    153 0   204 0\r",
      "\r\n",
      "669  Cbm_Left_CrusII_mid                    153 141 209 0\r",
      "\r\n",
      "670  Cbm_Left_CrusII_lat                    204 204 255 0\r",
      "\r\n",
      "671  Cbm_Left_7med                          31  212 194 0\r",
      "\r\n",
      "672  Cbm_Left_7mid                          3   255 237 0\r",
      "\r\n",
      "673  Cbm_Left_7lat                          204 255 255 0\r",
      "\r\n",
      "674  Cbm_Left_8med                          86  74  147 0\r",
      "\r\n",
      "675  Cbm_Left_8mid                          114 114 190 0\r",
      "\r\n",
      "676  Cbm_Left_8lat                          184 178 255 0\r",
      "\r\n",
      "677  Cbm_Left_PUNs                          126 138 37  0\r",
      "\r\n",
      "678  Cbm_Left_TONs                          189 197 117 0\r",
      "\r\n",
      "679  Cbm_Left_FLOs                          240 230 140 0\r",
      "\r\n",
      "\r",
      "\r\n",
      "701 CSF-FSL-FAST                            120 18  134 0\r",
      "\r\n",
      "702 GrayMatter-FSL-FAST                     205 62  78  0\r",
      "\r\n",
      "703 WhiteMatter-FSL-FAST                    0   225 0   0\r",
      "\r\n",
      "\r",
      "\r\n",
      "999 SUSPICIOUS                              255 100 100 0\r",
      "\r\n",
      "\r",
      "\r\n",
      "# Below is the color table for the cortical labels of the seg volume\r",
      "\r\n",
      "# created by mri_aparc2aseg in which the aseg cortex label is replaced\r",
      "\r\n",
      "# by the labels in the aparc. It also supports wm labels that will\r",
      "\r\n",
      "# eventually be created by mri_aparc2aseg. Otherwise, the aseg labels\r",
      "\r\n",
      "# do not change from above. The cortical lables are the same as in\r",
      "\r\n",
      "# colortable_desikan_killiany.txt, except that left hemisphere has\r",
      "\r\n",
      "# 1000 added to the index and the right has 2000 added.  The label\r",
      "\r\n",
      "# names are also prepended with ctx-lh or ctx-rh. The white matter\r",
      "\r\n",
      "# labels are the same as in colortable_desikan_killiany.txt, except\r",
      "\r\n",
      "# that left hemisphere has 3000 added to the index and the right has\r",
      "\r\n",
      "# 4000 added. The label names are also prepended with wm-lh or wm-rh.\r",
      "\r\n",
      "# Centrum semiovale is also labled with 5001 (left) and 5002 (right).\r",
      "\r\n",
      "# Even further below are the color tables for aparc.a2005s and aparc.a2009s.\r",
      "\r\n",
      "\r",
      "\r\n",
      "#No.    Label Name:                         R   G   B   A\r",
      "\r\n",
      "1000    ctx-lh-unknown                      25  5   25  0\r",
      "\r\n",
      "1001    ctx-lh-bankssts                     25  100 40  0\r",
      "\r\n",
      "1002    ctx-lh-caudalanteriorcingulate      125 100 160 0\r",
      "\r\n",
      "1003    ctx-lh-caudalmiddlefrontal          100 25  0   0\r",
      "\r\n",
      "1004    ctx-lh-corpuscallosum               120 70  50  0\r",
      "\r\n",
      "1005    ctx-lh-cuneus                       220 20  100 0\r",
      "\r\n",
      "1006    ctx-lh-entorhinal                   220 20  10  0\r",
      "\r\n",
      "1007    ctx-lh-fusiform                     180 220 140 0\r",
      "\r\n",
      "1008    ctx-lh-inferiorparietal             220 60  220 0\r",
      "\r\n",
      "1009    ctx-lh-inferiortemporal             180 40  120 0\r",
      "\r\n",
      "1010    ctx-lh-isthmuscingulate             140 20  140 0\r",
      "\r\n",
      "1011    ctx-lh-lateraloccipital             20  30  140 0\r",
      "\r\n",
      "1012    ctx-lh-lateralorbitofrontal         35  75  50  0\r",
      "\r\n",
      "1013    ctx-lh-lingual                      225 140 140 0\r",
      "\r\n",
      "1014    ctx-lh-medialorbitofrontal          200 35  75  0\r",
      "\r\n",
      "1015    ctx-lh-middletemporal               160 100 50  0\r",
      "\r\n",
      "1016    ctx-lh-parahippocampal              20  220 60  0\r",
      "\r\n",
      "1017    ctx-lh-paracentral                  60  220 60  0\r",
      "\r\n",
      "1018    ctx-lh-parsopercularis              220 180 140 0\r",
      "\r\n",
      "1019    ctx-lh-parsorbitalis                20  100 50  0\r",
      "\r\n",
      "1020    ctx-lh-parstriangularis             220 60  20  0\r",
      "\r\n",
      "1021    ctx-lh-pericalcarine                120 100 60  0\r",
      "\r\n",
      "1022    ctx-lh-postcentral                  220 20  20  0\r",
      "\r\n",
      "1023    ctx-lh-posteriorcingulate           220 180 220 0\r",
      "\r\n",
      "1024    ctx-lh-precentral                   60  20  220 0\r",
      "\r\n",
      "1025    ctx-lh-precuneus                    160 140 180 0\r",
      "\r\n",
      "1026    ctx-lh-rostralanteriorcingulate     80  20  140 0\r",
      "\r\n",
      "1027    ctx-lh-rostralmiddlefrontal         75  50  125 0\r",
      "\r\n",
      "1028    ctx-lh-superiorfrontal              20  220 160 0\r",
      "\r\n",
      "1029    ctx-lh-superiorparietal             20  180 140 0\r",
      "\r\n",
      "1030    ctx-lh-superiortemporal             140 220 220 0\r",
      "\r\n",
      "1031    ctx-lh-supramarginal                80  160 20  0\r",
      "\r\n",
      "1032    ctx-lh-frontalpole                  100 0   100 0\r",
      "\r\n",
      "1033    ctx-lh-temporalpole                 70  70  70  0\r",
      "\r\n",
      "1034    ctx-lh-transversetemporal           150 150 200 0\r",
      "\r\n",
      "1035    ctx-lh-insula                       255 192 32  0\r",
      "\r\n",
      "\r",
      "\r\n",
      "2000    ctx-rh-unknown                      25  5   25  0\r",
      "\r\n",
      "2001    ctx-rh-bankssts                     25  100 40  0\r",
      "\r\n",
      "2002    ctx-rh-caudalanteriorcingulate      125 100 160 0\r",
      "\r\n",
      "2003    ctx-rh-caudalmiddlefrontal          100 25  0   0\r",
      "\r\n",
      "2004    ctx-rh-corpuscallosum               120 70  50  0\r",
      "\r\n",
      "2005    ctx-rh-cuneus                       220 20  100 0\r",
      "\r\n",
      "2006    ctx-rh-entorhinal                   220 20  10  0\r",
      "\r\n",
      "2007    ctx-rh-fusiform                     180 220 140 0\r",
      "\r\n",
      "2008    ctx-rh-inferiorparietal             220 60  220 0\r",
      "\r\n",
      "2009    ctx-rh-inferiortemporal             180 40  120 0\r",
      "\r\n",
      "2010    ctx-rh-isthmuscingulate             140 20  140 0\r",
      "\r\n",
      "2011    ctx-rh-lateraloccipital             20  30  140 0\r",
      "\r\n",
      "2012    ctx-rh-lateralorbitofrontal         35  75  50  0\r",
      "\r\n",
      "2013    ctx-rh-lingual                      225 140 140 0\r",
      "\r\n",
      "2014    ctx-rh-medialorbitofrontal          200 35  75  0\r",
      "\r\n",
      "2015    ctx-rh-middletemporal               160 100 50  0\r",
      "\r\n",
      "2016    ctx-rh-parahippocampal              20  220 60  0\r",
      "\r\n",
      "2017    ctx-rh-paracentral                  60  220 60  0\r",
      "\r\n",
      "2018    ctx-rh-parsopercularis              220 180 140 0\r",
      "\r\n",
      "2019    ctx-rh-parsorbitalis                20  100 50  0\r",
      "\r\n",
      "2020    ctx-rh-parstriangularis             220 60  20  0\r",
      "\r\n",
      "2021    ctx-rh-pericalcarine                120 100 60  0\r",
      "\r\n",
      "2022    ctx-rh-postcentral                  220 20  20  0\r",
      "\r\n",
      "2023    ctx-rh-posteriorcingulate           220 180 220 0\r",
      "\r\n",
      "2024    ctx-rh-precentral                   60  20  220 0\r",
      "\r\n",
      "2025    ctx-rh-precuneus                    160 140 180 0\r",
      "\r\n",
      "2026    ctx-rh-rostralanteriorcingulate     80  20  140 0\r",
      "\r\n",
      "2027    ctx-rh-rostralmiddlefrontal         75  50  125 0\r",
      "\r\n",
      "2028    ctx-rh-superiorfrontal              20  220 160 0\r",
      "\r\n",
      "2029    ctx-rh-superiorparietal             20  180 140 0\r",
      "\r\n",
      "2030    ctx-rh-superiortemporal             140 220 220 0\r",
      "\r\n",
      "2031    ctx-rh-supramarginal                80  160 20  0\r",
      "\r\n",
      "2032    ctx-rh-frontalpole                  100 0   100 0\r",
      "\r\n",
      "2033    ctx-rh-temporalpole                 70  70  70  0\r",
      "\r\n",
      "2034    ctx-rh-transversetemporal           150 150 200 0\r",
      "\r\n",
      "2035    ctx-rh-insula                       255 192 32  0\r",
      "\r\n",
      "\r",
      "\r\n",
      "3000    wm-lh-unknown                       230 250 230 0\r",
      "\r\n",
      "3001    wm-lh-bankssts                      230 155 215 0\r",
      "\r\n",
      "3002    wm-lh-caudalanteriorcingulate       130 155 95  0\r",
      "\r\n",
      "3003    wm-lh-caudalmiddlefrontal           155 230 255 0\r",
      "\r\n",
      "3004    wm-lh-corpuscallosum                135 185 205 0\r",
      "\r\n",
      "3005    wm-lh-cuneus                        35  235 155 0\r",
      "\r\n",
      "3006    wm-lh-entorhinal                    35  235 245 0\r",
      "\r\n",
      "3007    wm-lh-fusiform                      75  35  115 0\r",
      "\r\n",
      "3008    wm-lh-inferiorparietal              35  195 35  0\r",
      "\r\n",
      "3009    wm-lh-inferiortemporal              75  215 135 0\r",
      "\r\n",
      "3010    wm-lh-isthmuscingulate              115 235 115 0\r",
      "\r\n",
      "3011    wm-lh-lateraloccipital              235 225 115 0\r",
      "\r\n",
      "3012    wm-lh-lateralorbitofrontal          220 180 205 0\r",
      "\r\n",
      "3013    wm-lh-lingual                       30  115 115 0\r",
      "\r\n",
      "3014    wm-lh-medialorbitofrontal           55  220 180 0\r",
      "\r\n",
      "3015    wm-lh-middletemporal                95  155 205 0\r",
      "\r\n",
      "3016    wm-lh-parahippocampal               235 35  195 0\r",
      "\r\n",
      "3017    wm-lh-paracentral                   195 35  195 0\r",
      "\r\n",
      "3018    wm-lh-parsopercularis               35  75  115 0\r",
      "\r\n",
      "3019    wm-lh-parsorbitalis                 235 155 205 0\r",
      "\r\n",
      "3020    wm-lh-parstriangularis              35  195 235 0\r",
      "\r\n",
      "3021    wm-lh-pericalcarine                 135 155 195 0\r",
      "\r\n",
      "3022    wm-lh-postcentral                   35  235 235 0\r",
      "\r\n",
      "3023    wm-lh-posteriorcingulate            35  75  35  0\r",
      "\r\n",
      "3024    wm-lh-precentral                    195 235 35  0\r",
      "\r\n",
      "3025    wm-lh-precuneus                     95  115 75  0\r",
      "\r\n",
      "3026    wm-lh-rostralanteriorcingulate      175 235 115 0\r",
      "\r\n",
      "3027    wm-lh-rostralmiddlefrontal          180 205 130 0\r",
      "\r\n",
      "3028    wm-lh-superiorfrontal               235 35  95  0\r",
      "\r\n",
      "3029    wm-lh-superiorparietal              235 75  115 0\r",
      "\r\n",
      "3030    wm-lh-superiortemporal              115 35  35  0\r",
      "\r\n",
      "3031    wm-lh-supramarginal                 175 95  235 0\r",
      "\r\n",
      "3032    wm-lh-frontalpole                   155 255 155 0\r",
      "\r\n",
      "3033    wm-lh-temporalpole                  185 185 185 0\r",
      "\r\n",
      "3034    wm-lh-transversetemporal            105 105 55  0\r",
      "\r\n",
      "3035    wm-lh-insula                        254 191 31  0\r",
      "\r\n",
      "\r",
      "\r\n",
      "4000    wm-rh-unknown                       230 250 230 0\r",
      "\r\n",
      "4001    wm-rh-bankssts                      230 155 215 0\r",
      "\r\n",
      "4002    wm-rh-caudalanteriorcingulate       130 155 95  0\r",
      "\r\n",
      "4003    wm-rh-caudalmiddlefrontal           155 230 255 0\r",
      "\r\n",
      "4004    wm-rh-corpuscallosum                135 185 205 0\r",
      "\r\n",
      "4005    wm-rh-cuneus                        35  235 155 0\r",
      "\r\n",
      "4006    wm-rh-entorhinal                    35  235 245 0\r",
      "\r\n",
      "4007    wm-rh-fusiform                      75  35  115 0\r",
      "\r\n",
      "4008    wm-rh-inferiorparietal              35  195 35  0\r",
      "\r\n",
      "4009    wm-rh-inferiortemporal              75  215 135 0\r",
      "\r\n",
      "4010    wm-rh-isthmuscingulate              115 235 115 0\r",
      "\r\n",
      "4011    wm-rh-lateraloccipital              235 225 115 0\r",
      "\r\n",
      "4012    wm-rh-lateralorbitofrontal          220 180 205 0\r",
      "\r\n",
      "4013    wm-rh-lingual                       30  115 115 0\r",
      "\r\n",
      "4014    wm-rh-medialorbitofrontal           55  220 180 0\r",
      "\r\n",
      "4015    wm-rh-middletemporal                95  155 205 0\r",
      "\r\n",
      "4016    wm-rh-parahippocampal               235 35  195 0\r",
      "\r\n",
      "4017    wm-rh-paracentral                   195 35  195 0\r",
      "\r\n",
      "4018    wm-rh-parsopercularis               35  75  115 0\r",
      "\r\n",
      "4019    wm-rh-parsorbitalis                 235 155 205 0\r",
      "\r\n",
      "4020    wm-rh-parstriangularis              35  195 235 0\r",
      "\r\n",
      "4021    wm-rh-pericalcarine                 135 155 195 0\r",
      "\r\n",
      "4022    wm-rh-postcentral                   35  235 235 0\r",
      "\r\n",
      "4023    wm-rh-posteriorcingulate            35  75  35  0\r",
      "\r\n",
      "4024    wm-rh-precentral                    195 235 35  0\r",
      "\r\n",
      "4025    wm-rh-precuneus                     95  115 75  0\r",
      "\r\n",
      "4026    wm-rh-rostralanteriorcingulate      175 235 115 0\r",
      "\r\n",
      "4027    wm-rh-rostralmiddlefrontal          180 205 130 0\r",
      "\r\n",
      "4028    wm-rh-superiorfrontal               235 35  95  0\r",
      "\r\n",
      "4029    wm-rh-superiorparietal              235 75  115 0\r",
      "\r\n",
      "4030    wm-rh-superiortemporal              115 35  35  0\r",
      "\r\n",
      "4031    wm-rh-supramarginal                 175 95  235 0\r",
      "\r\n",
      "4032    wm-rh-frontalpole                   155 255 155 0\r",
      "\r\n",
      "4033    wm-rh-temporalpole                  185 185 185 0\r",
      "\r\n",
      "4034    wm-rh-transversetemporal            105 105 55  0\r",
      "\r\n",
      "4035    wm-rh-insula                        254 191 31  0\r",
      "\r\n",
      "\r",
      "\r\n",
      "# Below is the color table for the cortical labels of the seg volume\r",
      "\r\n",
      "# created by mri_aparc2aseg (with --a2005s flag) in which the aseg\r",
      "\r\n",
      "# cortex label is replaced by the labels in the aparc.a2005s. The\r",
      "\r\n",
      "# cortical labels are the same as in Simple_surface_labels2005.txt,\r",
      "\r\n",
      "# except that left hemisphere has 1100 added to the index and the\r",
      "\r\n",
      "# right has 2100 added.  The label names are also prepended with\r",
      "\r\n",
      "# ctx-lh or ctx-rh.  The aparc.a2009s labels are further below\r",
      "\r\n",
      "\r",
      "\r\n",
      "#No.    Label Name:                                     R   G   B   A\r",
      "\r\n",
      "1100    ctx-lh-Unknown                                  0   0   0   0\r",
      "\r\n",
      "1101    ctx-lh-Corpus_callosum                          50  50  50  0\r",
      "\r\n",
      "1102    ctx-lh-G_and_S_Insula_ONLY_AVERAGE              180 20  30  0\r",
      "\r\n",
      "1103    ctx-lh-G_cingulate-Isthmus                      60  25  25  0\r",
      "\r\n",
      "1104    ctx-lh-G_cingulate-Main_part                    25  60  60  0\r",
      "\r\n",
      "\r",
      "\r\n",
      "1200    ctx-lh-G_cingulate-caudal_ACC                   25  60  61  0\r",
      "\r\n",
      "1201    ctx-lh-G_cingulate-rostral_ACC                  25  90  60  0\r",
      "\r\n",
      "1202    ctx-lh-G_cingulate-posterior                    25  120 60  0\r",
      "\r\n",
      "\r",
      "\r\n",
      "1205    ctx-lh-S_cingulate-caudal_ACC                   25  150 60  0\r",
      "\r\n",
      "1206    ctx-lh-S_cingulate-rostral_ACC                  25  180 60  0\r",
      "\r\n",
      "1207    ctx-lh-S_cingulate-posterior                    25  210 60  0\r",
      "\r\n",
      "\r",
      "\r\n",
      "1210    ctx-lh-S_pericallosal-caudal                    25  150 90  0\r",
      "\r\n",
      "1211    ctx-lh-S_pericallosal-rostral                   25  180 90  0\r",
      "\r\n",
      "1212    ctx-lh-S_pericallosal-posterior                 25  210 90  0\r",
      "\r\n",
      "\r",
      "\r\n",
      "1105    ctx-lh-G_cuneus                                 180 20  20  0\r",
      "\r\n",
      "1106    ctx-lh-G_frontal_inf-Opercular_part             220 20  100 0\r",
      "\r\n",
      "1107    ctx-lh-G_frontal_inf-Orbital_part               140 60  60  0\r",
      "\r\n",
      "1108    ctx-lh-G_frontal_inf-Triangular_part            180 220 140 0\r",
      "\r\n",
      "1109    ctx-lh-G_frontal_middle                         140 100 180 0\r",
      "\r\n",
      "1110    ctx-lh-G_frontal_superior                       180 20  140 0\r",
      "\r\n",
      "1111    ctx-lh-G_frontomarginal                         140 20  140 0\r",
      "\r\n",
      "1112    ctx-lh-G_insular_long                           21  10  10  0\r",
      "\r\n",
      "1113    ctx-lh-G_insular_short                          225 140 140 0\r",
      "\r\n",
      "1114    ctx-lh-G_and_S_occipital_inferior               23  60  180 0\r",
      "\r\n",
      "1115    ctx-lh-G_occipital_middle                       180 60  180 0\r",
      "\r\n",
      "1116    ctx-lh-G_occipital_superior                     20  220 60  0\r",
      "\r\n",
      "1117    ctx-lh-G_occipit-temp_lat-Or_fusiform           60  20  140 0\r",
      "\r\n",
      "1118    ctx-lh-G_occipit-temp_med-Lingual_part          220 180 140 0\r",
      "\r\n",
      "1119    ctx-lh-G_occipit-temp_med-Parahippocampal_part  65  100 20  0\r",
      "\r\n",
      "1120    ctx-lh-G_orbital                                220 60  20  0\r",
      "\r\n",
      "1121    ctx-lh-G_paracentral                            60  100 60  0\r",
      "\r\n",
      "1122    ctx-lh-G_parietal_inferior-Angular_part         20  60  220 0\r",
      "\r\n",
      "1123    ctx-lh-G_parietal_inferior-Supramarginal_part   100 100 60  0\r",
      "\r\n",
      "1124    ctx-lh-G_parietal_superior                      220 180 220 0\r",
      "\r\n",
      "1125    ctx-lh-G_postcentral                            20  180 140 0\r",
      "\r\n",
      "1126    ctx-lh-G_precentral                             60  140 180 0\r",
      "\r\n",
      "1127    ctx-lh-G_precuneus                              25  20  140 0\r",
      "\r\n",
      "1128    ctx-lh-G_rectus                                 20  60  100 0\r",
      "\r\n",
      "1129    ctx-lh-G_subcallosal                            60  220 20  0\r",
      "\r\n",
      "1130    ctx-lh-G_subcentral                             60  20  220 0\r",
      "\r\n",
      "1131    ctx-lh-G_temporal_inferior                      220 220 100 0\r",
      "\r\n",
      "1132    ctx-lh-G_temporal_middle                        180 60  60  0\r",
      "\r\n",
      "1133    ctx-lh-G_temp_sup-G_temp_transv_and_interm_S    60  60  220 0\r",
      "\r\n",
      "1134    ctx-lh-G_temp_sup-Lateral_aspect                220 60  220 0\r",
      "\r\n",
      "1135    ctx-lh-G_temp_sup-Planum_polare                 65  220 60  0\r",
      "\r\n",
      "1136    ctx-lh-G_temp_sup-Planum_tempolare              25  140 20  0\r",
      "\r\n",
      "1137    ctx-lh-G_and_S_transverse_frontopolar           13  0   250 0\r",
      "\r\n",
      "1138    ctx-lh-Lat_Fissure-ant_sgt-ramus_horizontal     61  20  220 0\r",
      "\r\n",
      "1139    ctx-lh-Lat_Fissure-ant_sgt-ramus_vertical       61  20  60  0\r",
      "\r\n",
      "1140    ctx-lh-Lat_Fissure-post_sgt                     61  60  100 0\r",
      "\r\n",
      "1141    ctx-lh-Medial_wall                              25  25  25  0\r",
      "\r\n",
      "1142    ctx-lh-Pole_occipital                           140 20  60  0\r",
      "\r\n",
      "1143    ctx-lh-Pole_temporal                            220 180 20  0\r",
      "\r\n",
      "1144    ctx-lh-S_calcarine                              63  180 180 0\r",
      "\r\n",
      "1145    ctx-lh-S_central                                221 20  10  0\r",
      "\r\n",
      "1146    ctx-lh-S_central_insula                         21  220 20  0\r",
      "\r\n",
      "1147    ctx-lh-S_cingulate-Main_part_and_Intracingulate 183 100 20  0\r",
      "\r\n",
      "1148    ctx-lh-S_cingulate-Marginalis_part              221 20  100 0\r",
      "\r\n",
      "1149    ctx-lh-S_circular_insula_anterior               221 60  140 0\r",
      "\r\n",
      "1150    ctx-lh-S_circular_insula_inferior               221 20  220 0\r",
      "\r\n",
      "1151    ctx-lh-S_circular_insula_superior               61  220 220 0\r",
      "\r\n",
      "1152    ctx-lh-S_collateral_transverse_ant              100 200 200 0\r",
      "\r\n",
      "1153    ctx-lh-S_collateral_transverse_post             10  200 200 0\r",
      "\r\n",
      "1154    ctx-lh-S_frontal_inferior                       221 220 20  0\r",
      "\r\n",
      "1155    ctx-lh-S_frontal_middle                         141 20  100 0\r",
      "\r\n",
      "1156    ctx-lh-S_frontal_superior                       61  220 100 0\r",
      "\r\n",
      "1157    ctx-lh-S_frontomarginal                         21  220 60  0\r",
      "\r\n",
      "1158    ctx-lh-S_intermedius_primus-Jensen              141 60  20  0\r",
      "\r\n",
      "1159    ctx-lh-S_intraparietal-and_Parietal_transverse  143 20  220 0\r",
      "\r\n",
      "1160    ctx-lh-S_occipital_anterior                     61  20  180 0\r",
      "\r\n",
      "1161    ctx-lh-S_occipital_middle_and_Lunatus           101 60  220 0\r",
      "\r\n",
      "1162    ctx-lh-S_occipital_superior_and_transversalis   21  20  140 0\r",
      "\r\n",
      "1163    ctx-lh-S_occipito-temporal_lateral              221 140 20  0\r",
      "\r\n",
      "1164    ctx-lh-S_occipito-temporal_medial_and_S_Lingual 141 100 220 0\r",
      "\r\n",
      "1165    ctx-lh-S_orbital-H_shapped                      101 20  20  0\r",
      "\r\n",
      "1166    ctx-lh-S_orbital_lateral                        221 100 20  0\r",
      "\r\n",
      "1167    ctx-lh-S_orbital_medial-Or_olfactory            181 200 20  0\r",
      "\r\n",
      "1168    ctx-lh-S_paracentral                            21  180 140 0\r",
      "\r\n",
      "1169    ctx-lh-S_parieto_occipital                      101 100 180 0\r",
      "\r\n",
      "1170    ctx-lh-S_pericallosal                           181 220 20  0\r",
      "\r\n",
      "1171    ctx-lh-S_postcentral                            21  140 200 0\r",
      "\r\n",
      "1172    ctx-lh-S_precentral-Inferior-part               21  20  240 0\r",
      "\r\n",
      "1173    ctx-lh-S_precentral-Superior-part               21  20  200 0\r",
      "\r\n",
      "1174    ctx-lh-S_subcentral_ant                         61  180 60  0\r",
      "\r\n",
      "1175    ctx-lh-S_subcentral_post                        61  180 250 0\r",
      "\r\n",
      "1176    ctx-lh-S_suborbital                             21  20  60  0\r",
      "\r\n",
      "1177    ctx-lh-S_subparietal                            101 60  60  0\r",
      "\r\n",
      "1178    ctx-lh-S_supracingulate                         21  220 220 0\r",
      "\r\n",
      "1179    ctx-lh-S_temporal_inferior                      21  180 180 0\r",
      "\r\n",
      "1180    ctx-lh-S_temporal_superior                      223 220 60  0\r",
      "\r\n",
      "1181    ctx-lh-S_temporal_transverse                    221 60  60  0\r",
      "\r\n",
      "\r",
      "\r\n",
      "2100    ctx-rh-Unknown                                  0   0   0   0\r",
      "\r\n",
      "2101    ctx-rh-Corpus_callosum                          50  50  50  0\r",
      "\r\n",
      "2102    ctx-rh-G_and_S_Insula_ONLY_AVERAGE              180 20  30  0\r",
      "\r\n",
      "2103    ctx-rh-G_cingulate-Isthmus                      60  25  25  0\r",
      "\r\n",
      "2104    ctx-rh-G_cingulate-Main_part                    25  60  60  0\r",
      "\r\n",
      "\r",
      "\r\n",
      "2105    ctx-rh-G_cuneus                                 180 20  20  0\r",
      "\r\n",
      "2106    ctx-rh-G_frontal_inf-Opercular_part             220 20  100 0\r",
      "\r\n",
      "2107    ctx-rh-G_frontal_inf-Orbital_part               140 60  60  0\r",
      "\r\n",
      "2108    ctx-rh-G_frontal_inf-Triangular_part            180 220 140 0\r",
      "\r\n",
      "2109    ctx-rh-G_frontal_middle                         140 100 180 0\r",
      "\r\n",
      "2110    ctx-rh-G_frontal_superior                       180 20  140 0\r",
      "\r\n",
      "2111    ctx-rh-G_frontomarginal                         140 20  140 0\r",
      "\r\n",
      "2112    ctx-rh-G_insular_long                           21  10  10  0\r",
      "\r\n",
      "2113    ctx-rh-G_insular_short                          225 140 140 0\r",
      "\r\n",
      "2114    ctx-rh-G_and_S_occipital_inferior               23  60  180 0\r",
      "\r\n",
      "2115    ctx-rh-G_occipital_middle                       180 60  180 0\r",
      "\r\n",
      "2116    ctx-rh-G_occipital_superior                     20  220 60  0\r",
      "\r\n",
      "2117    ctx-rh-G_occipit-temp_lat-Or_fusiform           60  20  140 0\r",
      "\r\n",
      "2118    ctx-rh-G_occipit-temp_med-Lingual_part          220 180 140 0\r",
      "\r\n",
      "2119    ctx-rh-G_occipit-temp_med-Parahippocampal_part  65  100 20  0\r",
      "\r\n",
      "2120    ctx-rh-G_orbital                                220 60  20  0\r",
      "\r\n",
      "2121    ctx-rh-G_paracentral                            60  100 60  0\r",
      "\r\n",
      "2122    ctx-rh-G_parietal_inferior-Angular_part         20  60  220 0\r",
      "\r\n",
      "2123    ctx-rh-G_parietal_inferior-Supramarginal_part   100 100 60  0\r",
      "\r\n",
      "2124    ctx-rh-G_parietal_superior                      220 180 220 0\r",
      "\r\n",
      "2125    ctx-rh-G_postcentral                            20  180 140 0\r",
      "\r\n",
      "2126    ctx-rh-G_precentral                             60  140 180 0\r",
      "\r\n",
      "2127    ctx-rh-G_precuneus                              25  20  140 0\r",
      "\r\n",
      "2128    ctx-rh-G_rectus                                 20  60  100 0\r",
      "\r\n",
      "2129    ctx-rh-G_subcallosal                            60  220 20  0\r",
      "\r\n",
      "2130    ctx-rh-G_subcentral                             60  20  220 0\r",
      "\r\n",
      "2131    ctx-rh-G_temporal_inferior                      220 220 100 0\r",
      "\r\n",
      "2132    ctx-rh-G_temporal_middle                        180 60  60  0\r",
      "\r\n",
      "2133    ctx-rh-G_temp_sup-G_temp_transv_and_interm_S    60  60  220 0\r",
      "\r\n",
      "2134    ctx-rh-G_temp_sup-Lateral_aspect                220 60  220 0\r",
      "\r\n",
      "2135    ctx-rh-G_temp_sup-Planum_polare                 65  220 60  0\r",
      "\r\n",
      "2136    ctx-rh-G_temp_sup-Planum_tempolare              25  140 20  0\r",
      "\r\n",
      "2137    ctx-rh-G_and_S_transverse_frontopolar           13  0   250 0\r",
      "\r\n",
      "2138    ctx-rh-Lat_Fissure-ant_sgt-ramus_horizontal     61  20  220 0\r",
      "\r\n",
      "2139    ctx-rh-Lat_Fissure-ant_sgt-ramus_vertical       61  20  60  0\r",
      "\r\n",
      "2140    ctx-rh-Lat_Fissure-post_sgt                     61  60  100 0\r",
      "\r\n",
      "2141    ctx-rh-Medial_wall                              25  25  25  0\r",
      "\r\n",
      "2142    ctx-rh-Pole_occipital                           140 20  60  0\r",
      "\r\n",
      "2143    ctx-rh-Pole_temporal                            220 180 20  0\r",
      "\r\n",
      "2144    ctx-rh-S_calcarine                              63  180 180 0\r",
      "\r\n",
      "2145    ctx-rh-S_central                                221 20  10  0\r",
      "\r\n",
      "2146    ctx-rh-S_central_insula                         21  220 20  0\r",
      "\r\n",
      "2147    ctx-rh-S_cingulate-Main_part_and_Intracingulate 183 100 20  0\r",
      "\r\n",
      "2148    ctx-rh-S_cingulate-Marginalis_part              221 20  100 0\r",
      "\r\n",
      "2149    ctx-rh-S_circular_insula_anterior               221 60  140 0\r",
      "\r\n",
      "2150    ctx-rh-S_circular_insula_inferior               221 20  220 0\r",
      "\r\n",
      "2151    ctx-rh-S_circular_insula_superior               61  220 220 0\r",
      "\r\n",
      "2152    ctx-rh-S_collateral_transverse_ant              100 200 200 0\r",
      "\r\n",
      "2153    ctx-rh-S_collateral_transverse_post             10  200 200 0\r",
      "\r\n",
      "2154    ctx-rh-S_frontal_inferior                       221 220 20  0\r",
      "\r\n",
      "2155    ctx-rh-S_frontal_middle                         141 20  100 0\r",
      "\r\n",
      "2156    ctx-rh-S_frontal_superior                       61  220 100 0\r",
      "\r\n",
      "2157    ctx-rh-S_frontomarginal                         21  220 60  0\r",
      "\r\n",
      "2158    ctx-rh-S_intermedius_primus-Jensen              141 60  20  0\r",
      "\r\n",
      "2159    ctx-rh-S_intraparietal-and_Parietal_transverse  143 20  220 0\r",
      "\r\n",
      "2160    ctx-rh-S_occipital_anterior                     61  20  180 0\r",
      "\r\n",
      "2161    ctx-rh-S_occipital_middle_and_Lunatus           101 60  220 0\r",
      "\r\n",
      "2162    ctx-rh-S_occipital_superior_and_transversalis   21  20  140 0\r",
      "\r\n",
      "2163    ctx-rh-S_occipito-temporal_lateral              221 140 20  0\r",
      "\r\n",
      "2164    ctx-rh-S_occipito-temporal_medial_and_S_Lingual 141 100 220 0\r",
      "\r\n",
      "2165    ctx-rh-S_orbital-H_shapped                      101 20  20  0\r",
      "\r\n",
      "2166    ctx-rh-S_orbital_lateral                        221 100 20  0\r",
      "\r\n",
      "2167    ctx-rh-S_orbital_medial-Or_olfactory            181 200 20  0\r",
      "\r\n",
      "2168    ctx-rh-S_paracentral                            21  180 140 0\r",
      "\r\n",
      "2169    ctx-rh-S_parieto_occipital                      101 100 180 0\r",
      "\r\n",
      "2170    ctx-rh-S_pericallosal                           181 220 20  0\r",
      "\r\n",
      "2171    ctx-rh-S_postcentral                            21  140 200 0\r",
      "\r\n",
      "2172    ctx-rh-S_precentral-Inferior-part               21  20  240 0\r",
      "\r\n",
      "2173    ctx-rh-S_precentral-Superior-part               21  20  200 0\r",
      "\r\n",
      "2174    ctx-rh-S_subcentral_ant                         61  180 60  0\r",
      "\r\n",
      "2175    ctx-rh-S_subcentral_post                        61  180 250 0\r",
      "\r\n",
      "2176    ctx-rh-S_suborbital                             21  20  60  0\r",
      "\r\n",
      "2177    ctx-rh-S_subparietal                            101 60  60  0\r",
      "\r\n",
      "2178    ctx-rh-S_supracingulate                         21  220 220 0\r",
      "\r\n",
      "2179    ctx-rh-S_temporal_inferior                      21  180 180 0\r",
      "\r\n",
      "2180    ctx-rh-S_temporal_superior                      223 220 60  0\r",
      "\r\n",
      "2181    ctx-rh-S_temporal_transverse                    221 60  60  0\r",
      "\r\n",
      "\r",
      "\r\n",
      "\r",
      "\r\n",
      "2200    ctx-rh-G_cingulate-caudal_ACC                   25  60  61  0\r",
      "\r\n",
      "2201    ctx-rh-G_cingulate-rostral_ACC                  25  90  60  0\r",
      "\r\n",
      "2202    ctx-rh-G_cingulate-posterior                    25  120 60  0\r",
      "\r\n",
      "\r",
      "\r\n",
      "2205    ctx-rh-S_cingulate-caudal_ACC                   25  150 60  0\r",
      "\r\n",
      "2206    ctx-rh-S_cingulate-rostral_ACC                  25  180 60  0\r",
      "\r\n",
      "2207    ctx-rh-S_cingulate-posterior                    25  210 60  0\r",
      "\r\n",
      "\r",
      "\r\n",
      "2210    ctx-rh-S_pericallosal-caudal                    25  150 90  0\r",
      "\r\n",
      "2211    ctx-rh-S_pericallosal-rostral                   25  180 90  0\r",
      "\r\n",
      "2212    ctx-rh-S_pericallosal-posterior                 25  210 90  0\r",
      "\r\n",
      "\r",
      "\r\n",
      "3100    wm-lh-Unknown                                   0   0   0   0\r",
      "\r\n",
      "3101    wm-lh-Corpus_callosum                           50  50  50  0\r",
      "\r\n",
      "3102    wm-lh-G_and_S_Insula_ONLY_AVERAGE               180 20  30  0\r",
      "\r\n",
      "3103    wm-lh-G_cingulate-Isthmus                       60  25  25  0\r",
      "\r\n",
      "3104    wm-lh-G_cingulate-Main_part                     25  60  60  0\r",
      "\r\n",
      "3105    wm-lh-G_cuneus                                  180 20  20  0\r",
      "\r\n",
      "3106    wm-lh-G_frontal_inf-Opercular_part              220 20  100 0\r",
      "\r\n",
      "3107    wm-lh-G_frontal_inf-Orbital_part                140 60  60  0\r",
      "\r\n",
      "3108    wm-lh-G_frontal_inf-Triangular_part             180 220 140 0\r",
      "\r\n",
      "3109    wm-lh-G_frontal_middle                          140 100 180 0\r",
      "\r\n",
      "3110    wm-lh-G_frontal_superior                        180 20  140 0\r",
      "\r\n",
      "3111    wm-lh-G_frontomarginal                          140 20  140 0\r",
      "\r\n",
      "3112    wm-lh-G_insular_long                            21  10  10  0\r",
      "\r\n",
      "3113    wm-lh-G_insular_short                           225 140 140 0\r",
      "\r\n",
      "3114    wm-lh-G_and_S_occipital_inferior                23  60  180 0\r",
      "\r\n",
      "3115    wm-lh-G_occipital_middle                        180 60  180 0\r",
      "\r\n",
      "3116    wm-lh-G_occipital_superior                      20  220 60  0\r",
      "\r\n",
      "3117    wm-lh-G_occipit-temp_lat-Or_fusiform            60  20  140 0\r",
      "\r\n",
      "3118    wm-lh-G_occipit-temp_med-Lingual_part           220 180 140 0\r",
      "\r\n",
      "3119    wm-lh-G_occipit-temp_med-Parahippocampal_part   65  100 20  0\r",
      "\r\n",
      "3120    wm-lh-G_orbital                                 220 60  20  0\r",
      "\r\n",
      "3121    wm-lh-G_paracentral                             60  100 60  0\r",
      "\r\n",
      "3122    wm-lh-G_parietal_inferior-Angular_part          20  60  220 0\r",
      "\r\n",
      "3123    wm-lh-G_parietal_inferior-Supramarginal_part    100 100 60  0\r",
      "\r\n",
      "3124    wm-lh-G_parietal_superior                       220 180 220 0\r",
      "\r\n",
      "3125    wm-lh-G_postcentral                             20  180 140 0\r",
      "\r\n",
      "3126    wm-lh-G_precentral                              60  140 180 0\r",
      "\r\n",
      "3127    wm-lh-G_precuneus                               25  20  140 0\r",
      "\r\n",
      "3128    wm-lh-G_rectus                                  20  60  100 0\r",
      "\r\n",
      "3129    wm-lh-G_subcallosal                             60  220 20  0\r",
      "\r\n",
      "3130    wm-lh-G_subcentral                              60  20  220 0\r",
      "\r\n",
      "3131    wm-lh-G_temporal_inferior                       220 220 100 0\r",
      "\r\n",
      "3132    wm-lh-G_temporal_middle                         180 60  60  0\r",
      "\r\n",
      "3133    wm-lh-G_temp_sup-G_temp_transv_and_interm_S     60  60  220 0\r",
      "\r\n",
      "3134    wm-lh-G_temp_sup-Lateral_aspect                 220 60  220 0\r",
      "\r\n",
      "3135    wm-lh-G_temp_sup-Planum_polare                  65  220 60  0\r",
      "\r\n",
      "3136    wm-lh-G_temp_sup-Planum_tempolare               25  140 20  0\r",
      "\r\n",
      "3137    wm-lh-G_and_S_transverse_frontopolar            13  0   250 0\r",
      "\r\n",
      "3138    wm-lh-Lat_Fissure-ant_sgt-ramus_horizontal      61  20  220 0\r",
      "\r\n",
      "3139    wm-lh-Lat_Fissure-ant_sgt-ramus_vertical        61  20  60  0\r",
      "\r\n",
      "3140    wm-lh-Lat_Fissure-post_sgt                      61  60  100 0\r",
      "\r\n",
      "3141    wm-lh-Medial_wall                               25  25  25  0\r",
      "\r\n",
      "3142    wm-lh-Pole_occipital                            140 20  60  0\r",
      "\r\n",
      "3143    wm-lh-Pole_temporal                             220 180 20  0\r",
      "\r\n",
      "3144    wm-lh-S_calcarine                               63  180 180 0\r",
      "\r\n",
      "3145    wm-lh-S_central                                 221 20  10  0\r",
      "\r\n",
      "3146    wm-lh-S_central_insula                          21  220 20  0\r",
      "\r\n",
      "3147    wm-lh-S_cingulate-Main_part_and_Intracingulate  183 100 20  0\r",
      "\r\n",
      "3148    wm-lh-S_cingulate-Marginalis_part               221 20  100 0\r",
      "\r\n",
      "3149    wm-lh-S_circular_insula_anterior                221 60  140 0\r",
      "\r\n",
      "3150    wm-lh-S_circular_insula_inferior                221 20  220 0\r",
      "\r\n",
      "3151    wm-lh-S_circular_insula_superior                61  220 220 0\r",
      "\r\n",
      "3152    wm-lh-S_collateral_transverse_ant               100 200 200 0\r",
      "\r\n",
      "3153    wm-lh-S_collateral_transverse_post              10  200 200 0\r",
      "\r\n",
      "3154    wm-lh-S_frontal_inferior                        221 220 20  0\r",
      "\r\n",
      "3155    wm-lh-S_frontal_middle                          141 20  100 0\r",
      "\r\n",
      "3156    wm-lh-S_frontal_superior                        61  220 100 0\r",
      "\r\n",
      "3157    wm-lh-S_frontomarginal                          21  220 60  0\r",
      "\r\n",
      "3158    wm-lh-S_intermedius_primus-Jensen               141 60  20  0\r",
      "\r\n",
      "3159    wm-lh-S_intraparietal-and_Parietal_transverse   143 20  220 0\r",
      "\r\n",
      "3160    wm-lh-S_occipital_anterior                      61  20  180 0\r",
      "\r\n",
      "3161    wm-lh-S_occipital_middle_and_Lunatus            101 60  220 0\r",
      "\r\n",
      "3162    wm-lh-S_occipital_superior_and_transversalis    21  20  140 0\r",
      "\r\n",
      "3163    wm-lh-S_occipito-temporal_lateral               221 140 20  0\r",
      "\r\n",
      "3164    wm-lh-S_occipito-temporal_medial_and_S_Lingual  141 100 220 0\r",
      "\r\n",
      "3165    wm-lh-S_orbital-H_shapped                       101 20  20  0\r",
      "\r\n",
      "3166    wm-lh-S_orbital_lateral                         221 100 20  0\r",
      "\r\n",
      "3167    wm-lh-S_orbital_medial-Or_olfactory             181 200 20  0\r",
      "\r\n",
      "3168    wm-lh-S_paracentral                             21  180 140 0\r",
      "\r\n",
      "3169    wm-lh-S_parieto_occipital                       101 100 180 0\r",
      "\r\n",
      "3170    wm-lh-S_pericallosal                            181 220 20  0\r",
      "\r\n",
      "3171    wm-lh-S_postcentral                             21  140 200 0\r",
      "\r\n",
      "3172    wm-lh-S_precentral-Inferior-part                21  20  240 0\r",
      "\r\n",
      "3173    wm-lh-S_precentral-Superior-part                21  20  200 0\r",
      "\r\n",
      "3174    wm-lh-S_subcentral_ant                          61  180 60  0\r",
      "\r\n",
      "3175    wm-lh-S_subcentral_post                         61  180 250 0\r",
      "\r\n",
      "3176    wm-lh-S_suborbital                              21  20  60  0\r",
      "\r\n",
      "3177    wm-lh-S_subparietal                             101 60  60  0\r",
      "\r\n",
      "3178    wm-lh-S_supracingulate                          21  220 220 0\r",
      "\r\n",
      "3179    wm-lh-S_temporal_inferior                       21  180 180 0\r",
      "\r\n",
      "3180    wm-lh-S_temporal_superior                       223 220 60  0\r",
      "\r\n",
      "3181    wm-lh-S_temporal_transverse                     221 60  60  0\r",
      "\r\n",
      "\r",
      "\r\n",
      "4100    wm-rh-Unknown                                   0   0   0   0\r",
      "\r\n",
      "4101    wm-rh-Corpus_callosum                           50  50  50  0\r",
      "\r\n",
      "4102    wm-rh-G_and_S_Insula_ONLY_AVERAGE               180 20  30  0\r",
      "\r\n",
      "4103    wm-rh-G_cingulate-Isthmus                       60  25  25  0\r",
      "\r\n",
      "4104    wm-rh-G_cingulate-Main_part                     25  60  60  0\r",
      "\r\n",
      "4105    wm-rh-G_cuneus                                  180 20  20  0\r",
      "\r\n",
      "4106    wm-rh-G_frontal_inf-Opercular_part              220 20  100 0\r",
      "\r\n",
      "4107    wm-rh-G_frontal_inf-Orbital_part                140 60  60  0\r",
      "\r\n",
      "4108    wm-rh-G_frontal_inf-Triangular_part             180 220 140 0\r",
      "\r\n",
      "4109    wm-rh-G_frontal_middle                          140 100 180 0\r",
      "\r\n",
      "4110    wm-rh-G_frontal_superior                        180 20  140 0\r",
      "\r\n",
      "4111    wm-rh-G_frontomarginal                          140 20  140 0\r",
      "\r\n",
      "4112    wm-rh-G_insular_long                            21  10  10  0\r",
      "\r\n",
      "4113    wm-rh-G_insular_short                           225 140 140 0\r",
      "\r\n",
      "4114    wm-rh-G_and_S_occipital_inferior                23  60  180 0\r",
      "\r\n",
      "4115    wm-rh-G_occipital_middle                        180 60  180 0\r",
      "\r\n",
      "4116    wm-rh-G_occipital_superior                      20  220 60  0\r",
      "\r\n",
      "4117    wm-rh-G_occipit-temp_lat-Or_fusiform            60  20  140 0\r",
      "\r\n",
      "4118    wm-rh-G_occipit-temp_med-Lingual_part           220 180 140 0\r",
      "\r\n",
      "4119    wm-rh-G_occipit-temp_med-Parahippocampal_part   65  100 20  0\r",
      "\r\n",
      "4120    wm-rh-G_orbital                                 220 60  20  0\r",
      "\r\n",
      "4121    wm-rh-G_paracentral                             60  100 60  0\r",
      "\r\n",
      "4122    wm-rh-G_parietal_inferior-Angular_part          20  60  220 0\r",
      "\r\n",
      "4123    wm-rh-G_parietal_inferior-Supramarginal_part    100 100 60  0\r",
      "\r\n",
      "4124    wm-rh-G_parietal_superior                       220 180 220 0\r",
      "\r\n",
      "4125    wm-rh-G_postcentral                             20  180 140 0\r",
      "\r\n",
      "4126    wm-rh-G_precentral                              60  140 180 0\r",
      "\r\n",
      "4127    wm-rh-G_precuneus                               25  20  140 0\r",
      "\r\n",
      "4128    wm-rh-G_rectus                                  20  60  100 0\r",
      "\r\n",
      "4129    wm-rh-G_subcallosal                             60  220 20  0\r",
      "\r\n",
      "4130    wm-rh-G_subcentral                              60  20  220 0\r",
      "\r\n",
      "4131    wm-rh-G_temporal_inferior                       220 220 100 0\r",
      "\r\n",
      "4132    wm-rh-G_temporal_middle                         180 60  60  0\r",
      "\r\n",
      "4133    wm-rh-G_temp_sup-G_temp_transv_and_interm_S     60  60  220 0\r",
      "\r\n",
      "4134    wm-rh-G_temp_sup-Lateral_aspect                 220 60  220 0\r",
      "\r\n",
      "4135    wm-rh-G_temp_sup-Planum_polare                  65  220 60  0\r",
      "\r\n",
      "4136    wm-rh-G_temp_sup-Planum_tempolare               25  140 20  0\r",
      "\r\n",
      "4137    wm-rh-G_and_S_transverse_frontopolar            13  0   250 0\r",
      "\r\n",
      "4138    wm-rh-Lat_Fissure-ant_sgt-ramus_horizontal      61  20  220 0\r",
      "\r\n",
      "4139    wm-rh-Lat_Fissure-ant_sgt-ramus_vertical        61  20  60  0\r",
      "\r\n",
      "4140    wm-rh-Lat_Fissure-post_sgt                      61  60  100 0\r",
      "\r\n",
      "4141    wm-rh-Medial_wall                               25  25  25  0\r",
      "\r\n",
      "4142    wm-rh-Pole_occipital                            140 20  60  0\r",
      "\r\n",
      "4143    wm-rh-Pole_temporal                             220 180 20  0\r",
      "\r\n",
      "4144    wm-rh-S_calcarine                               63  180 180 0\r",
      "\r\n",
      "4145    wm-rh-S_central                                 221 20  10  0\r",
      "\r\n",
      "4146    wm-rh-S_central_insula                          21  220 20  0\r",
      "\r\n",
      "4147    wm-rh-S_cingulate-Main_part_and_Intracingulate  183 100 20  0\r",
      "\r\n",
      "4148    wm-rh-S_cingulate-Marginalis_part               221 20  100 0\r",
      "\r\n",
      "4149    wm-rh-S_circular_insula_anterior                221 60  140 0\r",
      "\r\n",
      "4150    wm-rh-S_circular_insula_inferior                221 20  220 0\r",
      "\r\n",
      "4151    wm-rh-S_circular_insula_superior                61  220 220 0\r",
      "\r\n",
      "4152    wm-rh-S_collateral_transverse_ant               100 200 200 0\r",
      "\r\n",
      "4153    wm-rh-S_collateral_transverse_post              10  200 200 0\r",
      "\r\n",
      "4154    wm-rh-S_frontal_inferior                        221 220 20  0\r",
      "\r\n",
      "4155    wm-rh-S_frontal_middle                          141 20  100 0\r",
      "\r\n",
      "4156    wm-rh-S_frontal_superior                        61  220 100 0\r",
      "\r\n",
      "4157    wm-rh-S_frontomarginal                          21  220 60  0\r",
      "\r\n",
      "4158    wm-rh-S_intermedius_primus-Jensen               141 60  20  0\r",
      "\r\n",
      "4159    wm-rh-S_intraparietal-and_Parietal_transverse   143 20  220 0\r",
      "\r\n",
      "4160    wm-rh-S_occipital_anterior                      61  20  180 0\r",
      "\r\n",
      "4161    wm-rh-S_occipital_middle_and_Lunatus            101 60  220 0\r",
      "\r\n",
      "4162    wm-rh-S_occipital_superior_and_transversalis    21  20  140 0\r",
      "\r\n",
      "4163    wm-rh-S_occipito-temporal_lateral               221 140 20  0\r",
      "\r\n",
      "4164    wm-rh-S_occipito-temporal_medial_and_S_Lingual  141 100 220 0\r",
      "\r\n",
      "4165    wm-rh-S_orbital-H_shapped                       101 20  20  0\r",
      "\r\n",
      "4166    wm-rh-S_orbital_lateral                         221 100 20  0\r",
      "\r\n",
      "4167    wm-rh-S_orbital_medial-Or_olfactory             181 200 20  0\r",
      "\r\n",
      "4168    wm-rh-S_paracentral                             21  180 140 0\r",
      "\r\n",
      "4169    wm-rh-S_parieto_occipital                       101 100 180 0\r",
      "\r\n",
      "4170    wm-rh-S_pericallosal                            181 220 20  0\r",
      "\r\n",
      "4171    wm-rh-S_postcentral                             21  140 200 0\r",
      "\r\n",
      "4172    wm-rh-S_precentral-Inferior-part                21  20  240 0\r",
      "\r\n",
      "4173    wm-rh-S_precentral-Superior-part                21  20  200 0\r",
      "\r\n",
      "4174    wm-rh-S_subcentral_ant                          61  180 60  0\r",
      "\r\n",
      "4175    wm-rh-S_subcentral_post                         61  180 250 0\r",
      "\r\n",
      "4176    wm-rh-S_suborbital                              21  20  60  0\r",
      "\r\n",
      "4177    wm-rh-S_subparietal                             101 60  60  0\r",
      "\r\n",
      "4178    wm-rh-S_supracingulate                          21  220 220 0\r",
      "\r\n",
      "4179    wm-rh-S_temporal_inferior                       21  180 180 0\r",
      "\r\n",
      "4180    wm-rh-S_temporal_superior                       223 220 60  0\r",
      "\r\n",
      "4181    wm-rh-S_temporal_transverse                     221 60  60  0\r",
      "\r\n",
      "\r",
      "\r\n",
      "5001    Left-UnsegmentedWhiteMatter                     20  30  40  0\r",
      "\r\n",
      "5002    Right-UnsegmentedWhiteMatter                    20  30  40  0\r",
      "\r\n",
      "\r",
      "\r\n",
      "# Below is the color table for white-matter pathways produced by dmri_paths\r",
      "\r\n",
      "\r",
      "\r\n",
      "#No.   Label Name:                                      R   G   B   A\r",
      "\r\n",
      "#\r",
      "\r\n",
      "5100   fmajor                                           204 102 102 0\r",
      "\r\n",
      "5101   fminor                                           204 102 102 0\r",
      "\r\n",
      "#\r",
      "\r\n",
      "5102   lh.atr                                           255 255 102 0\r",
      "\r\n",
      "5103   lh.cab                                           153 204 0   0\r",
      "\r\n",
      "5104   lh.ccg                                           0   153 153 0\r",
      "\r\n",
      "5105   lh.cst                                           204 153 255 0\r",
      "\r\n",
      "5106   lh.ilf                                           255 153 51  0\r",
      "\r\n",
      "5107   lh.slfp                                          204 204 204 0\r",
      "\r\n",
      "5108   lh.slft                                          153 255 255 0\r",
      "\r\n",
      "5109   lh.unc                                           102 153 255 0\r",
      "\r\n",
      "#\r",
      "\r\n",
      "5110   rh.atr                                           255 255 102 0\r",
      "\r\n",
      "5111   rh.cab                                           153 204 0   0\r",
      "\r\n",
      "5112   rh.ccg                                           0   153 153 0\r",
      "\r\n",
      "5113   rh.cst                                           204 153 255 0\r",
      "\r\n",
      "5114   rh.ilf                                           255 153 51  0\r",
      "\r\n",
      "5115   rh.slfp                                          204 204 204 0\r",
      "\r\n",
      "5116   rh.slft                                          153 255 255 0\r",
      "\r\n",
      "5117   rh.unc                                           102 153 255 0\r",
      "\r\n",
      "\r",
      "\r\n",
      "# These are the same tracula labels as above in human-readable form\r",
      "\r\n",
      "5200   CC-ForcepsMajor                                  204 102 102 0\r",
      "\r\n",
      "5201   CC-ForcepsMinor                                  204 102 102 0\r",
      "\r\n",
      "5202   LAntThalRadiation                                255 255 102 0\r",
      "\r\n",
      "5203   LCingulumAngBundle                               153 204 0   0\r",
      "\r\n",
      "5204   LCingulumCingGyrus                               0   153 153 0\r",
      "\r\n",
      "5205   LCorticospinalTract                              204 153 255 0\r",
      "\r\n",
      "5206   LInfLongFas                                      255 153 51  0\r",
      "\r\n",
      "5207   LSupLongFasParietal                              204 204 204 0\r",
      "\r\n",
      "5208   LSupLongFasTemporal                              153 255 255 0\r",
      "\r\n",
      "5209   LUncinateFas                                     102 153 255 0\r",
      "\r\n",
      "5210   RAntThalRadiation                                255 255 102 0\r",
      "\r\n",
      "5211   RCingulumAngBundle                               153 204 0   0\r",
      "\r\n",
      "5212   RCingulumCingGyrus                               0   153 153 0\r",
      "\r\n",
      "5213   RCorticospinalTract                              204 153 255 0\r",
      "\r\n",
      "5214   RInfLongFas                                      255 153 51  0\r",
      "\r\n",
      "5215   RSupLongFasParietal                              204 204 204 0\r",
      "\r\n",
      "5216   RSupLongFasTemporal                              153 255 255 0\r",
      "\r\n",
      "5217   RUncinateFas                                     102 153 255 0\r",
      "\r\n",
      "\r",
      "\r\n",
      "########################################\r",
      "\r\n",
      "\r",
      "\r\n",
      "6000   CST-orig                                         0   255 0   0\r",
      "\r\n",
      "6001   CST-hammer                                       255 255 0   0\r",
      "\r\n",
      "6002   CST-CVS                                          0   255 255 0\r",
      "\r\n",
      "6003   CST-flirt                                        0   0   255 0\r",
      "\r\n",
      "\r",
      "\r\n",
      "6010   Left-SLF1                                        236 16  231 0\r",
      "\r\n",
      "6020   Right-SLF1                                       237 18  232 0\r",
      "\r\n",
      "\r",
      "\r\n",
      "6030   Left-SLF3                                        236 13  227 0\r",
      "\r\n",
      "6040   Right-SLF3                                       236 17  228 0\r",
      "\r\n",
      "\r",
      "\r\n",
      "6050   Left-CST                                         1   255 1   0\r",
      "\r\n",
      "6060   Right-CST                                        2   255 1   0\r",
      "\r\n",
      "\r",
      "\r\n",
      "6070   Left-SLF2                                        236 14  230 0\r",
      "\r\n",
      "6080   Right-SLF2                                       237 14  230 0\r",
      "\r\n",
      "\r",
      "\r\n",
      "#No.  Label Name:                                       R   G   B   A\r",
      "\r\n",
      "\r",
      "\r\n",
      "7001  Lateral-nucleus                                   72  132 181 0\r",
      "\r\n",
      "7002  Basolateral-nucleus                               243 243 243 0\r",
      "\r\n",
      "7003  Basal-nucleus                                     207 63  79  0\r",
      "\r\n",
      "7004  Centromedial-nucleus                              121 20  135 0\r",
      "\r\n",
      "7005  Central-nucleus                                   197 60  248 0\r",
      "\r\n",
      "7006  Medial-nucleus                                    2   149 2   0\r",
      "\r\n",
      "7007  Cortical-nucleus                                  221 249 166 0\r",
      "\r\n",
      "7008  Accessory-Basal-nucleus                           232 146 35  0\r",
      "\r\n",
      "7009  Corticoamygdaloid-transitio                       20  60  120 0\r",
      "\r\n",
      "7010  Anterior-amygdaloid-area-AAA                      250 250 0   0\r",
      "\r\n",
      "7011  Fusion-amygdala-HP-FAH                            122 187 222 0\r",
      "\r\n",
      "7012  Hippocampal-amygdala-transition-HATA              237 12  177 0\r",
      "\r\n",
      "7013  Endopiriform-nucleus                              10  49  255 0\r",
      "\r\n",
      "7014  Lateral-nucleus-olfactory-tract                   205 184 144 0\r",
      "\r\n",
      "7015  Paralaminar-nucleus                               45  205 165 0\r",
      "\r\n",
      "7016  Intercalated-nucleus                              117 160 175 0\r",
      "\r\n",
      "7017  Prepiriform-cortex                                221 217 21  0\r",
      "\r\n",
      "7018  Periamygdaloid-cortex                             20  60  120 0\r",
      "\r\n",
      "7019  Envelope-Amygdala                                 141 21  100 0\r",
      "\r\n",
      "7020  Extranuclear-Amydala                              225 140 141 0\r",
      "\r\n",
      "\r",
      "\r\n",
      "7100  Brainstem-inferior-colliculus                     42  201 168 0\r",
      "\r\n",
      "7101  Brainstem-cochlear-nucleus                        168 104 162 0\r",
      "\r\n",
      "\r",
      "\r\n",
      "8001  Thalamus-Anterior                                 74  130 181 0\r",
      "\r\n",
      "8002  Thalamus-Ventral-anterior                         242 241 240 0\r",
      "\r\n",
      "8003  Thalamus-Lateral-dorsal                           206 65  78  0\r",
      "\r\n",
      "8004  Thalamus-Lateral-posterior                        120 21  133 0\r",
      "\r\n",
      "8005  Thalamus-Ventral-lateral                          195 61  246 0\r",
      "\r\n",
      "8006  Thalamus-Ventral-posterior-medial                 3   147 6   0\r",
      "\r\n",
      "8007  Thalamus-Ventral-posterior-lateral                220 251 163 0\r",
      "\r\n",
      "8008  Thalamus-intralaminar                             232 146 33  0\r",
      "\r\n",
      "8009  Thalamus-centromedian                             4   114 14  0\r",
      "\r\n",
      "8010  Thalamus-mediodorsal                              121 184 220 0\r",
      "\r\n",
      "8011  Thalamus-medial                                   235 11  175 0\r",
      "\r\n",
      "8012  Thalamus-pulvinar                                 12  46  250 0\r",
      "\r\n",
      "8013  Thalamus-lateral-geniculate                       203 182 143 0\r",
      "\r\n",
      "8014  Thalamus-medial-geniculate                        42  204 167 0\r",
      "\r\n",
      "\r",
      "\r\n",
      "#\r",
      "\r\n",
      "# Labels for thalamus parcellation using probabilistic tractography. See:\r",
      "\r\n",
      "# Functional--Anatomical Validation and Individual Variation of Diffusion\r",
      "\r\n",
      "# Tractography-based Segmentation of the Human Thalamus; Cerebral Cortex\r",
      "\r\n",
      "# January 2005;15:31--39, doi:10.1093/cercor/bhh105, Advance Access\r",
      "\r\n",
      "# publication July 6, 2004\r",
      "\r\n",
      "#\r",
      "\r\n",
      "\r",
      "\r\n",
      "#No.    Label Name:                         R   G   B   A\r",
      "\r\n",
      "9000    ctx-lh-prefrontal                   30  5   30  0\r",
      "\r\n",
      "9001    ctx-lh-primary-motor                30  100 45  0\r",
      "\r\n",
      "9002    ctx-lh-premotor                     130 100 165 0\r",
      "\r\n",
      "9003    ctx-lh-temporal                     105 25  5   0\r",
      "\r\n",
      "9004    ctx-lh-posterior-parietal           125 70  55  0\r",
      "\r\n",
      "9005    ctx-lh-prim-sec-somatosensory       225 20  105 0\r",
      "\r\n",
      "9006    ctx-lh-occipital                    225 20  15  0\r",
      "\r\n",
      "\r",
      "\r\n",
      "9500    ctx-rh-prefrontal                   30  55  30  0\r",
      "\r\n",
      "9501    ctx-rh-primary-motor                30  150 45  0\r",
      "\r\n",
      "9502    ctx-rh-premotor                     130 150 165 0\r",
      "\r\n",
      "9503    ctx-rh-temporal                     105 75  5   0\r",
      "\r\n",
      "9504    ctx-rh-posterior-parietal           125 120 55  0\r",
      "\r\n",
      "9505    ctx-rh-prim-sec-somatosensory       225 70  105 0\r",
      "\r\n",
      "9506    ctx-rh-occipital                    225 70  15  0\r",
      "\r\n",
      "\r",
      "\r\n",
      "# Below is the color table for the cortical labels of the seg volume\r",
      "\r\n",
      "# created by mri_aparc2aseg (with --a2009s flag) in which the aseg\r",
      "\r\n",
      "# cortex label is replaced by the labels in the aparc.a2009s. The\r",
      "\r\n",
      "# cortical labels are the same as in Simple_surface_labels2009.txt,\r",
      "\r\n",
      "# except that left hemisphere has 11100 added to the index and the\r",
      "\r\n",
      "# right has 12100 added.  The label names are also prepended with\r",
      "\r\n",
      "# ctx_lh_, ctx_rh_, wm_lh_ and wm_rh_ (note usage of _ instead of -\r",
      "\r\n",
      "# to differentiate from a2005s labels).\r",
      "\r\n",
      "\r",
      "\r\n",
      "#No.   Label Name:                              R   G   B   A\r",
      "\r\n",
      "11100  ctx_lh_Unknown                           0   0   0   0\r",
      "\r\n",
      "11101  ctx_lh_G_and_S_frontomargin             23 220  60   0\r",
      "\r\n",
      "11102  ctx_lh_G_and_S_occipital_inf            23  60 180   0\r",
      "\r\n",
      "11103  ctx_lh_G_and_S_paracentral              63 100  60   0\r",
      "\r\n",
      "11104  ctx_lh_G_and_S_subcentral               63  20 220   0\r",
      "\r\n",
      "11105  ctx_lh_G_and_S_transv_frontopol         13   0 250   0\r",
      "\r\n",
      "11106  ctx_lh_G_and_S_cingul-Ant               26  60   0   0\r",
      "\r\n",
      "11107  ctx_lh_G_and_S_cingul-Mid-Ant           26  60  75   0\r",
      "\r\n",
      "11108  ctx_lh_G_and_S_cingul-Mid-Post          26  60 150   0\r",
      "\r\n",
      "11109  ctx_lh_G_cingul-Post-dorsal             25  60 250   0\r",
      "\r\n",
      "11110  ctx_lh_G_cingul-Post-ventral            60  25  25   0\r",
      "\r\n",
      "11111  ctx_lh_G_cuneus                        180  20  20   0\r",
      "\r\n",
      "11112  ctx_lh_G_front_inf-Opercular           220  20 100   0\r",
      "\r\n",
      "11113  ctx_lh_G_front_inf-Orbital             140  60  60   0\r",
      "\r\n",
      "11114  ctx_lh_G_front_inf-Triangul            180 220 140   0\r",
      "\r\n",
      "11115  ctx_lh_G_front_middle                  140 100 180   0\r",
      "\r\n",
      "11116  ctx_lh_G_front_sup                     180  20 140   0\r",
      "\r\n",
      "11117  ctx_lh_G_Ins_lg_and_S_cent_ins          23  10  10   0\r",
      "\r\n",
      "11118  ctx_lh_G_insular_short                 225 140 140   0\r",
      "\r\n",
      "11119  ctx_lh_G_occipital_middle              180  60 180   0\r",
      "\r\n",
      "11120  ctx_lh_G_occipital_sup                  20 220  60   0\r",
      "\r\n",
      "11121  ctx_lh_G_oc-temp_lat-fusifor            60  20 140   0\r",
      "\r\n",
      "11122  ctx_lh_G_oc-temp_med-Lingual           220 180 140   0\r",
      "\r\n",
      "11123  ctx_lh_G_oc-temp_med-Parahip            65 100  20   0\r",
      "\r\n",
      "11124  ctx_lh_G_orbital                       220  60  20   0\r",
      "\r\n",
      "11125  ctx_lh_G_pariet_inf-Angular             20  60 220   0\r",
      "\r\n",
      "11126  ctx_lh_G_pariet_inf-Supramar           100 100  60   0\r",
      "\r\n",
      "11127  ctx_lh_G_parietal_sup                  220 180 220   0\r",
      "\r\n",
      "11128  ctx_lh_G_postcentral                    20 180 140   0\r",
      "\r\n",
      "11129  ctx_lh_G_precentral                     60 140 180   0\r",
      "\r\n",
      "11130  ctx_lh_G_precuneus                      25  20 140   0\r",
      "\r\n",
      "11131  ctx_lh_G_rectus                         20  60 100   0\r",
      "\r\n",
      "11132  ctx_lh_G_subcallosal                    60 220  20   0\r",
      "\r\n",
      "11133  ctx_lh_G_temp_sup-G_T_transv            60  60 220   0\r",
      "\r\n",
      "11134  ctx_lh_G_temp_sup-Lateral              220  60 220   0\r",
      "\r\n",
      "11135  ctx_lh_G_temp_sup-Plan_polar            65 220  60   0\r",
      "\r\n",
      "11136  ctx_lh_G_temp_sup-Plan_tempo            25 140  20   0\r",
      "\r\n",
      "11137  ctx_lh_G_temporal_inf                  220 220 100   0\r",
      "\r\n",
      "11138  ctx_lh_G_temporal_middle               180  60  60   0\r",
      "\r\n",
      "11139  ctx_lh_Lat_Fis-ant-Horizont             61  20 220   0\r",
      "\r\n",
      "11140  ctx_lh_Lat_Fis-ant-Vertical             61  20  60   0\r",
      "\r\n",
      "11141  ctx_lh_Lat_Fis-post                     61  60 100   0\r",
      "\r\n",
      "11142  ctx_lh_Medial_wall                      25  25  25   0\r",
      "\r\n",
      "11143  ctx_lh_Pole_occipital                  140  20  60   0\r",
      "\r\n",
      "11144  ctx_lh_Pole_temporal                   220 180  20   0\r",
      "\r\n",
      "11145  ctx_lh_S_calcarine                      63 180 180   0\r",
      "\r\n",
      "11146  ctx_lh_S_central                       221  20  10   0\r",
      "\r\n",
      "11147  ctx_lh_S_cingul-Marginalis             221  20 100   0\r",
      "\r\n",
      "11148  ctx_lh_S_circular_insula_ant           221  60 140   0\r",
      "\r\n",
      "11149  ctx_lh_S_circular_insula_inf           221  20 220   0\r",
      "\r\n",
      "11150  ctx_lh_S_circular_insula_sup            61 220 220   0\r",
      "\r\n",
      "11151  ctx_lh_S_collat_transv_ant             100 200 200   0\r",
      "\r\n",
      "11152  ctx_lh_S_collat_transv_post             10 200 200   0\r",
      "\r\n",
      "11153  ctx_lh_S_front_inf                     221 220  20   0\r",
      "\r\n",
      "11154  ctx_lh_S_front_middle                  141  20 100   0\r",
      "\r\n",
      "11155  ctx_lh_S_front_sup                      61 220 100   0\r",
      "\r\n",
      "11156  ctx_lh_S_interm_prim-Jensen            141  60  20   0\r",
      "\r\n",
      "11157  ctx_lh_S_intrapariet_and_P_trans       143  20 220   0\r",
      "\r\n",
      "11158  ctx_lh_S_oc_middle_and_Lunatus         101  60 220   0\r",
      "\r\n",
      "11159  ctx_lh_S_oc_sup_and_transversal         21  20 140   0\r",
      "\r\n",
      "11160  ctx_lh_S_occipital_ant                  61  20 180   0\r",
      "\r\n",
      "11161  ctx_lh_S_oc-temp_lat                   221 140  20   0\r",
      "\r\n",
      "11162  ctx_lh_S_oc-temp_med_and_Lingual       141 100 220   0\r",
      "\r\n",
      "11163  ctx_lh_S_orbital_lateral               221 100  20   0\r",
      "\r\n",
      "11164  ctx_lh_S_orbital_med-olfact            181 200  20   0\r",
      "\r\n",
      "11165  ctx_lh_S_orbital-H_Shaped              101  20  20   0\r",
      "\r\n",
      "11166  ctx_lh_S_parieto_occipital             101 100 180   0\r",
      "\r\n",
      "11167  ctx_lh_S_pericallosal                  181 220  20   0\r",
      "\r\n",
      "11168  ctx_lh_S_postcentral                    21 140 200   0\r",
      "\r\n",
      "11169  ctx_lh_S_precentral-inf-part            21  20 240   0\r",
      "\r\n",
      "11170  ctx_lh_S_precentral-sup-part            21  20 200   0\r",
      "\r\n",
      "11171  ctx_lh_S_suborbital                     21  20  60   0\r",
      "\r\n",
      "11172  ctx_lh_S_subparietal                   101  60  60   0\r",
      "\r\n",
      "11173  ctx_lh_S_temporal_inf                   21 180 180   0\r",
      "\r\n",
      "11174  ctx_lh_S_temporal_sup                  223 220  60   0\r",
      "\r\n",
      "11175  ctx_lh_S_temporal_transverse           221  60  60   0\r",
      "\r\n",
      "\r",
      "\r\n",
      "12100  ctx_rh_Unknown                           0   0   0   0\r",
      "\r\n",
      "12101  ctx_rh_G_and_S_frontomargin             23 220  60   0\r",
      "\r\n",
      "12102  ctx_rh_G_and_S_occipital_inf            23  60 180   0\r",
      "\r\n",
      "12103  ctx_rh_G_and_S_paracentral              63 100  60   0\r",
      "\r\n",
      "12104  ctx_rh_G_and_S_subcentral               63  20 220   0\r",
      "\r\n",
      "12105  ctx_rh_G_and_S_transv_frontopol         13   0 250   0\r",
      "\r\n",
      "12106  ctx_rh_G_and_S_cingul-Ant               26  60   0   0\r",
      "\r\n",
      "12107  ctx_rh_G_and_S_cingul-Mid-Ant           26  60  75   0\r",
      "\r\n",
      "12108  ctx_rh_G_and_S_cingul-Mid-Post          26  60 150   0\r",
      "\r\n",
      "12109  ctx_rh_G_cingul-Post-dorsal             25  60 250   0\r",
      "\r\n",
      "12110  ctx_rh_G_cingul-Post-ventral            60  25  25   0\r",
      "\r\n",
      "12111  ctx_rh_G_cuneus                        180  20  20   0\r",
      "\r\n",
      "12112  ctx_rh_G_front_inf-Opercular           220  20 100   0\r",
      "\r\n",
      "12113  ctx_rh_G_front_inf-Orbital             140  60  60   0\r",
      "\r\n",
      "12114  ctx_rh_G_front_inf-Triangul            180 220 140   0\r",
      "\r\n",
      "12115  ctx_rh_G_front_middle                  140 100 180   0\r",
      "\r\n",
      "12116  ctx_rh_G_front_sup                     180  20 140   0\r",
      "\r\n",
      "12117  ctx_rh_G_Ins_lg_and_S_cent_ins          23  10  10   0\r",
      "\r\n",
      "12118  ctx_rh_G_insular_short                 225 140 140   0\r",
      "\r\n",
      "12119  ctx_rh_G_occipital_middle              180  60 180   0\r",
      "\r\n",
      "12120  ctx_rh_G_occipital_sup                  20 220  60   0\r",
      "\r\n",
      "12121  ctx_rh_G_oc-temp_lat-fusifor            60  20 140   0\r",
      "\r\n",
      "12122  ctx_rh_G_oc-temp_med-Lingual           220 180 140   0\r",
      "\r\n",
      "12123  ctx_rh_G_oc-temp_med-Parahip            65 100  20   0\r",
      "\r\n",
      "12124  ctx_rh_G_orbital                       220  60  20   0\r",
      "\r\n",
      "12125  ctx_rh_G_pariet_inf-Angular             20  60 220   0\r",
      "\r\n",
      "12126  ctx_rh_G_pariet_inf-Supramar           100 100  60   0\r",
      "\r\n",
      "12127  ctx_rh_G_parietal_sup                  220 180 220   0\r",
      "\r\n",
      "12128  ctx_rh_G_postcentral                    20 180 140   0\r",
      "\r\n",
      "12129  ctx_rh_G_precentral                     60 140 180   0\r",
      "\r\n",
      "12130  ctx_rh_G_precuneus                      25  20 140   0\r",
      "\r\n",
      "12131  ctx_rh_G_rectus                         20  60 100   0\r",
      "\r\n",
      "12132  ctx_rh_G_subcallosal                    60 220  20   0\r",
      "\r\n",
      "12133  ctx_rh_G_temp_sup-G_T_transv            60  60 220   0\r",
      "\r\n",
      "12134  ctx_rh_G_temp_sup-Lateral              220  60 220   0\r",
      "\r\n",
      "12135  ctx_rh_G_temp_sup-Plan_polar            65 220  60   0\r",
      "\r\n",
      "12136  ctx_rh_G_temp_sup-Plan_tempo            25 140  20   0\r",
      "\r\n",
      "12137  ctx_rh_G_temporal_inf                  220 220 100   0\r",
      "\r\n",
      "12138  ctx_rh_G_temporal_middle               180  60  60   0\r",
      "\r\n",
      "12139  ctx_rh_Lat_Fis-ant-Horizont             61  20 220   0\r",
      "\r\n",
      "12140  ctx_rh_Lat_Fis-ant-Vertical             61  20  60   0\r",
      "\r\n",
      "12141  ctx_rh_Lat_Fis-post                     61  60 100   0\r",
      "\r\n",
      "12142  ctx_rh_Medial_wall                      25  25  25   0\r",
      "\r\n",
      "12143  ctx_rh_Pole_occipital                  140  20  60   0\r",
      "\r\n",
      "12144  ctx_rh_Pole_temporal                   220 180  20   0\r",
      "\r\n",
      "12145  ctx_rh_S_calcarine                      63 180 180   0\r",
      "\r\n",
      "12146  ctx_rh_S_central                       221  20  10   0\r",
      "\r\n",
      "12147  ctx_rh_S_cingul-Marginalis             221  20 100   0\r",
      "\r\n",
      "12148  ctx_rh_S_circular_insula_ant           221  60 140   0\r",
      "\r\n",
      "12149  ctx_rh_S_circular_insula_inf           221  20 220   0\r",
      "\r\n",
      "12150  ctx_rh_S_circular_insula_sup            61 220 220   0\r",
      "\r\n",
      "12151  ctx_rh_S_collat_transv_ant             100 200 200   0\r",
      "\r\n",
      "12152  ctx_rh_S_collat_transv_post             10 200 200   0\r",
      "\r\n",
      "12153  ctx_rh_S_front_inf                     221 220  20   0\r",
      "\r\n",
      "12154  ctx_rh_S_front_middle                  141  20 100   0\r",
      "\r\n",
      "12155  ctx_rh_S_front_sup                      61 220 100   0\r",
      "\r\n",
      "12156  ctx_rh_S_interm_prim-Jensen            141  60  20   0\r",
      "\r\n",
      "12157  ctx_rh_S_intrapariet_and_P_trans       143  20 220   0\r",
      "\r\n",
      "12158  ctx_rh_S_oc_middle_and_Lunatus         101  60 220   0\r",
      "\r\n",
      "12159  ctx_rh_S_oc_sup_and_transversal         21  20 140   0\r",
      "\r\n",
      "12160  ctx_rh_S_occipital_ant                  61  20 180   0\r",
      "\r\n",
      "12161  ctx_rh_S_oc-temp_lat                   221 140  20   0\r",
      "\r\n",
      "12162  ctx_rh_S_oc-temp_med_and_Lingual       141 100 220   0\r",
      "\r\n",
      "12163  ctx_rh_S_orbital_lateral               221 100  20   0\r",
      "\r\n",
      "12164  ctx_rh_S_orbital_med-olfact            181 200  20   0\r",
      "\r\n",
      "12165  ctx_rh_S_orbital-H_Shaped              101  20  20   0\r",
      "\r\n",
      "12166  ctx_rh_S_parieto_occipital             101 100 180   0\r",
      "\r\n",
      "12167  ctx_rh_S_pericallosal                  181 220  20   0\r",
      "\r\n",
      "12168  ctx_rh_S_postcentral                    21 140 200   0\r",
      "\r\n",
      "12169  ctx_rh_S_precentral-inf-part            21  20 240   0\r",
      "\r\n",
      "12170  ctx_rh_S_precentral-sup-part            21  20 200   0\r",
      "\r\n",
      "12171  ctx_rh_S_suborbital                     21  20  60   0\r",
      "\r\n",
      "12172  ctx_rh_S_subparietal                   101  60  60   0\r",
      "\r\n",
      "12173  ctx_rh_S_temporal_inf                   21 180 180   0\r",
      "\r\n",
      "12174  ctx_rh_S_temporal_sup                  223 220  60   0\r",
      "\r\n",
      "12175  ctx_rh_S_temporal_transverse           221  60  60   0\r",
      "\r\n",
      "\r",
      "\r\n",
      "#No.   Label Name:                              R   G   B   A\r",
      "\r\n",
      "13100  wm_lh_Unknown                            0   0   0   0\r",
      "\r\n",
      "13101  wm_lh_G_and_S_frontomargin              23 220  60   0\r",
      "\r\n",
      "13102  wm_lh_G_and_S_occipital_inf             23  60 180   0\r",
      "\r\n",
      "13103  wm_lh_G_and_S_paracentral               63 100  60   0\r",
      "\r\n",
      "13104  wm_lh_G_and_S_subcentral                63  20 220   0\r",
      "\r\n",
      "13105  wm_lh_G_and_S_transv_frontopol          13   0 250   0\r",
      "\r\n",
      "13106  wm_lh_G_and_S_cingul-Ant                26  60   0   0\r",
      "\r\n",
      "13107  wm_lh_G_and_S_cingul-Mid-Ant            26  60  75   0\r",
      "\r\n",
      "13108  wm_lh_G_and_S_cingul-Mid-Post           26  60 150   0\r",
      "\r\n",
      "13109  wm_lh_G_cingul-Post-dorsal              25  60 250   0\r",
      "\r\n",
      "13110  wm_lh_G_cingul-Post-ventral             60  25  25   0\r",
      "\r\n",
      "13111  wm_lh_G_cuneus                         180  20  20   0\r",
      "\r\n",
      "13112  wm_lh_G_front_inf-Opercular            220  20 100   0\r",
      "\r\n",
      "13113  wm_lh_G_front_inf-Orbital              140  60  60   0\r",
      "\r\n",
      "13114  wm_lh_G_front_inf-Triangul             180 220 140   0\r",
      "\r\n",
      "13115  wm_lh_G_front_middle                   140 100 180   0\r",
      "\r\n",
      "13116  wm_lh_G_front_sup                      180  20 140   0\r",
      "\r\n",
      "13117  wm_lh_G_Ins_lg_and_S_cent_ins           23  10  10   0\r",
      "\r\n",
      "13118  wm_lh_G_insular_short                  225 140 140   0\r",
      "\r\n",
      "13119  wm_lh_G_occipital_middle               180  60 180   0\r",
      "\r\n",
      "13120  wm_lh_G_occipital_sup                   20 220  60   0\r",
      "\r\n",
      "13121  wm_lh_G_oc-temp_lat-fusifor             60  20 140   0\r",
      "\r\n",
      "13122  wm_lh_G_oc-temp_med-Lingual            220 180 140   0\r",
      "\r\n",
      "13123  wm_lh_G_oc-temp_med-Parahip             65 100  20   0\r",
      "\r\n",
      "13124  wm_lh_G_orbital                        220  60  20   0\r",
      "\r\n",
      "13125  wm_lh_G_pariet_inf-Angular              20  60 220   0\r",
      "\r\n",
      "13126  wm_lh_G_pariet_inf-Supramar            100 100  60   0\r",
      "\r\n",
      "13127  wm_lh_G_parietal_sup                   220 180 220   0\r",
      "\r\n",
      "13128  wm_lh_G_postcentral                     20 180 140   0\r",
      "\r\n",
      "13129  wm_lh_G_precentral                      60 140 180   0\r",
      "\r\n",
      "13130  wm_lh_G_precuneus                       25  20 140   0\r",
      "\r\n",
      "13131  wm_lh_G_rectus                          20  60 100   0\r",
      "\r\n",
      "13132  wm_lh_G_subcallosal                     60 220  20   0\r",
      "\r\n",
      "13133  wm_lh_G_temp_sup-G_T_transv             60  60 220   0\r",
      "\r\n",
      "13134  wm_lh_G_temp_sup-Lateral               220  60 220   0\r",
      "\r\n",
      "13135  wm_lh_G_temp_sup-Plan_polar             65 220  60   0\r",
      "\r\n",
      "13136  wm_lh_G_temp_sup-Plan_tempo             25 140  20   0\r",
      "\r\n",
      "13137  wm_lh_G_temporal_inf                   220 220 100   0\r",
      "\r\n",
      "13138  wm_lh_G_temporal_middle                180  60  60   0\r",
      "\r\n",
      "13139  wm_lh_Lat_Fis-ant-Horizont              61  20 220   0\r",
      "\r\n",
      "13140  wm_lh_Lat_Fis-ant-Vertical              61  20  60   0\r",
      "\r\n",
      "13141  wm_lh_Lat_Fis-post                      61  60 100   0\r",
      "\r\n",
      "13142  wm_lh_Medial_wall                       25  25  25   0\r",
      "\r\n",
      "13143  wm_lh_Pole_occipital                   140  20  60   0\r",
      "\r\n",
      "13144  wm_lh_Pole_temporal                    220 180  20   0\r",
      "\r\n",
      "13145  wm_lh_S_calcarine                       63 180 180   0\r",
      "\r\n",
      "13146  wm_lh_S_central                        221  20  10   0\r",
      "\r\n",
      "13147  wm_lh_S_cingul-Marginalis              221  20 100   0\r",
      "\r\n",
      "13148  wm_lh_S_circular_insula_ant            221  60 140   0\r",
      "\r\n",
      "13149  wm_lh_S_circular_insula_inf            221  20 220   0\r",
      "\r\n",
      "13150  wm_lh_S_circular_insula_sup             61 220 220   0\r",
      "\r\n",
      "13151  wm_lh_S_collat_transv_ant              100 200 200   0\r",
      "\r\n",
      "13152  wm_lh_S_collat_transv_post              10 200 200   0\r",
      "\r\n",
      "13153  wm_lh_S_front_inf                      221 220  20   0\r",
      "\r\n",
      "13154  wm_lh_S_front_middle                   141  20 100   0\r",
      "\r\n",
      "13155  wm_lh_S_front_sup                       61 220 100   0\r",
      "\r\n",
      "13156  wm_lh_S_interm_prim-Jensen             141  60  20   0\r",
      "\r\n",
      "13157  wm_lh_S_intrapariet_and_P_trans        143  20 220   0\r",
      "\r\n",
      "13158  wm_lh_S_oc_middle_and_Lunatus          101  60 220   0\r",
      "\r\n",
      "13159  wm_lh_S_oc_sup_and_transversal          21  20 140   0\r",
      "\r\n",
      "13160  wm_lh_S_occipital_ant                   61  20 180   0\r",
      "\r\n",
      "13161  wm_lh_S_oc-temp_lat                    221 140  20   0\r",
      "\r\n",
      "13162  wm_lh_S_oc-temp_med_and_Lingual        141 100 220   0\r",
      "\r\n",
      "13163  wm_lh_S_orbital_lateral                221 100  20   0\r",
      "\r\n",
      "13164  wm_lh_S_orbital_med-olfact             181 200  20   0\r",
      "\r\n",
      "13165  wm_lh_S_orbital-H_Shaped               101  20  20   0\r",
      "\r\n",
      "13166  wm_lh_S_parieto_occipital              101 100 180   0\r",
      "\r\n",
      "13167  wm_lh_S_pericallosal                   181 220  20   0\r",
      "\r\n",
      "13168  wm_lh_S_postcentral                     21 140 200   0\r",
      "\r\n",
      "13169  wm_lh_S_precentral-inf-part             21  20 240   0\r",
      "\r\n",
      "13170  wm_lh_S_precentral-sup-part             21  20 200   0\r",
      "\r\n",
      "13171  wm_lh_S_suborbital                      21  20  60   0\r",
      "\r\n",
      "13172  wm_lh_S_subparietal                    101  60  60   0\r",
      "\r\n",
      "13173  wm_lh_S_temporal_inf                    21 180 180   0\r",
      "\r\n",
      "13174  wm_lh_S_temporal_sup                   223 220  60   0\r",
      "\r\n",
      "13175  wm_lh_S_temporal_transverse            221  60  60   0\r",
      "\r\n",
      "\r",
      "\r\n",
      "14100  wm_rh_Unknown                            0   0   0   0\r",
      "\r\n",
      "14101  wm_rh_G_and_S_frontomargin              23 220  60   0\r",
      "\r\n",
      "14102  wm_rh_G_and_S_occipital_inf             23  60 180   0\r",
      "\r\n",
      "14103  wm_rh_G_and_S_paracentral               63 100  60   0\r",
      "\r\n",
      "14104  wm_rh_G_and_S_subcentral                63  20 220   0\r",
      "\r\n",
      "14105  wm_rh_G_and_S_transv_frontopol          13   0 250   0\r",
      "\r\n",
      "14106  wm_rh_G_and_S_cingul-Ant                26  60   0   0\r",
      "\r\n",
      "14107  wm_rh_G_and_S_cingul-Mid-Ant            26  60  75   0\r",
      "\r\n",
      "14108  wm_rh_G_and_S_cingul-Mid-Post           26  60 150   0\r",
      "\r\n",
      "14109  wm_rh_G_cingul-Post-dorsal              25  60 250   0\r",
      "\r\n",
      "14110  wm_rh_G_cingul-Post-ventral             60  25  25   0\r",
      "\r\n",
      "14111  wm_rh_G_cuneus                         180  20  20   0\r",
      "\r\n",
      "14112  wm_rh_G_front_inf-Opercular            220  20 100   0\r",
      "\r\n",
      "14113  wm_rh_G_front_inf-Orbital              140  60  60   0\r",
      "\r\n",
      "14114  wm_rh_G_front_inf-Triangul             180 220 140   0\r",
      "\r\n",
      "14115  wm_rh_G_front_middle                   140 100 180   0\r",
      "\r\n",
      "14116  wm_rh_G_front_sup                      180  20 140   0\r",
      "\r\n",
      "14117  wm_rh_G_Ins_lg_and_S_cent_ins           23  10  10   0\r",
      "\r\n",
      "14118  wm_rh_G_insular_short                  225 140 140   0\r",
      "\r\n",
      "14119  wm_rh_G_occipital_middle               180  60 180   0\r",
      "\r\n",
      "14120  wm_rh_G_occipital_sup                   20 220  60   0\r",
      "\r\n",
      "14121  wm_rh_G_oc-temp_lat-fusifor             60  20 140   0\r",
      "\r\n",
      "14122  wm_rh_G_oc-temp_med-Lingual            220 180 140   0\r",
      "\r\n",
      "14123  wm_rh_G_oc-temp_med-Parahip             65 100  20   0\r",
      "\r\n",
      "14124  wm_rh_G_orbital                        220  60  20   0\r",
      "\r\n",
      "14125  wm_rh_G_pariet_inf-Angular              20  60 220   0\r",
      "\r\n",
      "14126  wm_rh_G_pariet_inf-Supramar            100 100  60   0\r",
      "\r\n",
      "14127  wm_rh_G_parietal_sup                   220 180 220   0\r",
      "\r\n",
      "14128  wm_rh_G_postcentral                     20 180 140   0\r",
      "\r\n",
      "14129  wm_rh_G_precentral                      60 140 180   0\r",
      "\r\n",
      "14130  wm_rh_G_precuneus                       25  20 140   0\r",
      "\r\n",
      "14131  wm_rh_G_rectus                          20  60 100   0\r",
      "\r\n",
      "14132  wm_rh_G_subcallosal                     60 220  20   0\r",
      "\r\n",
      "14133  wm_rh_G_temp_sup-G_T_transv             60  60 220   0\r",
      "\r\n",
      "14134  wm_rh_G_temp_sup-Lateral               220  60 220   0\r",
      "\r\n",
      "14135  wm_rh_G_temp_sup-Plan_polar             65 220  60   0\r",
      "\r\n",
      "14136  wm_rh_G_temp_sup-Plan_tempo             25 140  20   0\r",
      "\r\n",
      "14137  wm_rh_G_temporal_inf                   220 220 100   0\r",
      "\r\n",
      "14138  wm_rh_G_temporal_middle                180  60  60   0\r",
      "\r\n",
      "14139  wm_rh_Lat_Fis-ant-Horizont              61  20 220   0\r",
      "\r\n",
      "14140  wm_rh_Lat_Fis-ant-Vertical              61  20  60   0\r",
      "\r\n",
      "14141  wm_rh_Lat_Fis-post                      61  60 100   0\r",
      "\r\n",
      "14142  wm_rh_Medial_wall                       25  25  25   0\r",
      "\r\n",
      "14143  wm_rh_Pole_occipital                   140  20  60   0\r",
      "\r\n",
      "14144  wm_rh_Pole_temporal                    220 180  20   0\r",
      "\r\n",
      "14145  wm_rh_S_calcarine                       63 180 180   0\r",
      "\r\n",
      "14146  wm_rh_S_central                        221  20  10   0\r",
      "\r\n",
      "14147  wm_rh_S_cingul-Marginalis              221  20 100   0\r",
      "\r\n",
      "14148  wm_rh_S_circular_insula_ant            221  60 140   0\r",
      "\r\n",
      "14149  wm_rh_S_circular_insula_inf            221  20 220   0\r",
      "\r\n",
      "14150  wm_rh_S_circular_insula_sup             61 220 220   0\r",
      "\r\n",
      "14151  wm_rh_S_collat_transv_ant              100 200 200   0\r",
      "\r\n",
      "14152  wm_rh_S_collat_transv_post              10 200 200   0\r",
      "\r\n",
      "14153  wm_rh_S_front_inf                      221 220  20   0\r",
      "\r\n",
      "14154  wm_rh_S_front_middle                   141  20 100   0\r",
      "\r\n",
      "14155  wm_rh_S_front_sup                       61 220 100   0\r",
      "\r\n",
      "14156  wm_rh_S_interm_prim-Jensen             141  60  20   0\r",
      "\r\n",
      "14157  wm_rh_S_intrapariet_and_P_trans        143  20 220   0\r",
      "\r\n",
      "14158  wm_rh_S_oc_middle_and_Lunatus          101  60 220   0\r",
      "\r\n",
      "14159  wm_rh_S_oc_sup_and_transversal          21  20 140   0\r",
      "\r\n",
      "14160  wm_rh_S_occipital_ant                   61  20 180   0\r",
      "\r\n",
      "14161  wm_rh_S_oc-temp_lat                    221 140  20   0\r",
      "\r\n",
      "14162  wm_rh_S_oc-temp_med_and_Lingual        141 100 220   0\r",
      "\r\n",
      "14163  wm_rh_S_orbital_lateral                221 100  20   0\r",
      "\r\n",
      "14164  wm_rh_S_orbital_med-olfact             181 200  20   0\r",
      "\r\n",
      "14165  wm_rh_S_orbital-H_Shaped               101  20  20   0\r",
      "\r\n",
      "14166  wm_rh_S_parieto_occipital              101 100 180   0\r",
      "\r\n",
      "14167  wm_rh_S_pericallosal                   181 220  20   0\r",
      "\r\n",
      "14168  wm_rh_S_postcentral                     21 140 200   0\r",
      "\r\n",
      "14169  wm_rh_S_precentral-inf-part             21  20 240   0\r",
      "\r\n",
      "14170  wm_rh_S_precentral-sup-part             21  20 200   0\r",
      "\r\n",
      "14171  wm_rh_S_suborbital                      21  20  60   0\r",
      "\r\n",
      "14172  wm_rh_S_subparietal                    101  60  60   0\r",
      "\r\n",
      "14173  wm_rh_S_temporal_inf                    21 180 180   0\r",
      "\r\n",
      "14174  wm_rh_S_temporal_sup                   223 220  60   0\r",
      "\r\n",
      "14175  wm_rh_S_temporal_transverse            221  60  60   0\r",
      "\r\n",
      "\r",
      "\r\n"
     ]
    }
   ],
   "source": [
    "!cat /Applications/freesurfer/FreeSurferColorLUT.txt"
   ]
  },
  {
   "cell_type": "markdown",
   "metadata": {
    "slideshow": {
     "slide_type": "slide"
    }
   },
   "source": [
    "# Transformation matrix 구하기 (fsl)\n",
    "\n",
    "\n",
    "- 우리가 얻은 시상부위는 T1 space !\n",
    "- 우리가 **원하는** BOLD 신호는 fMRI space !\n",
    "- 시상 선택부위를 transform 해줘야한다 !\n"
   ]
  },
  {
   "cell_type": "markdown",
   "metadata": {
    "slideshow": {
     "slide_type": "subslide"
    }
   },
   "source": [
    "<img src=\"T1.png\" width=1000>\n",
    "에서 ...\n"
   ]
  },
  {
   "cell_type": "markdown",
   "metadata": {
    "slideshow": {
     "slide_type": "subslide"
    }
   },
   "source": [
    "<img src=\"REST.png\" width=1000>\n",
    "fMRI space 로 가는 matrix 계산하기!"
   ]
  },
  {
   "cell_type": "markdown",
   "metadata": {
    "slideshow": {
     "slide_type": "slide"
    }
   },
   "source": [
    "## FSL BET + FLIRT with nipype"
   ]
  },
  {
   "cell_type": "markdown",
   "metadata": {
    "slideshow": {
     "slide_type": "slide"
    }
   },
   "source": [
    "## BET\n",
    "\n",
    "- Skull 없애기\n",
    "- Skull이 없어야 정확한 registration 가능 !"
   ]
  },
  {
   "cell_type": "markdown",
   "metadata": {
    "slideshow": {
     "slide_type": "subslide"
    }
   },
   "source": [
    "### nipype import"
   ]
  },
  {
   "cell_type": "code",
   "execution_count": 14,
   "metadata": {
    "collapsed": true,
    "slideshow": {
     "slide_type": "-"
    }
   },
   "outputs": [],
   "source": [
    "from nipype.interfaces import fsl"
   ]
  },
  {
   "cell_type": "markdown",
   "metadata": {
    "slideshow": {
     "slide_type": "subslide"
    }
   },
   "source": [
    "### FSL BET 을 툴로 불러옴"
   ]
  },
  {
   "cell_type": "code",
   "execution_count": 15,
   "metadata": {
    "collapsed": true,
    "slideshow": {
     "slide_type": "-"
    }
   },
   "outputs": [],
   "source": [
    "btr = fsl.BET()"
   ]
  },
  {
   "cell_type": "markdown",
   "metadata": {
    "slideshow": {
     "slide_type": "subslide"
    }
   },
   "source": [
    "### 관련 파라미터 정의"
   ]
  },
  {
   "cell_type": "code",
   "execution_count": 18,
   "metadata": {
    "collapsed": false,
    "slideshow": {
     "slide_type": "-"
    }
   },
   "outputs": [],
   "source": [
    "btr.inputs.in_file = 'orig_dim.nii.gz'\n",
    "btr.inputs.frac = 0.3\n",
    "btr.inputs.out_file = 'T1_brain.nii.gz'"
   ]
  },
  {
   "cell_type": "markdown",
   "metadata": {
    "slideshow": {
     "slide_type": "subslide"
    }
   },
   "source": [
    "### 돌리기"
   ]
  },
  {
   "cell_type": "code",
   "execution_count": 19,
   "metadata": {
    "collapsed": true,
    "slideshow": {
     "slide_type": "-"
    }
   },
   "outputs": [],
   "source": [
    "res = btr.run()"
   ]
  },
  {
   "cell_type": "markdown",
   "metadata": {
    "slideshow": {
     "slide_type": "subslide"
    }
   },
   "source": [
    "### Image check"
   ]
  },
  {
   "cell_type": "code",
   "execution_count": 21,
   "metadata": {
    "collapsed": true,
    "slideshow": {
     "slide_type": "-"
    }
   },
   "outputs": [],
   "source": [
    "!fslview orig_dim.nii.gz -l \"Red-Yellow\" T1_brain.nii.gz"
   ]
  },
  {
   "cell_type": "markdown",
   "metadata": {
    "slideshow": {
     "slide_type": "subslide"
    }
   },
   "source": [
    "### Parameter change and re-run"
   ]
  },
  {
   "cell_type": "code",
   "execution_count": 22,
   "metadata": {
    "collapsed": false,
    "slideshow": {
     "slide_type": "-"
    }
   },
   "outputs": [],
   "source": [
    "# Parameter 바꾸기\n",
    "btr.inputs.frac = 0.3\n",
    "btr.inputs.center = [128, 113, 144]\n",
    "\n",
    "# 다시 돌리기\n",
    "res = btr.run()\n",
    "!fslview orig_dim.nii.gz -l \"Red-Yellow\" T1_brain.nii.gz"
   ]
  },
  {
   "cell_type": "markdown",
   "metadata": {
    "slideshow": {
     "slide_type": "slide"
    }
   },
   "source": [
    "# FLIRT - registration\n",
    "- T1 시상을 fMRI 시상의 위치에 맞추는 transformation matrix 구하기\n",
    "- transformation matrix 적용하기"
   ]
  },
  {
   "cell_type": "markdown",
   "metadata": {
    "slideshow": {
     "slide_type": "subslide"
    }
   },
   "source": [
    "## FLIRT를 툴로 불러오기"
   ]
  },
  {
   "cell_type": "code",
   "execution_count": 23,
   "metadata": {
    "collapsed": true,
    "slideshow": {
     "slide_type": "-"
    }
   },
   "outputs": [],
   "source": [
    "flt = fsl.FLIRT(cost_func='mutualinfo')"
   ]
  },
  {
   "cell_type": "markdown",
   "metadata": {
    "slideshow": {
     "slide_type": "subslide"
    }
   },
   "source": [
    "## Parameter 지정"
   ]
  },
  {
   "cell_type": "code",
   "execution_count": 24,
   "metadata": {
    "collapsed": true
   },
   "outputs": [],
   "source": [
    "flt.inputs.in_file = 'REST.nii.gz'\n",
    "\n",
    "# Target image\n",
    "flt.inputs.reference = 'T1_brain.nii.gz'\n",
    "\n",
    "# Outputs\n",
    "flt.inputs.out_file = 'REST_to_T1.nii.gz'      # used for checking the registration\n",
    "flt.inputs.out_matrix_file = 'REST_to_T1.mat'  # What we want !"
   ]
  },
  {
   "cell_type": "markdown",
   "metadata": {
    "slideshow": {
     "slide_type": "subslide"
    }
   },
   "source": [
    "## Run FLIRT"
   ]
  },
  {
   "cell_type": "code",
   "execution_count": 25,
   "metadata": {
    "collapsed": false
   },
   "outputs": [],
   "source": [
    "res = flt.run()"
   ]
  },
  {
   "cell_type": "markdown",
   "metadata": {
    "slideshow": {
     "slide_type": "subslide"
    }
   },
   "source": [
    "## Image 확인"
   ]
  },
  {
   "cell_type": "code",
   "execution_count": 28,
   "metadata": {
    "collapsed": true
   },
   "outputs": [],
   "source": [
    "!fslview REST_to_T1.nii.gz -l \"Red-Yellow\" T1_brain.nii.gz -t 0.4"
   ]
  },
  {
   "cell_type": "markdown",
   "metadata": {
    "slideshow": {
     "slide_type": "subslide"
    }
   },
   "source": [
    "## T1 space 시상에 계산된 matrix 적용"
   ]
  },
  {
   "cell_type": "code",
   "execution_count": null,
   "metadata": {
    "collapsed": true
   },
   "outputs": [],
   "source": [
    " fsl.FLIRT.help()"
   ]
  },
  {
   "cell_type": "markdown",
   "metadata": {
    "collapsed": true,
    "slideshow": {
     "slide_type": "slide"
    }
   },
   "source": [
    "## Matrix 뒤집기\n",
    "\n",
    "- 아까 계산된 matrix는 REST를 T1에 맞췄던 것\n",
    "- 이를 뒤집으면 T1 --> Rest가 됨"
   ]
  },
  {
   "cell_type": "markdown",
   "metadata": {
    "slideshow": {
     "slide_type": "subslide"
    }
   },
   "source": [
    "### ConvertXFM tool 불러오기"
   ]
  },
  {
   "cell_type": "code",
   "execution_count": 52,
   "metadata": {
    "collapsed": false
   },
   "outputs": [
    {
     "name": "stdout",
     "output_type": "stream",
     "text": [
      "convert_xfm -omat T1_to_REST.mat -inverse REST_to_T1.mat\n"
     ]
    },
    {
     "data": {
      "text/plain": [
       "<nipype.interfaces.base.InterfaceResult at 0x10a60d250>"
      ]
     },
     "execution_count": 52,
     "metadata": {},
     "output_type": "execute_result"
    }
   ],
   "source": [
    "invt = fsl.ConvertXFM()"
   ]
  },
  {
   "cell_type": "markdown",
   "metadata": {
    "slideshow": {
     "slide_type": "subslide"
    }
   },
   "source": [
    "### Parameter setting"
   ]
  },
  {
   "cell_type": "code",
   "execution_count": null,
   "metadata": {
    "collapsed": true
   },
   "outputs": [],
   "source": [
    "invt.inputs.in_file = 'REST_to_T1.mat'\n",
    "invt.inputs.invert_xfm = True\n",
    "invt.inputs.out_file = 'T1_to_REST.mat'"
   ]
  },
  {
   "cell_type": "markdown",
   "metadata": {
    "slideshow": {
     "slide_type": "subslide"
    }
   },
   "source": [
    "### Linux에서 사용했으면 ... 어떨까"
   ]
  },
  {
   "cell_type": "code",
   "execution_count": null,
   "metadata": {
    "collapsed": true
   },
   "outputs": [],
   "source": [
    "print invt.cmdline"
   ]
  },
  {
   "cell_type": "markdown",
   "metadata": {
    "slideshow": {
     "slide_type": "subslide"
    }
   },
   "source": [
    "### Run invert !"
   ]
  },
  {
   "cell_type": "code",
   "execution_count": null,
   "metadata": {
    "collapsed": true
   },
   "outputs": [],
   "source": [
    "invt.run()"
   ]
  },
  {
   "cell_type": "markdown",
   "metadata": {
    "slideshow": {
     "slide_type": "slide"
    }
   },
   "source": [
    "## 이제 Thalamus를 Transform !!"
   ]
  },
  {
   "cell_type": "code",
   "execution_count": 60,
   "metadata": {
    "collapsed": false,
    "slideshow": {
     "slide_type": "fragment"
    }
   },
   "outputs": [
    {
     "name": "stdout",
     "output_type": "stream",
     "text": [
      "flirt -in thalamus_dim.nii.gz -ref REST.nii.gz -out thalamus_rest_space.nii.gz -omat thalamus_dim_flirt.mat -applyxfm -searchcost mutualinfo -dof 6 -init T1_to_REST.mat -interp nearestneighbour\n"
     ]
    }
   ],
   "source": [
    "flt = fsl.FLIRT(cost_func='mutualinfo')\n",
    "\n",
    "flt.inputs.in_file = 'thalamus_dim.nii.gz'\n",
    "\n",
    "# Target space\n",
    "flt.inputs.reference = 'REST.nii.gz'\n",
    "\n",
    "flt.inputs.out_file = 'thalamus_rest_space.nii.gz'\n",
    "\n",
    "# Transformation matrix\n",
    "flt.inputs.in_matrix_file = 'T1_to_REST.mat'\n",
    "flt.inputs.apply_xfm = True\n",
    "\n",
    "flt.inputs.interp = 'nearestneighbour'\n",
    "\n",
    "print flt.cmdline\n",
    "res = flt.run()"
   ]
  },
  {
   "cell_type": "markdown",
   "metadata": {
    "slideshow": {
     "slide_type": "subslide"
    }
   },
   "source": [
    "## Data check"
   ]
  },
  {
   "cell_type": "code",
   "execution_count": 63,
   "metadata": {
    "collapsed": true
   },
   "outputs": [],
   "source": [
    "!fslview REST.nii.gz thalamus_rest_space.nii.gz -l \"Red\""
   ]
  },
  {
   "cell_type": "markdown",
   "metadata": {
    "slideshow": {
     "slide_type": "slide"
    }
   },
   "source": [
    "### Thalamus signal extraction"
   ]
  },
  {
   "cell_type": "code",
   "execution_count": 81,
   "metadata": {
    "collapsed": false
   },
   "outputs": [
    {
     "name": "stdout",
     "output_type": "stream",
     "text": [
      "fslmaths REST.nii.gz -mas thalamus_rest_space.nii.gz REST_thalamus.nii.gz\n"
     ]
    }
   ],
   "source": [
    "maths = fsl.ImageMaths()\n",
    "\n",
    "maths.inputs.in_file = 'REST.nii.gz'\n",
    "maths.inputs.op_string = '-mas thalamus_rest_space.nii.gz'\n",
    "maths.inputs.out_file = 'REST_thalamus.nii.gz'\n",
    "print maths.cmdline\n",
    "\n",
    "res = maths.run()"
   ]
  },
  {
   "cell_type": "code",
   "execution_count": 83,
   "metadata": {
    "collapsed": false,
    "slideshow": {
     "slide_type": "fragment"
    }
   },
   "outputs": [],
   "source": [
    "!fslview $res.outputs.out_file"
   ]
  },
  {
   "cell_type": "markdown",
   "metadata": {
    "slideshow": {
     "slide_type": "slide"
    }
   },
   "source": [
    "### Thalamus BOLD information"
   ]
  },
  {
   "cell_type": "markdown",
   "metadata": {
    "slideshow": {
     "slide_type": "subslide"
    }
   },
   "source": [
    "### 1. fsl 이용"
   ]
  },
  {
   "cell_type": "code",
   "execution_count": 85,
   "metadata": {
    "collapsed": false
   },
   "outputs": [
    {
     "name": "stderr",
     "output_type": "stream",
     "text": [
      "INFO:interface:stdout 2015-04-28T05:38:54.123888:746.760010 1464.119995 163.797137 951.962188 \n"
     ]
    },
    {
     "name": "stdout",
     "output_type": "stream",
     "text": [
      "fslstats REST_thalamus.nii.gz -r -S -M\n"
     ]
    }
   ],
   "source": [
    "stats = fsl.ImageStats()\n",
    "\n",
    "stats.inputs.in_file = 'REST_thalamus.nii.gz'\n",
    "\n",
    "stats.inputs.op_string = '-r -S -M'\n",
    "#stats.inputs.mask_file = 'thalamus_rest_space.nii.gz'\n",
    "\n",
    "print stats.cmdline\n",
    "res = stats.run()"
   ]
  },
  {
   "cell_type": "code",
   "execution_count": 88,
   "metadata": {
    "collapsed": false,
    "slideshow": {
     "slide_type": "subslide"
    }
   },
   "outputs": [
    {
     "data": {
      "text/plain": [
       "\n",
       "out_stat = [746.76001, 1464.119995, 163.797137, 951.962188]"
      ]
     },
     "execution_count": 88,
     "metadata": {},
     "output_type": "execute_result"
    }
   ],
   "source": [
    "res.outputs"
   ]
  },
  {
   "cell_type": "code",
   "execution_count": 92,
   "metadata": {
    "collapsed": false
   },
   "outputs": [
    {
     "name": "stdout",
     "output_type": "stream",
     "text": [
      "min : 746.76001\n",
      "max : 1464.119995\n",
      "std : 163.797137\n",
      "mean : 951.962188\n"
     ]
    }
   ],
   "source": [
    "for s,result in zip(['min','max','std','mean'],res.outputs.out_stat):\n",
    "    print '{0} : {1}'.format(s, result)\n"
   ]
  },
  {
   "cell_type": "markdown",
   "metadata": {
    "slideshow": {
     "slide_type": "subslide"
    }
   },
   "source": [
    "### 2. nibabel 이용"
   ]
  },
  {
   "cell_type": "code",
   "execution_count": 43,
   "metadata": {
    "collapsed": false
   },
   "outputs": [],
   "source": [
    "import nibabel as nb\n",
    "\n",
    "img = nb.load('REST_thalamus.nii.gz')\n",
    "img_data = img.get_data()"
   ]
  },
  {
   "cell_type": "markdown",
   "metadata": {
    "slideshow": {
     "slide_type": "subslide"
    }
   },
   "source": [
    "Loading check"
   ]
  },
  {
   "cell_type": "code",
   "execution_count": 44,
   "metadata": {
    "collapsed": false
   },
   "outputs": [
    {
     "data": {
      "text/plain": [
       "(128, 128, 35, 116)"
      ]
     },
     "execution_count": 44,
     "metadata": {},
     "output_type": "execute_result"
    }
   ],
   "source": [
    "img_data.shape"
   ]
  },
  {
   "cell_type": "code",
   "execution_count": 45,
   "metadata": {
    "collapsed": false,
    "slideshow": {
     "slide_type": "subslide"
    }
   },
   "outputs": [
    {
     "data": {
      "text/plain": [
       "<matplotlib.image.AxesImage at 0x1152d8110>"
      ]
     },
     "execution_count": 45,
     "metadata": {},
     "output_type": "execute_result"
    },
    {
     "data": {
      "image/png": "[encoded data removed]",
      "text/plain": [
       "<matplotlib.figure.Figure at 0x115251410>"
      ]
     },
     "metadata": {},
     "output_type": "display_data"
    }
   ],
   "source": [
    "import matplotlib.pyplot as plt\n",
    "\n",
    "fig = plt.figure(figsize = (20, 20))\n",
    "plt.subplot(1, 3, 1)\n",
    "plt.imshow(np.rot90(img_data[70,:,:,30]),cmap = plt.cm.gray, interpolation = 'nearest')"
   ]
  },
  {
   "cell_type": "code",
   "execution_count": 46,
   "metadata": {
    "collapsed": false,
    "slideshow": {
     "slide_type": "subslide"
    }
   },
   "outputs": [
    {
     "data": {
      "text/plain": [
       "array([[[[ 0.,  0.,  0., ...,  0.,  0.,  0.],\n",
       "         [ 0.,  0.,  0., ...,  0.,  0.,  0.],\n",
       "         [ 0.,  0.,  0., ...,  0.,  0.,  0.],\n",
       "         ..., \n",
       "         [ 0.,  0.,  0., ...,  0.,  0.,  0.],\n",
       "         [ 0.,  0.,  0., ...,  0.,  0.,  0.],\n",
       "         [ 0.,  0.,  0., ...,  0.,  0.,  0.]],\n",
       "\n",
       "        [[ 0.,  0.,  0., ...,  0.,  0.,  0.],\n",
       "         [ 0.,  0.,  0., ...,  0.,  0.,  0.],\n",
       "         [ 0.,  0.,  0., ...,  0.,  0.,  0.],\n",
       "         ..., \n",
       "         [ 0.,  0.,  0., ...,  0.,  0.,  0.],\n",
       "         [ 0.,  0.,  0., ...,  0.,  0.,  0.],\n",
       "         [ 0.,  0.,  0., ...,  0.,  0.,  0.]],\n",
       "\n",
       "        [[ 0.,  0.,  0., ...,  0.,  0.,  0.],\n",
       "         [ 0.,  0.,  0., ...,  0.,  0.,  0.],\n",
       "         [ 0.,  0.,  0., ...,  0.,  0.,  0.],\n",
       "         ..., \n",
       "         [ 0.,  0.,  0., ...,  0.,  0.,  0.],\n",
       "         [ 0.,  0.,  0., ...,  0.,  0.,  0.],\n",
       "         [ 0.,  0.,  0., ...,  0.,  0.,  0.]],\n",
       "\n",
       "        ..., \n",
       "        [[ 0.,  0.,  0., ...,  0.,  0.,  0.],\n",
       "         [ 0.,  0.,  0., ...,  0.,  0.,  0.],\n",
       "         [ 0.,  0.,  0., ...,  0.,  0.,  0.],\n",
       "         ..., \n",
       "         [ 0.,  0.,  0., ...,  0.,  0.,  0.],\n",
       "         [ 0.,  0.,  0., ...,  0.,  0.,  0.],\n",
       "         [ 0.,  0.,  0., ...,  0.,  0.,  0.]],\n",
       "\n",
       "        [[ 0.,  0.,  0., ...,  0.,  0.,  0.],\n",
       "         [ 0.,  0.,  0., ...,  0.,  0.,  0.],\n",
       "         [ 0.,  0.,  0., ...,  0.,  0.,  0.],\n",
       "         ..., \n",
       "         [ 0.,  0.,  0., ...,  0.,  0.,  0.],\n",
       "         [ 0.,  0.,  0., ...,  0.,  0.,  0.],\n",
       "         [ 0.,  0.,  0., ...,  0.,  0.,  0.]],\n",
       "\n",
       "        [[ 0.,  0.,  0., ...,  0.,  0.,  0.],\n",
       "         [ 0.,  0.,  0., ...,  0.,  0.,  0.],\n",
       "         [ 0.,  0.,  0., ...,  0.,  0.,  0.],\n",
       "         ..., \n",
       "         [ 0.,  0.,  0., ...,  0.,  0.,  0.],\n",
       "         [ 0.,  0.,  0., ...,  0.,  0.,  0.],\n",
       "         [ 0.,  0.,  0., ...,  0.,  0.,  0.]]],\n",
       "\n",
       "\n",
       "       [[[ 0.,  0.,  0., ...,  0.,  0.,  0.],\n",
       "         [ 0.,  0.,  0., ...,  0.,  0.,  0.],\n",
       "         [ 0.,  0.,  0., ...,  0.,  0.,  0.],\n",
       "         ..., \n",
       "         [ 0.,  0.,  0., ...,  0.,  0.,  0.],\n",
       "         [ 0.,  0.,  0., ...,  0.,  0.,  0.],\n",
       "         [ 0.,  0.,  0., ...,  0.,  0.,  0.]],\n",
       "\n",
       "        [[ 0.,  0.,  0., ...,  0.,  0.,  0.],\n",
       "         [ 0.,  0.,  0., ...,  0.,  0.,  0.],\n",
       "         [ 0.,  0.,  0., ...,  0.,  0.,  0.],\n",
       "         ..., \n",
       "         [ 0.,  0.,  0., ...,  0.,  0.,  0.],\n",
       "         [ 0.,  0.,  0., ...,  0.,  0.,  0.],\n",
       "         [ 0.,  0.,  0., ...,  0.,  0.,  0.]],\n",
       "\n",
       "        [[ 0.,  0.,  0., ...,  0.,  0.,  0.],\n",
       "         [ 0.,  0.,  0., ...,  0.,  0.,  0.],\n",
       "         [ 0.,  0.,  0., ...,  0.,  0.,  0.],\n",
       "         ..., \n",
       "         [ 0.,  0.,  0., ...,  0.,  0.,  0.],\n",
       "         [ 0.,  0.,  0., ...,  0.,  0.,  0.],\n",
       "         [ 0.,  0.,  0., ...,  0.,  0.,  0.]],\n",
       "\n",
       "        ..., \n",
       "        [[ 0.,  0.,  0., ...,  0.,  0.,  0.],\n",
       "         [ 0.,  0.,  0., ...,  0.,  0.,  0.],\n",
       "         [ 0.,  0.,  0., ...,  0.,  0.,  0.],\n",
       "         ..., \n",
       "         [ 0.,  0.,  0., ...,  0.,  0.,  0.],\n",
       "         [ 0.,  0.,  0., ...,  0.,  0.,  0.],\n",
       "         [ 0.,  0.,  0., ...,  0.,  0.,  0.]],\n",
       "\n",
       "        [[ 0.,  0.,  0., ...,  0.,  0.,  0.],\n",
       "         [ 0.,  0.,  0., ...,  0.,  0.,  0.],\n",
       "         [ 0.,  0.,  0., ...,  0.,  0.,  0.],\n",
       "         ..., \n",
       "         [ 0.,  0.,  0., ...,  0.,  0.,  0.],\n",
       "         [ 0.,  0.,  0., ...,  0.,  0.,  0.],\n",
       "         [ 0.,  0.,  0., ...,  0.,  0.,  0.]],\n",
       "\n",
       "        [[ 0.,  0.,  0., ...,  0.,  0.,  0.],\n",
       "         [ 0.,  0.,  0., ...,  0.,  0.,  0.],\n",
       "         [ 0.,  0.,  0., ...,  0.,  0.,  0.],\n",
       "         ..., \n",
       "         [ 0.,  0.,  0., ...,  0.,  0.,  0.],\n",
       "         [ 0.,  0.,  0., ...,  0.,  0.,  0.],\n",
       "         [ 0.,  0.,  0., ...,  0.,  0.,  0.]]],\n",
       "\n",
       "\n",
       "       [[[ 0.,  0.,  0., ...,  0.,  0.,  0.],\n",
       "         [ 0.,  0.,  0., ...,  0.,  0.,  0.],\n",
       "         [ 0.,  0.,  0., ...,  0.,  0.,  0.],\n",
       "         ..., \n",
       "         [ 0.,  0.,  0., ...,  0.,  0.,  0.],\n",
       "         [ 0.,  0.,  0., ...,  0.,  0.,  0.],\n",
       "         [ 0.,  0.,  0., ...,  0.,  0.,  0.]],\n",
       "\n",
       "        [[ 0.,  0.,  0., ...,  0.,  0.,  0.],\n",
       "         [ 0.,  0.,  0., ...,  0.,  0.,  0.],\n",
       "         [ 0.,  0.,  0., ...,  0.,  0.,  0.],\n",
       "         ..., \n",
       "         [ 0.,  0.,  0., ...,  0.,  0.,  0.],\n",
       "         [ 0.,  0.,  0., ...,  0.,  0.,  0.],\n",
       "         [ 0.,  0.,  0., ...,  0.,  0.,  0.]],\n",
       "\n",
       "        [[ 0.,  0.,  0., ...,  0.,  0.,  0.],\n",
       "         [ 0.,  0.,  0., ...,  0.,  0.,  0.],\n",
       "         [ 0.,  0.,  0., ...,  0.,  0.,  0.],\n",
       "         ..., \n",
       "         [ 0.,  0.,  0., ...,  0.,  0.,  0.],\n",
       "         [ 0.,  0.,  0., ...,  0.,  0.,  0.],\n",
       "         [ 0.,  0.,  0., ...,  0.,  0.,  0.]],\n",
       "\n",
       "        ..., \n",
       "        [[ 0.,  0.,  0., ...,  0.,  0.,  0.],\n",
       "         [ 0.,  0.,  0., ...,  0.,  0.,  0.],\n",
       "         [ 0.,  0.,  0., ...,  0.,  0.,  0.],\n",
       "         ..., \n",
       "         [ 0.,  0.,  0., ...,  0.,  0.,  0.],\n",
       "         [ 0.,  0.,  0., ...,  0.,  0.,  0.],\n",
       "         [ 0.,  0.,  0., ...,  0.,  0.,  0.]],\n",
       "\n",
       "        [[ 0.,  0.,  0., ...,  0.,  0.,  0.],\n",
       "         [ 0.,  0.,  0., ...,  0.,  0.,  0.],\n",
       "         [ 0.,  0.,  0., ...,  0.,  0.,  0.],\n",
       "         ..., \n",
       "         [ 0.,  0.,  0., ...,  0.,  0.,  0.],\n",
       "         [ 0.,  0.,  0., ...,  0.,  0.,  0.],\n",
       "         [ 0.,  0.,  0., ...,  0.,  0.,  0.]],\n",
       "\n",
       "        [[ 0.,  0.,  0., ...,  0.,  0.,  0.],\n",
       "         [ 0.,  0.,  0., ...,  0.,  0.,  0.],\n",
       "         [ 0.,  0.,  0., ...,  0.,  0.,  0.],\n",
       "         ..., \n",
       "         [ 0.,  0.,  0., ...,  0.,  0.,  0.],\n",
       "         [ 0.,  0.,  0., ...,  0.,  0.,  0.],\n",
       "         [ 0.,  0.,  0., ...,  0.,  0.,  0.]]],\n",
       "\n",
       "\n",
       "       ..., \n",
       "       [[[ 0.,  0.,  0., ...,  0.,  0.,  0.],\n",
       "         [ 0.,  0.,  0., ...,  0.,  0.,  0.],\n",
       "         [ 0.,  0.,  0., ...,  0.,  0.,  0.],\n",
       "         ..., \n",
       "         [ 0.,  0.,  0., ...,  0.,  0.,  0.],\n",
       "         [ 0.,  0.,  0., ...,  0.,  0.,  0.],\n",
       "         [ 0.,  0.,  0., ...,  0.,  0.,  0.]],\n",
       "\n",
       "        [[ 0.,  0.,  0., ...,  0.,  0.,  0.],\n",
       "         [ 0.,  0.,  0., ...,  0.,  0.,  0.],\n",
       "         [ 0.,  0.,  0., ...,  0.,  0.,  0.],\n",
       "         ..., \n",
       "         [ 0.,  0.,  0., ...,  0.,  0.,  0.],\n",
       "         [ 0.,  0.,  0., ...,  0.,  0.,  0.],\n",
       "         [ 0.,  0.,  0., ...,  0.,  0.,  0.]],\n",
       "\n",
       "        [[ 0.,  0.,  0., ...,  0.,  0.,  0.],\n",
       "         [ 0.,  0.,  0., ...,  0.,  0.,  0.],\n",
       "         [ 0.,  0.,  0., ...,  0.,  0.,  0.],\n",
       "         ..., \n",
       "         [ 0.,  0.,  0., ...,  0.,  0.,  0.],\n",
       "         [ 0.,  0.,  0., ...,  0.,  0.,  0.],\n",
       "         [ 0.,  0.,  0., ...,  0.,  0.,  0.]],\n",
       "\n",
       "        ..., \n",
       "        [[ 0.,  0.,  0., ...,  0.,  0.,  0.],\n",
       "         [ 0.,  0.,  0., ...,  0.,  0.,  0.],\n",
       "         [ 0.,  0.,  0., ...,  0.,  0.,  0.],\n",
       "         ..., \n",
       "         [ 0.,  0.,  0., ...,  0.,  0.,  0.],\n",
       "         [ 0.,  0.,  0., ...,  0.,  0.,  0.],\n",
       "         [ 0.,  0.,  0., ...,  0.,  0.,  0.]],\n",
       "\n",
       "        [[ 0.,  0.,  0., ...,  0.,  0.,  0.],\n",
       "         [ 0.,  0.,  0., ...,  0.,  0.,  0.],\n",
       "         [ 0.,  0.,  0., ...,  0.,  0.,  0.],\n",
       "         ..., \n",
       "         [ 0.,  0.,  0., ...,  0.,  0.,  0.],\n",
       "         [ 0.,  0.,  0., ...,  0.,  0.,  0.],\n",
       "         [ 0.,  0.,  0., ...,  0.,  0.,  0.]],\n",
       "\n",
       "        [[ 0.,  0.,  0., ...,  0.,  0.,  0.],\n",
       "         [ 0.,  0.,  0., ...,  0.,  0.,  0.],\n",
       "         [ 0.,  0.,  0., ...,  0.,  0.,  0.],\n",
       "         ..., \n",
       "         [ 0.,  0.,  0., ...,  0.,  0.,  0.],\n",
       "         [ 0.,  0.,  0., ...,  0.,  0.,  0.],\n",
       "         [ 0.,  0.,  0., ...,  0.,  0.,  0.]]],\n",
       "\n",
       "\n",
       "       [[[ 0.,  0.,  0., ...,  0.,  0.,  0.],\n",
       "         [ 0.,  0.,  0., ...,  0.,  0.,  0.],\n",
       "         [ 0.,  0.,  0., ...,  0.,  0.,  0.],\n",
       "         ..., \n",
       "         [ 0.,  0.,  0., ...,  0.,  0.,  0.],\n",
       "         [ 0.,  0.,  0., ...,  0.,  0.,  0.],\n",
       "         [ 0.,  0.,  0., ...,  0.,  0.,  0.]],\n",
       "\n",
       "        [[ 0.,  0.,  0., ...,  0.,  0.,  0.],\n",
       "         [ 0.,  0.,  0., ...,  0.,  0.,  0.],\n",
       "         [ 0.,  0.,  0., ...,  0.,  0.,  0.],\n",
       "         ..., \n",
       "         [ 0.,  0.,  0., ...,  0.,  0.,  0.],\n",
       "         [ 0.,  0.,  0., ...,  0.,  0.,  0.],\n",
       "         [ 0.,  0.,  0., ...,  0.,  0.,  0.]],\n",
       "\n",
       "        [[ 0.,  0.,  0., ...,  0.,  0.,  0.],\n",
       "         [ 0.,  0.,  0., ...,  0.,  0.,  0.],\n",
       "         [ 0.,  0.,  0., ...,  0.,  0.,  0.],\n",
       "         ..., \n",
       "         [ 0.,  0.,  0., ...,  0.,  0.,  0.],\n",
       "         [ 0.,  0.,  0., ...,  0.,  0.,  0.],\n",
       "         [ 0.,  0.,  0., ...,  0.,  0.,  0.]],\n",
       "\n",
       "        ..., \n",
       "        [[ 0.,  0.,  0., ...,  0.,  0.,  0.],\n",
       "         [ 0.,  0.,  0., ...,  0.,  0.,  0.],\n",
       "         [ 0.,  0.,  0., ...,  0.,  0.,  0.],\n",
       "         ..., \n",
       "         [ 0.,  0.,  0., ...,  0.,  0.,  0.],\n",
       "         [ 0.,  0.,  0., ...,  0.,  0.,  0.],\n",
       "         [ 0.,  0.,  0., ...,  0.,  0.,  0.]],\n",
       "\n",
       "        [[ 0.,  0.,  0., ...,  0.,  0.,  0.],\n",
       "         [ 0.,  0.,  0., ...,  0.,  0.,  0.],\n",
       "         [ 0.,  0.,  0., ...,  0.,  0.,  0.],\n",
       "         ..., \n",
       "         [ 0.,  0.,  0., ...,  0.,  0.,  0.],\n",
       "         [ 0.,  0.,  0., ...,  0.,  0.,  0.],\n",
       "         [ 0.,  0.,  0., ...,  0.,  0.,  0.]],\n",
       "\n",
       "        [[ 0.,  0.,  0., ...,  0.,  0.,  0.],\n",
       "         [ 0.,  0.,  0., ...,  0.,  0.,  0.],\n",
       "         [ 0.,  0.,  0., ...,  0.,  0.,  0.],\n",
       "         ..., \n",
       "         [ 0.,  0.,  0., ...,  0.,  0.,  0.],\n",
       "         [ 0.,  0.,  0., ...,  0.,  0.,  0.],\n",
       "         [ 0.,  0.,  0., ...,  0.,  0.,  0.]]],\n",
       "\n",
       "\n",
       "       [[[ 0.,  0.,  0., ...,  0.,  0.,  0.],\n",
       "         [ 0.,  0.,  0., ...,  0.,  0.,  0.],\n",
       "         [ 0.,  0.,  0., ...,  0.,  0.,  0.],\n",
       "         ..., \n",
       "         [ 0.,  0.,  0., ...,  0.,  0.,  0.],\n",
       "         [ 0.,  0.,  0., ...,  0.,  0.,  0.],\n",
       "         [ 0.,  0.,  0., ...,  0.,  0.,  0.]],\n",
       "\n",
       "        [[ 0.,  0.,  0., ...,  0.,  0.,  0.],\n",
       "         [ 0.,  0.,  0., ...,  0.,  0.,  0.],\n",
       "         [ 0.,  0.,  0., ...,  0.,  0.,  0.],\n",
       "         ..., \n",
       "         [ 0.,  0.,  0., ...,  0.,  0.,  0.],\n",
       "         [ 0.,  0.,  0., ...,  0.,  0.,  0.],\n",
       "         [ 0.,  0.,  0., ...,  0.,  0.,  0.]],\n",
       "\n",
       "        [[ 0.,  0.,  0., ...,  0.,  0.,  0.],\n",
       "         [ 0.,  0.,  0., ...,  0.,  0.,  0.],\n",
       "         [ 0.,  0.,  0., ...,  0.,  0.,  0.],\n",
       "         ..., \n",
       "         [ 0.,  0.,  0., ...,  0.,  0.,  0.],\n",
       "         [ 0.,  0.,  0., ...,  0.,  0.,  0.],\n",
       "         [ 0.,  0.,  0., ...,  0.,  0.,  0.]],\n",
       "\n",
       "        ..., \n",
       "        [[ 0.,  0.,  0., ...,  0.,  0.,  0.],\n",
       "         [ 0.,  0.,  0., ...,  0.,  0.,  0.],\n",
       "         [ 0.,  0.,  0., ...,  0.,  0.,  0.],\n",
       "         ..., \n",
       "         [ 0.,  0.,  0., ...,  0.,  0.,  0.],\n",
       "         [ 0.,  0.,  0., ...,  0.,  0.,  0.],\n",
       "         [ 0.,  0.,  0., ...,  0.,  0.,  0.]],\n",
       "\n",
       "        [[ 0.,  0.,  0., ...,  0.,  0.,  0.],\n",
       "         [ 0.,  0.,  0., ...,  0.,  0.,  0.],\n",
       "         [ 0.,  0.,  0., ...,  0.,  0.,  0.],\n",
       "         ..., \n",
       "         [ 0.,  0.,  0., ...,  0.,  0.,  0.],\n",
       "         [ 0.,  0.,  0., ...,  0.,  0.,  0.],\n",
       "         [ 0.,  0.,  0., ...,  0.,  0.,  0.]],\n",
       "\n",
       "        [[ 0.,  0.,  0., ...,  0.,  0.,  0.],\n",
       "         [ 0.,  0.,  0., ...,  0.,  0.,  0.],\n",
       "         [ 0.,  0.,  0., ...,  0.,  0.,  0.],\n",
       "         ..., \n",
       "         [ 0.,  0.,  0., ...,  0.,  0.,  0.],\n",
       "         [ 0.,  0.,  0., ...,  0.,  0.,  0.],\n",
       "         [ 0.,  0.,  0., ...,  0.,  0.,  0.]]]], dtype=float32)"
      ]
     },
     "execution_count": 46,
     "metadata": {},
     "output_type": "execute_result"
    }
   ],
   "source": [
    "img_data"
   ]
  },
  {
   "cell_type": "markdown",
   "metadata": {
    "slideshow": {
     "slide_type": "slide"
    }
   },
   "source": [
    "# Parallel processing"
   ]
  },
  {
   "cell_type": "markdown",
   "metadata": {
    "slideshow": {
     "slide_type": "subslide"
    }
   },
   "source": [
    "<img src='http://www.macstadium.com/blog/wp-content/uploads/2013/06/macpro_background2.jpg' width=800>"
   ]
  },
  {
   "cell_type": "markdown",
   "metadata": {
    "slideshow": {
     "slide_type": "fragment"
    }
   },
   "source": [
    "- 서로 다른 사용자들\n",
    "- 병렬화\n",
    "- 자동 job dispatching\n",
    "- 한 곳에만 software install\n",
    "- 서로 direct하게 연결 하면서 internet 사용"
   ]
  },
  {
   "cell_type": "markdown",
   "metadata": {
    "slideshow": {
     "slide_type": "slide"
    }
   },
   "source": [
    "#감사합니다."
   ]
  }
 ],
 "metadata": {
  "celltoolbar": "Slideshow",
  "kernelspec": {
   "display_name": "Python 2",
   "language": "python",
   "name": "python2"
  },
  "language_info": {
   "codemirror_mode": {
    "name": "ipython",
    "version": 2
   },
   "file_extension": ".py",
   "mimetype": "text/x-python",
   "name": "python",
   "nbconvert_exporter": "python",
   "pygments_lexer": "ipython2",
   "version": "2.7.6"
  }
 },
 "nbformat": 4,
 "nbformat_minor": 0
}
