{
 "metadata": {
  "name": "",
  "signature": "sha256:a98a93adb188d269552766b8d5baeb947ca0b0bb76feab67538d1327a4fd2815"
 },
 "nbformat": 3,
 "nbformat_minor": 0,
 "worksheets": [
  {
   "cells": [
    {
     "cell_type": "heading",
     "level": 1,
     "metadata": {},
     "source": [
      "Neuropython"
     ]
    },
    {
     "cell_type": "markdown",
     "metadata": {},
     "source": [
      "> \ucee4\ub9ac\ud058\ub7fc"
     ]
    },
    {
     "cell_type": "markdown",
     "metadata": {},
     "source": [
      "https://docs.google.com/spreadsheets/d/1p9ajd6UxwW4skVgt6Os8Zyv_1iS5yQ-cQhCy-rg2R0s/edit#gid=0"
     ]
    },
    {
     "cell_type": "markdown",
     "metadata": {},
     "source": [
      "### \ud544\uc694\ud55c \uac83\n",
      "1. \ub178\ud2b8\ubd81\n",
      "2. ipython notebook"
     ]
    },
    {
     "cell_type": "markdown",
     "metadata": {},
     "source": [
      "# Neural modeling\n",
      "\n",
      "---"
     ]
    },
    {
     "cell_type": "markdown",
     "metadata": {},
     "source": [
      "# Contents\n",
      "\n",
      "> ## Neural modeling *in \ud30c\uc774\uc36c*\n",
      "\n",
      "    1. Leaky Integrate-and-Fire\n",
      "    2. Hodgkin-Huxley Model\n",
      "    3. Izhikevich Model Neuron\n",
      "    4. Cable theory and compartmental modeling"
     ]
    },
    {
     "cell_type": "markdown",
     "metadata": {},
     "source": [
      "> ## \uc2e4\uc2b5\uc704\uc8fc\n",
      "\n",
      "    1. \ucf54\ub529\n",
      "    2. \ube44\uad50\n",
      "    3. \uc808\ub9dd\n",
      "    4. \uc8fc\uc704 \ub2a5\ub825\uc790\ub2d8\ub4e4\uaed8 \ub3c4\uc6c0\ubc1b\uc74c"
     ]
    },
    {
     "cell_type": "markdown",
     "metadata": {},
     "source": [
      "> ## \ud30c\uc774\uc36c\n",
      "\n",
      "    1. lambda\n",
      "    2. vectorize\n",
      "    3. array\n",
      "    4. object-oriented python\n",
      "    5. dot-product, linear algebra"
     ]
    },
    {
     "cell_type": "markdown",
     "metadata": {},
     "source": [
      "# Introduction\n",
      "-----"
     ]
    },
    {
     "cell_type": "heading",
     "level": 2,
     "metadata": {},
     "source": [
      "Why python ?"
     ]
    },
    {
     "cell_type": "markdown",
     "metadata": {},
     "source": [
      "- \uc27d\uace0\n",
      "- \ub9ce\uc774 \uc4f0\uc774\uace0\n",
      "- \ubb34\ub8cc\uc784\n",
      "+ \uc22b\uc790\uacc4\uc0b0\uc5d0 \uc81c\ud55c\ub41c \ub7ad\uadc0\uc9c0\uac00 \uc544\ub2d8\n",
      "+ \ud30c\ub784\ub810 \ucef4\ud4e8\ud305 \uac00\ub2a5\ud568"
     ]
    },
    {
     "cell_type": "markdown",
     "metadata": {},
     "source": [
      "## Why neural modeling ?"
     ]
    },
    {
     "cell_type": "markdown",
     "metadata": {},
     "source": [
      "> ## Artificial neuron\n",
      "- computational effectiveness\ub97c \ubaa9\ud45c\ub85c \ud568 !\n",
      "- \uba38\uc2e0\ub7ec\ub2dd\uc5d0\uc11c \uc790\uc8fc \ub098\uc654\ub358 \uc8fc\uc81c\n",
      "\n",
      "> ## Neural modeling\n",
      "- \uc0dd\ubb3c\ud559\uc801 \ud504\ub85c\uc138\uc2a4\uc758 \ubb18\uc0ac\uc640 \uc608\uce21\uc744 \ubaa9\ud45c\ub85c \ud568 !"
     ]
    },
    {
     "cell_type": "markdown",
     "metadata": {},
     "source": [
      "# Action potential \uba54\uce74\ub2c8\uc998\n",
      "---\n",
      "\n",
      "0:57 \ubd80\ud130 1:55\n",
      "\n",
      "2:11 \ubd80\ud130 3:08"
     ]
    },
    {
     "cell_type": "code",
     "collapsed": false,
     "input": [
      "from IPython.display import YouTubeVideo\n",
      "# a talk about IPython at Sage Days at U. Washington, Seattle.\n",
      "# Video credit: William Stein.\n",
      "YouTubeVideo('SdUUP2pMmQ4')"
     ],
     "language": "python",
     "metadata": {},
     "outputs": [
      {
       "html": [
        "\n",
        "        <iframe\n",
        "            width=\"400\"\n",
        "            height=300\"\n",
        "            src=\"https://www.youtube.com/embed/SdUUP2pMmQ4\"\n",
        "            frameborder=\"0\"\n",
        "            allowfullscreen\n",
        "        ></iframe>\n",
        "        "
       ],
       "metadata": {},
       "output_type": "pyout",
       "prompt_number": 218,
       "text": [
        "<IPython.lib.display.YouTubeVideo at 0x11412ca90>"
       ]
      }
     ],
     "prompt_number": 218
    },
    {
     "cell_type": "markdown",
     "metadata": {},
     "source": [
      "#\uc544\ub798 \ubd80\ud130\ub294 \ubaa8\ub378 !\n",
      "\n",
      "---"
     ]
    },
    {
     "cell_type": "markdown",
     "metadata": {},
     "source": [
      "## 1. Leaky Integrate-and-Fire\n",
      "\n",
      "---"
     ]
    },
    {
     "cell_type": "markdown",
     "metadata": {},
     "source": [
      "- Spike\uc640 refrectory period\ub97c \ud45c\ud604\ud558\ub294 \uac04\ub2e8\ud55c \ubaa8\ub378"
     ]
    },
    {
     "cell_type": "markdown",
     "metadata": {},
     "source": [
      "#### Leaky\n",
      "- \uc0cc\ub2e4\n",
      "- diffusion of ions\n",
      "    \n",
      "#### Integrate\n",
      "- \ud569\uce5c\ub2e4\n",
      "- \ubc14\ub85c \uc774\uc804\uc758 voltage\uac00 \ub2e4\uc74c voltage\uc5d0 \uc601\ud5a5\uc744 \ubbf8\uce68\n",
      "    \n",
      "#### Fire\n",
      "- \uc3dc\ub2e4\n",
      "- spike when overthreshold"
     ]
    },
    {
     "cell_type": "markdown",
     "metadata": {},
     "source": [
      "<img src=http://nbviewer.ipython.org/github/tcstewar/syde556/blob/master/lecture3/lif.png>"
     ]
    },
    {
     "cell_type": "markdown",
     "metadata": {},
     "source": [
      "- Over-simplication \n",
      "\n",
      "but \n",
      "\n",
      "- Minimal computation"
     ]
    },
    {
     "cell_type": "markdown",
     "metadata": {},
     "source": [
      "##$$\\frac{dV}{dt} = \\left\\{\\begin{aligned} \\frac{1}{\\tau_m}(-V + IR_m)\\phantom{===}&t > t_{rest} \\\\ 0\\phantom{===}&otherwise \\end{aligned} \\right\\} $$"
     ]
    },
    {
     "cell_type": "markdown",
     "metadata": {},
     "source": [
      "V  = membrane potential\n",
      "\n",
      "tau_m = membrane time constant\n",
      "\n",
      "tau_m = R_m * C_m\n",
      "\n",
      "R_m = membrane resistance\n",
      "\n",
      "C_m = membrane resistance\n",
      "\n",
      "I = input current"
     ]
    },
    {
     "cell_type": "markdown",
     "metadata": {},
     "source": [
      "# \uc2e4\uc2b5 : 10\ubd84\n",
      "\n",
      "> ##Leaky integrate-and-fire model Simulate \ud574\ubcf4\uae30"
     ]
    },
    {
     "cell_type": "markdown",
     "metadata": {},
     "source": [
      "## http://cns.bu.edu/~bvg/neurdon/lif.py"
     ]
    },
    {
     "cell_type": "markdown",
     "metadata": {},
     "source": [
      "> \ubaa8\ub4c8 \ubd88\ub7ec\uc624\uae30"
     ]
    },
    {
     "cell_type": "code",
     "collapsed": false,
     "input": [
      "from numpy import * # matrix\n",
      "from pylab import * # graphs"
     ],
     "language": "python",
     "metadata": {},
     "outputs": [],
     "prompt_number": 101
    },
    {
     "cell_type": "markdown",
     "metadata": {},
     "source": [
      "> \uc2dc\ubbac\ub808\uc774\uc158\uc744 \uc704\ud55c \ud30c\ub77c\ubbf8\ud130 \uc9c0\uc815\n",
      "\n",
      "- \ub9cc\ub4e4\uc5b4\ub0c4?"
     ]
    },
    {
     "cell_type": "code",
     "collapsed": false,
     "input": [
      "T       = 50                  # total time to simulate (msec)\n",
      "dt      = 0.125               # simulation time step (msec)\n",
      "time    = arange(0, T+dt, dt) # time array\n",
      "t_rest  = 0                   # initial refractory time"
     ],
     "language": "python",
     "metadata": {},
     "outputs": [],
     "prompt_number": 108
    },
    {
     "cell_type": "markdown",
     "metadata": {},
     "source": [
      "> 'time' array\uac00 \uc5b4\ub5bb\uac8c \uc0dd\uacbc\uc9c0 ?"
     ]
    },
    {
     "cell_type": "code",
     "collapsed": false,
     "input": [
      "time.shape"
     ],
     "language": "python",
     "metadata": {},
     "outputs": [
      {
       "metadata": {},
       "output_type": "pyout",
       "prompt_number": 103,
       "text": [
        "(401,)"
       ]
      }
     ],
     "prompt_number": 103
    },
    {
     "cell_type": "code",
     "collapsed": false,
     "input": [
      "time"
     ],
     "language": "python",
     "metadata": {},
     "outputs": [
      {
       "metadata": {},
       "output_type": "pyout",
       "prompt_number": 104,
       "text": [
        "array([  0.   ,   0.125,   0.25 ,   0.375,   0.5  ,   0.625,   0.75 ,\n",
        "         0.875,   1.   ,   1.125,   1.25 ,   1.375,   1.5  ,   1.625,\n",
        "         1.75 ,   1.875,   2.   ,   2.125,   2.25 ,   2.375,   2.5  ,\n",
        "         2.625,   2.75 ,   2.875,   3.   ,   3.125,   3.25 ,   3.375,\n",
        "         3.5  ,   3.625,   3.75 ,   3.875,   4.   ,   4.125,   4.25 ,\n",
        "         4.375,   4.5  ,   4.625,   4.75 ,   4.875,   5.   ,   5.125,\n",
        "         5.25 ,   5.375,   5.5  ,   5.625,   5.75 ,   5.875,   6.   ,\n",
        "         6.125,   6.25 ,   6.375,   6.5  ,   6.625,   6.75 ,   6.875,\n",
        "         7.   ,   7.125,   7.25 ,   7.375,   7.5  ,   7.625,   7.75 ,\n",
        "         7.875,   8.   ,   8.125,   8.25 ,   8.375,   8.5  ,   8.625,\n",
        "         8.75 ,   8.875,   9.   ,   9.125,   9.25 ,   9.375,   9.5  ,\n",
        "         9.625,   9.75 ,   9.875,  10.   ,  10.125,  10.25 ,  10.375,\n",
        "        10.5  ,  10.625,  10.75 ,  10.875,  11.   ,  11.125,  11.25 ,\n",
        "        11.375,  11.5  ,  11.625,  11.75 ,  11.875,  12.   ,  12.125,\n",
        "        12.25 ,  12.375,  12.5  ,  12.625,  12.75 ,  12.875,  13.   ,\n",
        "        13.125,  13.25 ,  13.375,  13.5  ,  13.625,  13.75 ,  13.875,\n",
        "        14.   ,  14.125,  14.25 ,  14.375,  14.5  ,  14.625,  14.75 ,\n",
        "        14.875,  15.   ,  15.125,  15.25 ,  15.375,  15.5  ,  15.625,\n",
        "        15.75 ,  15.875,  16.   ,  16.125,  16.25 ,  16.375,  16.5  ,\n",
        "        16.625,  16.75 ,  16.875,  17.   ,  17.125,  17.25 ,  17.375,\n",
        "        17.5  ,  17.625,  17.75 ,  17.875,  18.   ,  18.125,  18.25 ,\n",
        "        18.375,  18.5  ,  18.625,  18.75 ,  18.875,  19.   ,  19.125,\n",
        "        19.25 ,  19.375,  19.5  ,  19.625,  19.75 ,  19.875,  20.   ,\n",
        "        20.125,  20.25 ,  20.375,  20.5  ,  20.625,  20.75 ,  20.875,\n",
        "        21.   ,  21.125,  21.25 ,  21.375,  21.5  ,  21.625,  21.75 ,\n",
        "        21.875,  22.   ,  22.125,  22.25 ,  22.375,  22.5  ,  22.625,\n",
        "        22.75 ,  22.875,  23.   ,  23.125,  23.25 ,  23.375,  23.5  ,\n",
        "        23.625,  23.75 ,  23.875,  24.   ,  24.125,  24.25 ,  24.375,\n",
        "        24.5  ,  24.625,  24.75 ,  24.875,  25.   ,  25.125,  25.25 ,\n",
        "        25.375,  25.5  ,  25.625,  25.75 ,  25.875,  26.   ,  26.125,\n",
        "        26.25 ,  26.375,  26.5  ,  26.625,  26.75 ,  26.875,  27.   ,\n",
        "        27.125,  27.25 ,  27.375,  27.5  ,  27.625,  27.75 ,  27.875,\n",
        "        28.   ,  28.125,  28.25 ,  28.375,  28.5  ,  28.625,  28.75 ,\n",
        "        28.875,  29.   ,  29.125,  29.25 ,  29.375,  29.5  ,  29.625,\n",
        "        29.75 ,  29.875,  30.   ,  30.125,  30.25 ,  30.375,  30.5  ,\n",
        "        30.625,  30.75 ,  30.875,  31.   ,  31.125,  31.25 ,  31.375,\n",
        "        31.5  ,  31.625,  31.75 ,  31.875,  32.   ,  32.125,  32.25 ,\n",
        "        32.375,  32.5  ,  32.625,  32.75 ,  32.875,  33.   ,  33.125,\n",
        "        33.25 ,  33.375,  33.5  ,  33.625,  33.75 ,  33.875,  34.   ,\n",
        "        34.125,  34.25 ,  34.375,  34.5  ,  34.625,  34.75 ,  34.875,\n",
        "        35.   ,  35.125,  35.25 ,  35.375,  35.5  ,  35.625,  35.75 ,\n",
        "        35.875,  36.   ,  36.125,  36.25 ,  36.375,  36.5  ,  36.625,\n",
        "        36.75 ,  36.875,  37.   ,  37.125,  37.25 ,  37.375,  37.5  ,\n",
        "        37.625,  37.75 ,  37.875,  38.   ,  38.125,  38.25 ,  38.375,\n",
        "        38.5  ,  38.625,  38.75 ,  38.875,  39.   ,  39.125,  39.25 ,\n",
        "        39.375,  39.5  ,  39.625,  39.75 ,  39.875,  40.   ,  40.125,\n",
        "        40.25 ,  40.375,  40.5  ,  40.625,  40.75 ,  40.875,  41.   ,\n",
        "        41.125,  41.25 ,  41.375,  41.5  ,  41.625,  41.75 ,  41.875,\n",
        "        42.   ,  42.125,  42.25 ,  42.375,  42.5  ,  42.625,  42.75 ,\n",
        "        42.875,  43.   ,  43.125,  43.25 ,  43.375,  43.5  ,  43.625,\n",
        "        43.75 ,  43.875,  44.   ,  44.125,  44.25 ,  44.375,  44.5  ,\n",
        "        44.625,  44.75 ,  44.875,  45.   ,  45.125,  45.25 ,  45.375,\n",
        "        45.5  ,  45.625,  45.75 ,  45.875,  46.   ,  46.125,  46.25 ,\n",
        "        46.375,  46.5  ,  46.625,  46.75 ,  46.875,  47.   ,  47.125,\n",
        "        47.25 ,  47.375,  47.5  ,  47.625,  47.75 ,  47.875,  48.   ,\n",
        "        48.125,  48.25 ,  48.375,  48.5  ,  48.625,  48.75 ,  48.875,\n",
        "        49.   ,  49.125,  49.25 ,  49.375,  49.5  ,  49.625,  49.75 ,\n",
        "        49.875,  50.   ])"
       ]
      }
     ],
     "prompt_number": 104
    },
    {
     "cell_type": "markdown",
     "metadata": {},
     "source": [
      "> Leaky Integrate-and-Fire properties"
     ]
    },
    {
     "cell_type": "code",
     "collapsed": false,
     "input": [
      "Vm      = zeros(len(time))    # potential (V) trace over time --> another array\n",
      "\n",
      "Rm      = 1                   # membrane resistance (kOhm)\n",
      "Cm      = 10                  # membrane capacitance (uF)\n",
      "tau_m   = Rm*Cm               # time constant (msec)\n",
      "\n",
      "tau_ref = 4                   # refractory period (msec)\n",
      "Vth     = 1                   # spike threshold (V)\n",
      "V_spike = 0.5                 # spike delta (V)\n",
      "I       = 1.5                 # input current (A)"
     ],
     "language": "python",
     "metadata": {},
     "outputs": [],
     "prompt_number": 105
    },
    {
     "cell_type": "markdown",
     "metadata": {},
     "source": [
      "### 1. Vm array \uc5c5\ub370\uc774\ud2b8 \ud574\ubcf4\uae30\n"
     ]
    },
    {
     "cell_type": "markdown",
     "metadata": {},
     "source": [
      "##$$\\frac{dV}{dt} = \\left\\{\\begin{aligned} \\frac{1}{\\tau_m}(-V + IR_m)\\phantom{===}&t > t_{rest} \\\\ 0\\phantom{===}&otherwise \\end{aligned} \\right\\} $$"
     ]
    },
    {
     "cell_type": "markdown",
     "metadata": {},
     "source": [
      "    Vm[i] = Vm[i-1] + (-Vm[i-1] + I*Rm) / tau_m * dt\n",
      "    \n",
      "\uc704\uc758 \uc2dd\uc744 \uc368\uc11c, Vm array\ub97c \uc5c5\ub370\uc774\ud2b8 \ud574\ubcf4\uae30"
     ]
    },
    {
     "cell_type": "code",
     "collapsed": false,
     "input": [
      "for i, t in enumerate(time): \n",
      "  if t > t_rest:\n",
      "    Vm[i] = Vm[i-1] + (1 / tau_m) * (-Vm[i-1] + I * Rm) * dt\n",
      "    if Vm[i] >= Vth:\n",
      "      Vm[i] += V_spike\n",
      "      t_rest = t + tau_ref  # \ud55c\ubc88 fire\ud588\uc73c\uba74, \uc26c\uc5b4\uc57c \ud55c\ub2e4"
     ],
     "language": "python",
     "metadata": {},
     "outputs": [],
     "prompt_number": 106
    },
    {
     "cell_type": "markdown",
     "metadata": {},
     "source": [
      "> plot membrane potential trace"
     ]
    },
    {
     "cell_type": "code",
     "collapsed": false,
     "input": [
      "plot(time, Vm)\n",
      "title('Leaky Integrate-and-Fire Example')\n",
      "ylabel('Membrane Potential (V)')\n",
      "xlabel('Time (msec)')\n",
      "ylim([0,2])\n",
      "show()"
     ],
     "language": "python",
     "metadata": {},
     "outputs": [
      {
       "metadata": {},
       "output_type": "display_data",
       "png": "[encoded data removed]",
       "text": [
        "<matplotlib.figure.Figure at 0x108f31a50>"
       ]
      }
     ],
     "prompt_number": 107
    },
    {
     "cell_type": "heading",
     "level": 1,
     "metadata": {},
     "source": [
      "2. Hodgkin-Huxley Model"
     ]
    },
    {
     "cell_type": "markdown",
     "metadata": {},
     "source": [
      "<img src=http://www.naturalmentescienza.it/ipertesti/1900/900figure/hodgkin.jpg>"
     ]
    },
    {
     "cell_type": "markdown",
     "metadata": {},
     "source": [
      "1952\n",
      "<img src=https://frank.itlab.us/electro/loligo.jpg>"
     ]
    },
    {
     "cell_type": "markdown",
     "metadata": {},
     "source": [
      "## \uc804\uae30\uc801 \ud2b9\uc9d5\uc744 \ub098\ud0c0\ub0bc \uc218 \uc788\ub294 \uc218\ud559\uc801 \ubaa8\ub378\uc744 \ub9cc\ub4e4\uc5c8\ub2e4 !!"
     ]
    },
    {
     "cell_type": "markdown",
     "metadata": {},
     "source": [
      "## \ud070 \ubcc0\ud654\n",
      "- ### voltage-sensitive ion channels\ub97c \ubaa8\ub378 \uc18d\uc73c\ub85c !!!"
     ]
    },
    {
     "cell_type": "markdown",
     "metadata": {},
     "source": [
      "##$$\\frac{dV}{dt} = \\frac{1}{C_m}(I_m - g_{Na}m^3h(V-E_{Na}) - g_kn^4(V-E_K) - g_l(V-E_l))$$"
     ]
    },
    {
     "cell_type": "markdown",
     "metadata": {},
     "source": [
      "*Na, K, l* : sodium, potassium, leak channels\n",
      "\n",
      "*g* : relative conductances\n",
      "\n",
      "*E* : reversal potentials\n",
      "\n",
      "*m, h, n* : sentivive to the membrane potential\n"
     ]
    },
    {
     "cell_type": "markdown",
     "metadata": {},
     "source": [
      "# \uc2e4\uc2b5 15\ubd84\n",
      "\n",
      "> ##Hodgkin-Huxley model simulate \ud574\ubcf4\uae30"
     ]
    },
    {
     "cell_type": "markdown",
     "metadata": {},
     "source": [
      "## http://cns.bu.edu/~bvg/neurdon/hh.py"
     ]
    },
    {
     "cell_type": "markdown",
     "metadata": {},
     "source": [
      "##$$\\frac{dV}{dt} = \\frac{1}{C_m}(I_m - g_{Na}m^3h(V-E_{Na}) - g_kn^4(V-E_K) - g_l(V-E_l))$$"
     ]
    },
    {
     "cell_type": "markdown",
     "metadata": {},
     "source": [
      "> \uc2e4\uc2b5\ud558\uae30 \uc804, python"
     ]
    },
    {
     "cell_type": "markdown",
     "metadata": {},
     "source": [
      "## \ub514\ube44\uc83c? division?"
     ]
    },
    {
     "cell_type": "code",
     "collapsed": false,
     "input": [
      "3/4"
     ],
     "language": "python",
     "metadata": {},
     "outputs": [
      {
       "metadata": {},
       "output_type": "pyout",
       "prompt_number": 112,
       "text": [
        "0.75"
       ]
      }
     ],
     "prompt_number": 112
    },
    {
     "cell_type": "markdown",
     "metadata": {},
     "source": [
      "## \ub78c\ub2e4? lambda?"
     ]
    },
    {
     "cell_type": "markdown",
     "metadata": {},
     "source": [
      "- \uac04\ub2e8\ud55c function \ub9cc\ub4e4\uae30?"
     ]
    },
    {
     "cell_type": "code",
     "collapsed": false,
     "input": [
      "addThree = lambda v: v+3"
     ],
     "language": "python",
     "metadata": {},
     "outputs": [],
     "prompt_number": 144
    },
    {
     "cell_type": "code",
     "collapsed": false,
     "input": [
      "addThree(9)"
     ],
     "language": "python",
     "metadata": {},
     "outputs": [
      {
       "metadata": {},
       "output_type": "pyout",
       "prompt_number": 145,
       "text": [
        "12"
       ]
      }
     ],
     "prompt_number": 145
    },
    {
     "cell_type": "code",
     "collapsed": false,
     "input": [
      "addThree(3)"
     ],
     "language": "python",
     "metadata": {},
     "outputs": [
      {
       "metadata": {},
       "output_type": "pyout",
       "prompt_number": 146,
       "text": [
        "6"
       ]
      }
     ],
     "prompt_number": 146
    },
    {
     "cell_type": "code",
     "collapsed": false,
     "input": [
      "addThree([3,2,1])"
     ],
     "language": "python",
     "metadata": {},
     "outputs": [
      {
       "ename": "TypeError",
       "evalue": "can only concatenate list (not \"int\") to list",
       "output_type": "pyerr",
       "traceback": [
        "\u001b[0;31m---------------------------------------------------------------------------\u001b[0m\n\u001b[0;31mTypeError\u001b[0m                                 Traceback (most recent call last)",
        "\u001b[0;32m<ipython-input-151-6196dbe53fdc>\u001b[0m in \u001b[0;36m<module>\u001b[0;34m()\u001b[0m\n\u001b[0;32m----> 1\u001b[0;31m \u001b[0maddThree\u001b[0m\u001b[0;34m(\u001b[0m\u001b[0;34m[\u001b[0m\u001b[0;36m3\u001b[0m\u001b[0;34m,\u001b[0m\u001b[0;36m2\u001b[0m\u001b[0;34m,\u001b[0m\u001b[0;36m1\u001b[0m\u001b[0;34m]\u001b[0m\u001b[0;34m)\u001b[0m\u001b[0;34m\u001b[0m\u001b[0m\n\u001b[0m",
        "\u001b[0;32m<ipython-input-144-dff56af6daf8>\u001b[0m in \u001b[0;36m<lambda>\u001b[0;34m(v)\u001b[0m\n\u001b[0;32m----> 1\u001b[0;31m \u001b[0maddThree\u001b[0m \u001b[0;34m=\u001b[0m \u001b[0;32mlambda\u001b[0m \u001b[0mv\u001b[0m\u001b[0;34m:\u001b[0m \u001b[0mv\u001b[0m\u001b[0;34m+\u001b[0m\u001b[0;36m3\u001b[0m\u001b[0;34m\u001b[0m\u001b[0m\n\u001b[0m",
        "\u001b[0;31mTypeError\u001b[0m: can only concatenate list (not \"int\") to list"
       ]
      }
     ],
     "prompt_number": 151
    },
    {
     "cell_type": "code",
     "collapsed": false,
     "input": [
      "addThree_each = vectorize(lambda v: v+3)"
     ],
     "language": "python",
     "metadata": {},
     "outputs": [],
     "prompt_number": 149
    },
    {
     "cell_type": "code",
     "collapsed": false,
     "input": [
      "addThree_each([3,2,1])"
     ],
     "language": "python",
     "metadata": {},
     "outputs": [
      {
       "metadata": {},
       "output_type": "pyout",
       "prompt_number": 152,
       "text": [
        "array([6, 5, 4])"
       ]
      }
     ],
     "prompt_number": 152
    },
    {
     "cell_type": "heading",
     "level": 1,
     "metadata": {},
     "source": [
      "\uc2e4\uc2b5"
     ]
    },
    {
     "cell_type": "markdown",
     "metadata": {},
     "source": [
      "> import modules"
     ]
    },
    {
     "cell_type": "code",
     "collapsed": false,
     "input": [
      "from __future__ import division  ## python2\uc758 \ub098\ub204\uae30 \ubb38\uc81c \ud574\uacb0\n",
      "#from numpy import *\n",
      "#from pylab import *"
     ],
     "language": "python",
     "metadata": {},
     "outputs": [],
     "prompt_number": 153
    },
    {
     "cell_type": "markdown",
     "metadata": {},
     "source": [
      "> ## Voltage-gated ion channels\n",
      "\n",
      "- membrane potential\uc5d0 \ub300\ud55c \ubbfc\uac10\ub3c4 \uacc4\uc0b0 "
     ]
    },
    {
     "cell_type": "markdown",
     "metadata": {},
     "source": [
      "> K channel"
     ]
    },
    {
     "cell_type": "code",
     "collapsed": false,
     "input": [
      "# K channel\n",
      "alpha_n = vectorize(lambda v: 0.01*(-v + 10)/(exp((-v + 10)/10) - 1) if v != 10 else 0.1)\n",
      "beta_n  = lambda v: 0.125*exp(-v/80)\n",
      "n_inf   = lambda v: alpha_n(v)/(alpha_n(v) + beta_n(v))"
     ],
     "language": "python",
     "metadata": {},
     "outputs": [],
     "prompt_number": 174
    },
    {
     "cell_type": "code",
     "collapsed": false,
     "input": [
      "n_inf(100)"
     ],
     "language": "python",
     "metadata": {},
     "outputs": [
      {
       "metadata": {},
       "output_type": "pyout",
       "prompt_number": 175,
       "text": [
        "0.9617350419073033"
       ]
      }
     ],
     "prompt_number": 175
    },
    {
     "cell_type": "code",
     "collapsed": false,
     "input": [
      "n_inf(1)"
     ],
     "language": "python",
     "metadata": {},
     "outputs": [
      {
       "metadata": {},
       "output_type": "pyout",
       "prompt_number": 176,
       "text": [
        "0.33310638454376695"
       ]
      }
     ],
     "prompt_number": 176
    },
    {
     "cell_type": "markdown",
     "metadata": {},
     "source": [
      "> Na channel (activating)"
     ]
    },
    {
     "cell_type": "code",
     "collapsed": false,
     "input": [
      "# Na channel (activating)\n",
      "alpha_m = vectorize(lambda v: 0.1*(-v + 25)/(exp((-v + 25)/10) - 1) if v != 25 else 1)\n",
      "beta_m  = lambda v: 4*exp(-v/18)\n",
      "m_inf   = lambda v: alpha_m(v)/(alpha_m(v) + beta_m(v))"
     ],
     "language": "python",
     "metadata": {},
     "outputs": [],
     "prompt_number": 86
    },
    {
     "cell_type": "markdown",
     "metadata": {},
     "source": [
      "> Na channel (inactivating)"
     ]
    },
    {
     "cell_type": "code",
     "collapsed": false,
     "input": [
      "# Na channel (inactivating)\n",
      "alpha_h = lambda v: 0.07*exp(-v/20)\n",
      "beta_h  = lambda v: 1/(exp((-v + 30)/10) + 1)\n",
      "h_inf   = lambda v: alpha_h(v)/(alpha_h(v) + beta_h(v))"
     ],
     "language": "python",
     "metadata": {},
     "outputs": [],
     "prompt_number": 87
    },
    {
     "cell_type": "markdown",
     "metadata": {},
     "source": [
      "> ## channel activity\ub97c \uba3c\uc800\ubcf4\uc790"
     ]
    },
    {
     "cell_type": "code",
     "collapsed": false,
     "input": [
      "## Functions\n",
      "v = arange(-50,151) # mV\n",
      "figure()\n",
      "plot(v, m_inf(v), v, h_inf(v), v, n_inf(v))\n",
      "legend(('m','h','n'))\n",
      "title('Steady state values of ion channel gating variables')\n",
      "ylabel('Magnitude')\n",
      "xlabel('Voltage (mV)')\n"
     ],
     "language": "python",
     "metadata": {},
     "outputs": [
      {
       "metadata": {},
       "output_type": "pyout",
       "prompt_number": 181,
       "text": [
        "<matplotlib.text.Text at 0x11597c190>"
       ]
      },
      {
       "metadata": {},
       "output_type": "display_data",
       "png": "[encoded data removed]",
       "text": [
        "<matplotlib.figure.Figure at 0x11472a750>"
       ]
      }
     ],
     "prompt_number": 181
    },
    {
     "cell_type": "markdown",
     "metadata": {},
     "source": [
      "> setup parameters and state variables"
     ]
    },
    {
     "cell_type": "code",
     "collapsed": false,
     "input": [
      "T     = 55    # ms\n",
      "dt    = 0.025 # ms\n",
      "time  = arange(0,T+dt,dt)"
     ],
     "language": "python",
     "metadata": {},
     "outputs": [],
     "prompt_number": 89
    },
    {
     "cell_type": "markdown",
     "metadata": {},
     "source": [
      "> HH Parameters"
     ]
    },
    {
     "cell_type": "code",
     "collapsed": false,
     "input": [
      "V_rest  = 0      # mV\n",
      "Cm      = 1      # uF/cm2\n",
      "gbar_Na = 120    # mS/cm2\n",
      "gbar_K  = 36     # mS/cm2\n",
      "gbar_l  = 0.3    # mS/cm2\n",
      "E_Na    = 115    # mV\n",
      "E_K     = -12    # mV\n",
      "E_l     = 10.613 # mV\n",
      "\n",
      "Vm      = zeros(len(time)) # mV\n",
      "Vm[0]   = V_rest\n",
      "m       = m_inf(V_rest)      \n",
      "h       = h_inf(V_rest)\n",
      "n       = n_inf(V_rest)"
     ],
     "language": "python",
     "metadata": {},
     "outputs": [],
     "prompt_number": 185
    },
    {
     "cell_type": "markdown",
     "metadata": {},
     "source": [
      "> Stimulus : current input"
     ]
    },
    {
     "cell_type": "code",
     "collapsed": false,
     "input": [
      "I = zeros(len(time))\n",
      "for i, t in enumerate(time):\n",
      "  if 5 <= t <= 30: I[i] = 10 # uA/cm2   5\ubd80\ud130 30\uae4c\uc9c0 10 \uc758 input\uc744 \uc8fc\ub294 array\ub97c \ub9cc\ub4e0\ub2e4"
     ],
     "language": "python",
     "metadata": {},
     "outputs": [],
     "prompt_number": 220
    },
    {
     "cell_type": "markdown",
     "metadata": {},
     "source": [
      "> Simulate Model"
     ]
    },
    {
     "cell_type": "code",
     "collapsed": false,
     "input": [
      "for i in range(1,len(time)):\n",
      "  #\uc2dd\uc5d0 \ub530\ub77c\uc11c \uac01 \uac12\ub4e4 \uacc4\uc0b0\n",
      "  g_Na = gbar_Na*(m**3)*h\n",
      "  g_K  = gbar_K*(n**4)\n",
      "  g_l  = gbar_l\n",
      "    \n",
      "  #### \ucc44\ub110\uc758 sensitivity\ub97c voltage\uc5d0 \ub530\ub77c update\ud574\uc900\ub2e4\n",
      "  m += dt*(alpha_m(Vm[i-1])*(1 - m) - beta_m(Vm[i-1])*m)\n",
      "  h += dt*(alpha_h(Vm[i-1])*(1 - h) - beta_h(Vm[i-1])*h)\n",
      "  n += dt*(alpha_n(Vm[i-1])*(1 - n) - beta_n(Vm[i-1])*n)\n",
      "\n",
      "  Vm[i] = Vm[i-1] + (1 / Cm) * (I[i-1] - g_Na*(Vm[i-1] - E_Na) - g_K*(Vm[i-1] - E_K) - g_l*(Vm[i-1] - E_l)) * dt \n"
     ],
     "language": "python",
     "metadata": {},
     "outputs": [
      {
       "ename": "ValueError",
       "evalue": "operands could not be broadcast together with shapes (1601) (7) ",
       "output_type": "pyerr",
       "traceback": [
        "\u001b[0;31m---------------------------------------------------------------------------\u001b[0m\n\u001b[0;31mValueError\u001b[0m                                Traceback (most recent call last)",
        "\u001b[0;32m<ipython-input-221-46b1149dd87c>\u001b[0m in \u001b[0;36m<module>\u001b[0;34m()\u001b[0m\n\u001b[1;32m      6\u001b[0m \u001b[0;34m\u001b[0m\u001b[0m\n\u001b[1;32m      7\u001b[0m   \u001b[0;31m#### \ucc44\ub110\uc758 sensitivity\ub97c voltage\uc5d0 \ub530\ub77c update\ud574\uc900\ub2e4\u001b[0m\u001b[0;34m\u001b[0m\u001b[0;34m\u001b[0m\u001b[0m\n\u001b[0;32m----> 8\u001b[0;31m   \u001b[0mm\u001b[0m \u001b[0;34m+=\u001b[0m \u001b[0mdt\u001b[0m\u001b[0;34m*\u001b[0m\u001b[0;34m(\u001b[0m\u001b[0malpha_m\u001b[0m\u001b[0;34m(\u001b[0m\u001b[0mVm\u001b[0m\u001b[0;34m[\u001b[0m\u001b[0mi\u001b[0m\u001b[0;34m-\u001b[0m\u001b[0;36m1\u001b[0m\u001b[0;34m]\u001b[0m\u001b[0;34m)\u001b[0m\u001b[0;34m*\u001b[0m\u001b[0;34m(\u001b[0m\u001b[0;36m1\u001b[0m \u001b[0;34m-\u001b[0m \u001b[0mm\u001b[0m\u001b[0;34m)\u001b[0m \u001b[0;34m-\u001b[0m \u001b[0mbeta_m\u001b[0m\u001b[0;34m(\u001b[0m\u001b[0mVm\u001b[0m\u001b[0;34m[\u001b[0m\u001b[0mi\u001b[0m\u001b[0;34m-\u001b[0m\u001b[0;36m1\u001b[0m\u001b[0;34m]\u001b[0m\u001b[0;34m)\u001b[0m\u001b[0;34m*\u001b[0m\u001b[0mm\u001b[0m\u001b[0;34m)\u001b[0m\u001b[0;34m\u001b[0m\u001b[0m\n\u001b[0m\u001b[1;32m      9\u001b[0m   \u001b[0mh\u001b[0m \u001b[0;34m+=\u001b[0m \u001b[0mdt\u001b[0m\u001b[0;34m*\u001b[0m\u001b[0;34m(\u001b[0m\u001b[0malpha_h\u001b[0m\u001b[0;34m(\u001b[0m\u001b[0mVm\u001b[0m\u001b[0;34m[\u001b[0m\u001b[0mi\u001b[0m\u001b[0;34m-\u001b[0m\u001b[0;36m1\u001b[0m\u001b[0;34m]\u001b[0m\u001b[0;34m)\u001b[0m\u001b[0;34m*\u001b[0m\u001b[0;34m(\u001b[0m\u001b[0;36m1\u001b[0m \u001b[0;34m-\u001b[0m \u001b[0mh\u001b[0m\u001b[0;34m)\u001b[0m \u001b[0;34m-\u001b[0m \u001b[0mbeta_h\u001b[0m\u001b[0;34m(\u001b[0m\u001b[0mVm\u001b[0m\u001b[0;34m[\u001b[0m\u001b[0mi\u001b[0m\u001b[0;34m-\u001b[0m\u001b[0;36m1\u001b[0m\u001b[0;34m]\u001b[0m\u001b[0;34m)\u001b[0m\u001b[0;34m*\u001b[0m\u001b[0mh\u001b[0m\u001b[0;34m)\u001b[0m\u001b[0;34m\u001b[0m\u001b[0m\n\u001b[1;32m     10\u001b[0m   \u001b[0mn\u001b[0m \u001b[0;34m+=\u001b[0m \u001b[0mdt\u001b[0m\u001b[0;34m*\u001b[0m\u001b[0;34m(\u001b[0m\u001b[0malpha_n\u001b[0m\u001b[0;34m(\u001b[0m\u001b[0mVm\u001b[0m\u001b[0;34m[\u001b[0m\u001b[0mi\u001b[0m\u001b[0;34m-\u001b[0m\u001b[0;36m1\u001b[0m\u001b[0;34m]\u001b[0m\u001b[0;34m)\u001b[0m\u001b[0;34m*\u001b[0m\u001b[0;34m(\u001b[0m\u001b[0;36m1\u001b[0m \u001b[0;34m-\u001b[0m \u001b[0mn\u001b[0m\u001b[0;34m)\u001b[0m \u001b[0;34m-\u001b[0m \u001b[0mbeta_n\u001b[0m\u001b[0;34m(\u001b[0m\u001b[0mVm\u001b[0m\u001b[0;34m[\u001b[0m\u001b[0mi\u001b[0m\u001b[0;34m-\u001b[0m\u001b[0;36m1\u001b[0m\u001b[0;34m]\u001b[0m\u001b[0;34m)\u001b[0m\u001b[0;34m*\u001b[0m\u001b[0mn\u001b[0m\u001b[0;34m)\u001b[0m\u001b[0;34m\u001b[0m\u001b[0m\n",
        "\u001b[0;31mValueError\u001b[0m: operands could not be broadcast together with shapes (1601) (7) "
       ]
      }
     ],
     "prompt_number": 221
    },
    {
     "cell_type": "markdown",
     "metadata": {},
     "source": [
      "> plot membrane potential trace"
     ]
    },
    {
     "cell_type": "code",
     "collapsed": false,
     "input": [
      "figure()\n",
      "plot(time, Vm, time, -30+I)\n",
      "title('Hodgkin-Huxley Example')\n",
      "ylabel('Membrane Potential (mV)')\n",
      "xlabel('Time (msec)')\n",
      "\n",
      "show()"
     ],
     "language": "python",
     "metadata": {},
     "outputs": [
      {
       "metadata": {},
       "output_type": "display_data",
       "png": "[encoded data removed]",
       "text": [
        "<matplotlib.figure.Figure at 0x1140d0310>"
       ]
      }
     ],
     "prompt_number": 93
    },
    {
     "cell_type": "markdown",
     "metadata": {},
     "source": [
      "## \ube44\uc2b7\ud558\ub2e4 !\n",
      "\n",
      "- computation loading"
     ]
    },
    {
     "cell_type": "heading",
     "level": 1,
     "metadata": {},
     "source": [
      "3. Izhikevich Model"
     ]
    },
    {
     "cell_type": "markdown",
     "metadata": {},
     "source": [
      "- The **LIF neuron** is computationally simple but physiologically **implausible**\n",
      "- **Hodgkin-Huxley** gives us a very good representation of actual neural dynamics but is **parameter-heavy and computationally expensive**"
     ]
    },
    {
     "cell_type": "markdown",
     "metadata": {},
     "source": [
      "<img src=http://www.sddt.com/images/news/2014/12/09/Brain-Corp_Eugene.jpg>"
     ]
    },
    {
     "cell_type": "markdown",
     "metadata": {},
     "source": [
      "<img src=http://cfile29.uf.tistory.com/image/174DA3384F82FD5F17D773>"
     ]
    },
    {
     "cell_type": "markdown",
     "metadata": {},
     "source": [
      "## Quadratic integrate-and-fire model neuron, or simply Izhikevich neuron"
     ]
    },
    {
     "cell_type": "markdown",
     "metadata": {},
     "source": [
      "##$$\\frac{dV}{dt} = 0.04v^2 + 5v + 140 - u + I$$\n",
      "\n"
     ]
    },
    {
     "cell_type": "markdown",
     "metadata": {},
     "source": [
      "##$$\\frac{dV}{dt} = a(bv - u)$$"
     ]
    },
    {
     "cell_type": "markdown",
     "metadata": {},
     "source": [
      "#### with a reset similar to the LIF neuron defined by\n",
      "\n",
      "##$$if v >= 30 {mV}, then \\left\\{\\begin{aligned} v = c\\\\u = u + d \\end{aligned} \\right\\}$$\n",
      "\n"
     ]
    },
    {
     "cell_type": "markdown",
     "metadata": {},
     "source": [
      "v = membrane potential\n",
      "\n",
      "u = membrane recovery\n",
      "\n",
      "a = time scale of u\n",
      "\n",
      "b = relates subthreshold sensitivity of u to v\n",
      "\n",
      "c = reset value of v after spiking\n",
      "\n",
      "d = the effect spiking has on u at reset"
     ]
    },
    {
     "cell_type": "markdown",
     "metadata": {},
     "source": [
      "### \ucc45\uc5d0\uc11c ...\n",
      "\"\n",
      "This may all seem rather **abstract** to you and I'd agree. **My main criticism** of the Izhikevich model is that it seems to be plagued with so-called **magic numbers** -- constants and parameter values that appear without justification or intuitive basis. It is not immediately obvious how to choose the values of a, b, c, and d to achieve the desired behavior, nor is why the multipliers in the equation for dv/dt are what they are. \n",
      "\"\n",
      "#### However, the point of the Izhikevich neuron is \n",
      "- ##### not to gain an understanding of how a neuron works, \n",
      "- ##### but to be able to replicate a wide range of experimentally observed neural spiking behavior cheaply for use in large-scale simulations."
     ]
    },
    {
     "cell_type": "markdown",
     "metadata": {},
     "source": [
      "## \uc2e4\uc2b5 : Izhikevich Model \uc73c\ub85c 20\uc885\ub958 \ub274\ub7f0 simulate \ud574\ubcf4\uae30"
     ]
    },
    {
     "cell_type": "markdown",
     "metadata": {},
     "source": [
      "### http://cns.bu.edu/~bvg/neurdon/izhikevich.py"
     ]
    },
    {
     "cell_type": "markdown",
     "metadata": {},
     "source": [
      "> \ud30c\uc774\uc36c"
     ]
    },
    {
     "cell_type": "markdown",
     "metadata": {},
     "source": [
      "### Class"
     ]
    },
    {
     "cell_type": "markdown",
     "metadata": {},
     "source": [
      "> IzhNeuron class"
     ]
    },
    {
     "cell_type": "code",
     "collapsed": false,
     "input": [
      "class IzhNeuron:\n",
      "  def __init__(self, label, a, b, c, d, v0, u0=None):\n",
      "    self.label = label\n",
      "\n",
      "    self.a = a\n",
      "    self.b = b\n",
      "    self.c = c\n",
      "    self.d = d\n",
      "\t\n",
      "    self.v = v0\n",
      "    self.u = u0 if u0 is not None else b*v0"
     ],
     "language": "python",
     "metadata": {},
     "outputs": [],
     "prompt_number": 189
    },
    {
     "cell_type": "markdown",
     "metadata": {},
     "source": [
      "> IzhNeuron simulator class"
     ]
    },
    {
     "cell_type": "code",
     "collapsed": false,
     "input": [
      "class IzhSim:\n",
      "  def __init__(self, n, T, dt=0.25):\n",
      "    self.neuron = n\n",
      "    self.dt     = dt\n",
      "    self.t      = t = arange(0, T+dt, dt)\n",
      "    self.stim   = zeros(len(t))\n",
      "    self.x      = 5\n",
      "    self.y      = 140\n",
      "    self.du     = lambda a, b, v, u: a*(b*v - u)\n",
      "\t\n",
      "  def integrate(self, n=None):\n",
      "    if n is None: n = self.neuron\n",
      "    trace = zeros((2,len(self.t)))\n",
      "    \n",
      "    for i, j in enumerate(self.stim):\n",
      "      n.v += self.dt * (0.04*n.v**2 + self.x*n.v + self.y - n.u + self.stim[i])\n",
      "      n.u += self.dt * self.du(n.a,n.b,n.v,n.u)\n",
      "      if n.v > 30:\n",
      "        trace[0,i] = 30\n",
      "        n.v        = n.c\n",
      "        n.u       += n.d\n",
      "      else:\n",
      "        trace[0,i] = n.v\n",
      "        trace[1,i] = n.u\n",
      "    return trace"
     ],
     "language": "python",
     "metadata": {},
     "outputs": [],
     "prompt_number": 192
    },
    {
     "cell_type": "code",
     "collapsed": false,
     "input": [
      "################################################################################\n",
      "# Models\n",
      "################################################################################\n",
      "sims = []\n",
      "\n",
      "## (A) tonic spiking\n",
      "n = IzhNeuron(\"(A) tonic spiking\", a=0.02, b=0.2, c=-65, d=6, v0=-70)\n",
      "s = IzhSim(n, T=100)\n",
      "\n",
      "for i, t in enumerate(s.t):\n",
      "\n",
      "    s.stim[i] = 14 if t > 10 else 0\n",
      "sims.append(s)\n",
      "\n",
      "## (B) phasic spiking\n",
      "n = IzhNeuron(\"(B) phasic spiking\", a=0.02, b=0.25, c=-65, d=6, v0=-64)\n",
      "s = IzhSim(n, T=200)\n",
      "for i, t in enumerate(s.t):\n",
      "  s.stim[i] = 0.5 if t > 20 else 0\n",
      "sims.append(s)\n",
      "\n",
      "## (C) tonic bursting\n",
      "n = IzhNeuron(\"(C) tonic bursting\", a=0.02, b=0.25, c=-50, d=2, v0=-70)\n",
      "s = IzhSim(n, T=220)\n",
      "for i, t in enumerate(s.t):\n",
      "  s.stim[i] = 15 if t > 22 else 0\n",
      "sims.append(s)\n",
      "\n",
      "## (D) phasic bursting\n",
      "n = IzhNeuron(\"(D) phasic bursting\", a=0.02, b=0.25, c=-55, d=0.05, v0=-70)\n",
      "s = IzhSim(n, T=200)\n",
      "for i, t in enumerate(s.t):\n",
      "  s.stim[i] = 0.6 if t > 20 else 0\n",
      "sims.append(s)\n",
      "\n",
      "## (E) mixed mode\n",
      "n = IzhNeuron(\"(E) mixed mode\", a=0.02, b=0.2, c=-55, d=4, v0=-70)\n",
      "s = IzhSim(n, T=160)\n",
      "for i, t in enumerate(s.t):\n",
      "  s.stim[i] = 10 if t > 16 else 0\n",
      "sims.append(s)\n",
      "\n",
      "## (F) spike freq. adapt\n",
      "n = IzhNeuron(\"(F) spike freq. adapt\", a=0.01, b=0.2, c=-65, d=8, v0=-70)\n",
      "s = IzhSim(n, T=85)\n",
      "for i, t in enumerate(s.t):\n",
      "  s.stim[i] = 30 if t > 8.5 else 0\n",
      "sims.append(s)\n",
      "\n",
      "## (G) Class 1 exc.\n",
      "n = IzhNeuron(\"(G) Class 1 exc.\", a=0.02, b=-0.1, c=-55, d=6, v0=-60)\n",
      "s = IzhSim(n, T=300)\n",
      "s.x = 4.1\n",
      "s.y = 108\n",
      "for i, t in enumerate(s.t):\n",
      "  s.stim[i] = 0.075*(t-30) if t > 30 else 0\n",
      "sims.append(s)\n",
      "\n",
      "## (H) Class 2 exc.\n",
      "n = IzhNeuron(\"(H) Class 2 exc.\", a=0.2, b=0.26, c=-65, d=0, v0=-64)\n",
      "s = IzhSim(n, T=300)\n",
      "for i, t in enumerate(s.t):\n",
      "  s.stim[i] = -0.5+(0.015*(t-30)) if t > 30 else -0.5\n",
      "sims.append(s)\n",
      "\n",
      "## (I) spike latency\n",
      "n = IzhNeuron(\"(I) spike latency\", a=0.02, b=0.2, c=-65, d=6, v0=-70)\n",
      "s = IzhSim(n, T=100, dt=0.2)\n",
      "for i, t in enumerate(s.t):\n",
      "  s.stim[i] = 7.04 if 10 < t < 13 else 0\n",
      "sims.append(s)\n",
      "\n",
      "## (J) subthresh. osc.\n",
      "n = IzhNeuron(\"(J) subthresh. osc.\", a=0.05, b=0.26, c=-60, d=0, v0=-62)\n",
      "s = IzhSim(n, T=200)\n",
      "for i, t in enumerate(s.t):\n",
      "  s.stim[i] = 2 if 20 < t < 25 else 0\n",
      "sims.append(s)\n",
      "\n",
      "## (K) resonator\n",
      "n = IzhNeuron(\"(K) resonator\", a=0.1, b=0.26, c=-60, d=-1, v0=-62)\n",
      "s = IzhSim(n, T=400)\n",
      "Ts  = array([40,60,280,320])\n",
      "for i, t in enumerate(s.t):\n",
      "  s.stim[i] = 0.65 if ((Ts < t) & (t < Ts+4)).any() else 0\n",
      "sims.append(s)\n",
      "\n",
      "## (L) integrator\n",
      "n = IzhNeuron(\"(L) integrator\", a=0.02, b=-0.1, c=-55, d=6, v0=-60)\n",
      "s = IzhSim(n, T=100)\n",
      "s.x = 4.1\n",
      "s.y = 108\n",
      "Ts  = array([9.09,14.09,70,80])\n",
      "for i, t in enumerate(s.t):\n",
      "  s.stim[i] = 9 if ((Ts < t) & (t < Ts+2)).any() else 0\n",
      "sims.append(s)\n",
      "\n",
      "## (M) rebound spike\n",
      "n = IzhNeuron(\"(M) rebound spike\", a=0.03, b=0.25, c=-60, d=4, v0=-64)\n",
      "s = IzhSim(n, T=200, dt=0.2)\n",
      "for i, t in enumerate(s.t):\n",
      "  s.stim[i] = -15 if 20 < t < 25 else 0\n",
      "sims.append(s)\n",
      "\n",
      "## (N) rebound burst\n",
      "n = IzhNeuron(\"(N) rebound burst\", a=0.03, b=0.25, c=-52, d=0, v0=-64)\n",
      "s = IzhSim(n, T=200, dt=0.2)\n",
      "for i, t in enumerate(s.t):\n",
      "  s.stim[i] = -15 if 20 < t < 25 else 0\n",
      "sims.append(s)\n",
      "\n",
      "## (O) thresh. variability\n",
      "n = IzhNeuron(\"(O) thresh. variability\", a=0.03, b=0.25, c=-60, d=4, v0=-64)\n",
      "s = IzhSim(n, T=100)\n",
      "for i, t in enumerate(s.t):\n",
      "  if (10 < t < 15) or (80 < t < 85): s.stim[i] = 1\n",
      "  elif 70 < t < 75:                  s.stim[i] = -6\n",
      "  else:                              s.stim[i] = 0\n",
      "sims.append(s)\n",
      "\n",
      "## (P) bistability\n",
      "n = IzhNeuron(\"(P) bistability\", a=0.1, b=0.26, c=-60, d=0, v0=-61)\n",
      "s = IzhSim(n, T=300)\n",
      "for i, t in enumerate(s.t):\n",
      "  s.stim[i] = 1.24 if (37.5 < t < 42.5) or (216 < t < 221) else 0.24\n",
      "sims.append(s)\n",
      "\n",
      "## (Q) DAP\n",
      "n = IzhNeuron(\"(Q) DAP\", a=1, b=0.2, c=-60, d=-21, v0=-70)\n",
      "s = IzhSim(n, T=50, dt=0.1)\n",
      "for i, t in enumerate(s.t):\n",
      "  s.stim[i] = 20 if -1 < (t - 10) < 1 else 0\n",
      "sims.append(s)\n",
      "\n",
      "## (R) accomodation\n",
      "n = IzhNeuron(\"(R) accomodation\", a=0.02, b=1, c=-55, d=4, v0=-65, u0=-16)\n",
      "s = IzhSim(n, T=400, dt=0.5)\n",
      "s.du = lambda a, b, v, u: a*(b*(v + 65))\n",
      "for i, t in enumerate(s.t):\n",
      "  if t < 200:     s.stim[i] = t/25\n",
      "  elif t < 300:   s.stim[i] = 0\n",
      "  elif t < 312.5: s.stim[i] = (t-300)/12.5*4\n",
      "  else:           s.stim[i] = 0\n",
      "sims.append(s)\n",
      "\n",
      "## (S) inhibition induced spiking\n",
      "n = IzhNeuron(\"(S) inhibition induced spiking\", a=-0.02, b=-1, c=-60, d=8, v0=-63.8)\n",
      "s = IzhSim(n, T=350, dt=0.5)\n",
      "for i, t in enumerate(s.t):\n",
      "  s.stim[i] = 80 if t < 50 or t > 250 else 75\n",
      "sims.append(s)\n",
      "\n",
      "## (T) inhibition induced bursting\n",
      "n = IzhNeuron(\"(T) inhibition induced bursting\", a=-0.026, b=-1, c=-45, d=-2, v0=-63.8)\n",
      "s = IzhSim(n, T=350, dt=0.5)\n",
      "for i, t in enumerate(s.t):\n",
      "  s.stim[i] = 80 if t < 50 or t > 250 else 75\n",
      "sims.append(s)\n",
      "\n",
      "################################################################################\n",
      "# Simulate\n",
      "################################################################################\n",
      "figure(num=None, figsize=(15, 15), dpi=80, facecolor='w', edgecolor='k')\n",
      "for i,s in enumerate(sims):\n",
      "  res = s.integrate()\n",
      "  ax  = subplot(5,4,i+1)\n",
      "\n",
      "  ax.plot(s.t, res[0], s.t, -95 + ((s.stim - min(s.stim))/(max(s.stim) - min(s.stim)))*10)\n",
      "\n",
      "  ax.set_xlim([0,s.t[-1]])\n",
      "  ax.set_ylim([-100, 35])\n",
      "  ax.set_title(s.neuron.label, size=\"small\")\n",
      "  ax.set_xticklabels([])\n",
      "  ax.set_yticklabels([])\n",
      "show()"
     ],
     "language": "python",
     "metadata": {},
     "outputs": [
      {
       "metadata": {},
       "output_type": "display_data",
       "png": "[encoded data removed]",
       "text": [
        "<matplotlib.figure.Figure at 0x11470e910>"
       ]
      }
     ],
     "prompt_number": 197
    },
    {
     "cell_type": "markdown",
     "metadata": {},
     "source": [
      "### \ub9ce\uc740 simulation\uc744 \ud574\uc57c \ud560 \ub54c, advantage\ub97c \uac00\uc9c8 \uc218 \uc788\ub2e4 !"
     ]
    },
    {
     "cell_type": "markdown",
     "metadata": {},
     "source": [
      "# Recap"
     ]
    },
    {
     "cell_type": "markdown",
     "metadata": {},
     "source": [
      "## ***Leaky integrate-and-fire model***\n",
      "\n",
      "## ***Hodgkin-Huxley model***\n",
      "\n",
      "## ***Izhikevich***\n",
      "\n",
      "## Problem?"
     ]
    },
    {
     "cell_type": "heading",
     "level": 1,
     "metadata": {},
     "source": [
      "4. Cable theory and compartmental modeling"
     ]
    },
    {
     "cell_type": "markdown",
     "metadata": {},
     "source": [
      "###- \uad6c\uc870\uc801 \uae30\ucd08\ub97c \ub354\ud55c \ubaa8\ub378\n",
      "###- Axon\uacfc dendrites\ub97c \uc2e4\ub9b0\ub354\ub85c \uc0dd\uac01\ud574\uc11c cable theory\ub85c \uc811\uadfc"
     ]
    },
    {
     "cell_type": "markdown",
     "metadata": {},
     "source": [
      "<iframe src=http://en.wikipedia.org/wiki/Cable_theory width=700>"
     ]
    },
    {
     "cell_type": "markdown",
     "metadata": {},
     "source": [
      "### Passive signal propagation\n",
      "- dendrite\ub4e4\uc5d0 \ub4e4\uc5b4\uc624\ub294 \uc2dc\uadf8\ub0a0\uc774 Soma\ub85c \uc804\ub2ec\ub418\ub294 \uacfc\uc815\uc744 \ubaa8\ub378\n",
      "- \uc2dc\uadf8\ub0a0\uc744 reinforce\ud558\uc9c0 \uc54a\uc74c\n",
      "- \ucc9c\ucc9c\ud788 \uc791\uc544\uc9d0 !\n",
      "\n",
      "### Active signal propagation\n",
      "- axon\uc73c\ub85c \uac00\ub294 action potential\uc744 \ubaa8\ub378\n",
      "- Hodgkin-Huxley \ubaa8\ub378\uc744 \uc0ac\uc6a9\ud574\uc11c \ubd80\ubd84\ubd80\ubd84 \uacc4\uc0b0 \uac00\ub2a5"
     ]
    },
    {
     "cell_type": "heading",
     "level": 1,
     "metadata": {},
     "source": [
      "\uc2e4\uc2b5"
     ]
    },
    {
     "cell_type": "markdown",
     "metadata": {},
     "source": [
      "### http://cns.bu.edu/~bvg/neurdon/cable.py"
     ]
    },
    {
     "cell_type": "heading",
     "level": 3,
     "metadata": {},
     "source": [
      "7\uac1c\uc758 axon \uc870\uac01\ub4e4\uc5d0 active propagation simulate\ud558\uae30 !"
     ]
    },
    {
     "cell_type": "heading",
     "level": 2,
     "metadata": {},
     "source": [
      "- \uc791\uc740 \ubd80\ubd84\ub4e4\uc740 Hodgkin-Huxley\ubaa8\ub378\uacfc \uac19\uc74c"
     ]
    },
    {
     "cell_type": "markdown",
     "metadata": {},
     "source": [
      "> K channel"
     ]
    },
    {
     "cell_type": "code",
     "collapsed": false,
     "input": [
      "alpha_n = vectorize(lambda v: 0.01*(-v + 10)/(exp((-v + 10)/10) - 1) if v != 10 else 0.1)\n",
      "beta_n  = lambda v: 0.125*exp(-v/80)\n",
      "n_inf   = lambda v: alpha_n(v)/(alpha_n(v) + beta_n(v))"
     ],
     "language": "python",
     "metadata": {},
     "outputs": [],
     "prompt_number": 236
    },
    {
     "cell_type": "markdown",
     "metadata": {},
     "source": [
      "> Na channel (activating)"
     ]
    },
    {
     "cell_type": "code",
     "collapsed": false,
     "input": [
      "alpha_m = vectorize(lambda v: 0.1*(-v + 25)/(exp((-v + 25)/10) - 1) if v != 25 else 1)\n",
      "beta_m  = lambda v: 4*exp(-v/18)\n",
      "m_inf   = lambda v: alpha_m(v)/(alpha_m(v) + beta_m(v))"
     ],
     "language": "python",
     "metadata": {},
     "outputs": [],
     "prompt_number": 237
    },
    {
     "cell_type": "markdown",
     "metadata": {},
     "source": [
      "> Na channel (inactivating)"
     ]
    },
    {
     "cell_type": "code",
     "collapsed": false,
     "input": [
      "alpha_h = lambda v: 0.07*exp(-v/20)\n",
      "beta_h  = lambda v: 1/(exp((-v + 30)/10) + 1)\n",
      "h_inf   = lambda v: alpha_h(v)/(alpha_h(v) + beta_h(v))"
     ],
     "language": "python",
     "metadata": {},
     "outputs": [],
     "prompt_number": 238
    },
    {
     "cell_type": "markdown",
     "metadata": {},
     "source": [
      "> Setup parameters and state variables"
     ]
    },
    {
     "cell_type": "code",
     "collapsed": false,
     "input": [
      "T     = 40       # ms\n",
      "dt    = 0.025    # ms\n",
      "time  = arange(0,T+dt,dt)\n",
      "\n",
      "## HH Parameters\n",
      "V_rest  = 0      # mV\n",
      "Cm      = 1      # uF/cm2\n",
      "gbar_Na = 120    # mS/cm2\n",
      "gbar_K  = 36     # mS/cm2\n",
      "gbar_l  = 0.3    # mS/cm2\n",
      "E_Na    = 115    # mV\n",
      "E_K     = -12    # mV\n",
      "E_l     = 10.613 # mV"
     ],
     "language": "python",
     "metadata": {},
     "outputs": [],
     "prompt_number": 280
    },
    {
     "cell_type": "markdown",
     "metadata": {},
     "source": [
      "### \ud0c0\uc784\ud3ec\uc778\ud2b8\uac00 \ub9ce\ub124\uc694 ~"
     ]
    },
    {
     "cell_type": "code",
     "collapsed": false,
     "input": [
      "time.shape"
     ],
     "language": "python",
     "metadata": {},
     "outputs": [
      {
       "metadata": {},
       "output_type": "pyout",
       "prompt_number": 281,
       "text": [
        "(1601,)"
       ]
      }
     ],
     "prompt_number": 281
    },
    {
     "cell_type": "markdown",
     "metadata": {},
     "source": [
      "> ### Compartment variables"
     ]
    },
    {
     "cell_type": "code",
     "collapsed": false,
     "input": [
      "S       = 7                # number of compartments\n",
      "elec    = 3                # compartment index of stimulating electrode \uba87\ubc88\uc9f8 compartment to stimulate?\n",
      "RA      = .1               # specific intracellular resistivity (kOhm*cm2)\n",
      "r       = 2e-4             # compartment radius (cm)\n",
      "l       = 0.00001          # compartment length (cm)\n",
      "Ra      = (RA*l)/(pi*r**2) # intracellular resistance (kOhm*cm)"
     ],
     "language": "python",
     "metadata": {},
     "outputs": [],
     "prompt_number": 282
    },
    {
     "cell_type": "code",
     "collapsed": false,
     "input": [
      "Vm      = zeros([S,len(time)])  # mV\n",
      "Vm[:,0] = V_rest\n",
      "dV      = zeros(S)              # mV\n",
      "m       = ones(S)*m_inf(V_rest)\n",
      "h       = ones(S)*h_inf(V_rest)\n",
      "n       = ones(S)*n_inf(V_rest)"
     ],
     "language": "python",
     "metadata": {},
     "outputs": [],
     "prompt_number": 283
    },
    {
     "cell_type": "markdown",
     "metadata": {},
     "source": [
      "### \ud0c0\uc784\ud3ec\uc778\ud2b8\uac00 \ub9ce\uc740\ub9cc\ud07c Vm\ub3c4 \ub9ce\ub124\uc694 \n",
      "    Vm      = zeros([S,len(time)])\n",
      "    Vm[:,0] = 0"
     ]
    },
    {
     "cell_type": "code",
     "collapsed": false,
     "input": [
      "Vm.shape"
     ],
     "language": "python",
     "metadata": {},
     "outputs": [
      {
       "metadata": {},
       "output_type": "pyout",
       "prompt_number": 284,
       "text": [
        "(7, 1601)"
       ]
      }
     ],
     "prompt_number": 284
    },
    {
     "cell_type": "markdown",
     "metadata": {},
     "source": [
      "### ```Vm[:,0] = 0```\n",
      "\n",
      "\ubaa8\ub4e0 \ud589\uc758 \uccab\ubc88\uc9f8[:,0]\ub97c \n",
      "\n",
      "\n",
      "0\uc73c\ub85c \ub9cc\ub4e0\ub2e4"
     ]
    },
    {
     "cell_type": "code",
     "collapsed": false,
     "input": [
      "a = zeros([3,3])\n",
      "a"
     ],
     "language": "python",
     "metadata": {},
     "outputs": [
      {
       "metadata": {},
       "output_type": "pyout",
       "prompt_number": 285,
       "text": [
        "array([[ 0.,  0.,  0.],\n",
        "       [ 0.,  0.,  0.],\n",
        "       [ 0.,  0.,  0.]])"
       ]
      }
     ],
     "prompt_number": 285
    },
    {
     "cell_type": "code",
     "collapsed": false,
     "input": [
      "a[:,0] = 1\n",
      "a"
     ],
     "language": "python",
     "metadata": {},
     "outputs": [
      {
       "metadata": {},
       "output_type": "pyout",
       "prompt_number": 286,
       "text": [
        "array([[ 1.,  0.,  0.],\n",
        "       [ 1.,  0.,  0.],\n",
        "       [ 1.,  0.,  0.]])"
       ]
      }
     ],
     "prompt_number": 286
    },
    {
     "cell_type": "markdown",
     "metadata": {},
     "source": [
      "> Stimulus"
     ]
    },
    {
     "cell_type": "code",
     "collapsed": false,
     "input": [
      "I = zeros(len(time))\n",
      "for i, t in enumerate(time):\n",
      "  if 5 <= t <= 30: I[i] = 10 # uA/cm2"
     ],
     "language": "python",
     "metadata": {},
     "outputs": [],
     "prompt_number": 287
    },
    {
     "cell_type": "markdown",
     "metadata": {},
     "source": [
      "> HH channel currents"
     ]
    },
    {
     "cell_type": "markdown",
     "metadata": {},
     "source": [
      "##$$\\frac{dV}{dt} = \\frac{1}{C_m}(I_m - g_{Na}m^3h(V-E_{Na}) - g_kn^4(V-E_K) - g_l(V-E_l))$$"
     ]
    },
    {
     "cell_type": "code",
     "collapsed": false,
     "input": [
      "def hh(Vm, g_Na, g_K, g_l):\n",
      "  return (g_Na * (Vm - E_Na)\n",
      "        + g_K  * (Vm - E_K )\n",
      "        + g_l  * (Vm - E_l ))"
     ],
     "language": "python",
     "metadata": {},
     "outputs": [],
     "prompt_number": 288
    },
    {
     "cell_type": "markdown",
     "metadata": {},
     "source": [
      "> ### Connection matrix"
     ]
    },
    {
     "cell_type": "code",
     "collapsed": false,
     "input": [
      "Sc = zeros([S,S])\n",
      "for i in range(S):\n",
      "  if i == 0:\n",
      "      Sc[i,0:2]     = [1,-1]\n",
      "  elif i == S-1:\n",
      "      Sc[i,i-1:S]   = [-1,1]\n",
      "  else:\n",
      "      Sc[i,i-1:i+2] = [-1,2,-1]"
     ],
     "language": "python",
     "metadata": {},
     "outputs": [],
     "prompt_number": 289
    },
    {
     "cell_type": "code",
     "collapsed": false,
     "input": [
      "Sc = zeros([S,S])\n",
      "for i in range(S):\n",
      "  print i\n",
      "  if i == 0:                      #\ucc98\uc74c\uac83\n",
      "      Sc[i,0:2]     = [1,-1]\n",
      "  elif i == S-1:                  #\ub9c8\uc9c0\ub9c9\uac83\n",
      "      Sc[i,i-1:S]   = [-1,1]\n",
      "  else:                           #\uc911\uac04\uac83\n",
      "      Sc[i,i-1:i+2] = [-1,2,-1]\n",
      "  display(Sc)"
     ],
     "language": "python",
     "metadata": {},
     "outputs": [
      {
       "output_type": "stream",
       "stream": "stdout",
       "text": [
        "0\n"
       ]
      },
      {
       "metadata": {},
       "output_type": "display_data",
       "text": [
        "array([[ 1., -1.,  0.,  0.,  0.,  0.,  0.],\n",
        "       [ 0.,  0.,  0.,  0.,  0.,  0.,  0.],\n",
        "       [ 0.,  0.,  0.,  0.,  0.,  0.,  0.],\n",
        "       [ 0.,  0.,  0.,  0.,  0.,  0.,  0.],\n",
        "       [ 0.,  0.,  0.,  0.,  0.,  0.,  0.],\n",
        "       [ 0.,  0.,  0.,  0.,  0.,  0.,  0.],\n",
        "       [ 0.,  0.,  0.,  0.,  0.,  0.,  0.]])"
       ]
      },
      {
       "output_type": "stream",
       "stream": "stdout",
       "text": [
        "1\n"
       ]
      },
      {
       "metadata": {},
       "output_type": "display_data",
       "text": [
        "array([[ 1., -1.,  0.,  0.,  0.,  0.,  0.],\n",
        "       [-1.,  2., -1.,  0.,  0.,  0.,  0.],\n",
        "       [ 0.,  0.,  0.,  0.,  0.,  0.,  0.],\n",
        "       [ 0.,  0.,  0.,  0.,  0.,  0.,  0.],\n",
        "       [ 0.,  0.,  0.,  0.,  0.,  0.,  0.],\n",
        "       [ 0.,  0.,  0.,  0.,  0.,  0.,  0.],\n",
        "       [ 0.,  0.,  0.,  0.,  0.,  0.,  0.]])"
       ]
      },
      {
       "output_type": "stream",
       "stream": "stdout",
       "text": [
        "2\n"
       ]
      },
      {
       "metadata": {},
       "output_type": "display_data",
       "text": [
        "array([[ 1., -1.,  0.,  0.,  0.,  0.,  0.],\n",
        "       [-1.,  2., -1.,  0.,  0.,  0.,  0.],\n",
        "       [ 0., -1.,  2., -1.,  0.,  0.,  0.],\n",
        "       [ 0.,  0.,  0.,  0.,  0.,  0.,  0.],\n",
        "       [ 0.,  0.,  0.,  0.,  0.,  0.,  0.],\n",
        "       [ 0.,  0.,  0.,  0.,  0.,  0.,  0.],\n",
        "       [ 0.,  0.,  0.,  0.,  0.,  0.,  0.]])"
       ]
      },
      {
       "output_type": "stream",
       "stream": "stdout",
       "text": [
        "3\n"
       ]
      },
      {
       "metadata": {},
       "output_type": "display_data",
       "text": [
        "array([[ 1., -1.,  0.,  0.,  0.,  0.,  0.],\n",
        "       [-1.,  2., -1.,  0.,  0.,  0.,  0.],\n",
        "       [ 0., -1.,  2., -1.,  0.,  0.,  0.],\n",
        "       [ 0.,  0., -1.,  2., -1.,  0.,  0.],\n",
        "       [ 0.,  0.,  0.,  0.,  0.,  0.,  0.],\n",
        "       [ 0.,  0.,  0.,  0.,  0.,  0.,  0.],\n",
        "       [ 0.,  0.,  0.,  0.,  0.,  0.,  0.]])"
       ]
      },
      {
       "output_type": "stream",
       "stream": "stdout",
       "text": [
        "4\n"
       ]
      },
      {
       "metadata": {},
       "output_type": "display_data",
       "text": [
        "array([[ 1., -1.,  0.,  0.,  0.,  0.,  0.],\n",
        "       [-1.,  2., -1.,  0.,  0.,  0.,  0.],\n",
        "       [ 0., -1.,  2., -1.,  0.,  0.,  0.],\n",
        "       [ 0.,  0., -1.,  2., -1.,  0.,  0.],\n",
        "       [ 0.,  0.,  0., -1.,  2., -1.,  0.],\n",
        "       [ 0.,  0.,  0.,  0.,  0.,  0.,  0.],\n",
        "       [ 0.,  0.,  0.,  0.,  0.,  0.,  0.]])"
       ]
      },
      {
       "output_type": "stream",
       "stream": "stdout",
       "text": [
        "5\n"
       ]
      },
      {
       "metadata": {},
       "output_type": "display_data",
       "text": [
        "array([[ 1., -1.,  0.,  0.,  0.,  0.,  0.],\n",
        "       [-1.,  2., -1.,  0.,  0.,  0.,  0.],\n",
        "       [ 0., -1.,  2., -1.,  0.,  0.,  0.],\n",
        "       [ 0.,  0., -1.,  2., -1.,  0.,  0.],\n",
        "       [ 0.,  0.,  0., -1.,  2., -1.,  0.],\n",
        "       [ 0.,  0.,  0.,  0., -1.,  2., -1.],\n",
        "       [ 0.,  0.,  0.,  0.,  0.,  0.,  0.]])"
       ]
      },
      {
       "output_type": "stream",
       "stream": "stdout",
       "text": [
        "6\n"
       ]
      },
      {
       "metadata": {},
       "output_type": "display_data",
       "text": [
        "array([[ 1., -1.,  0.,  0.,  0.,  0.,  0.],\n",
        "       [-1.,  2., -1.,  0.,  0.,  0.,  0.],\n",
        "       [ 0., -1.,  2., -1.,  0.,  0.,  0.],\n",
        "       [ 0.,  0., -1.,  2., -1.,  0.,  0.],\n",
        "       [ 0.,  0.,  0., -1.,  2., -1.,  0.],\n",
        "       [ 0.,  0.,  0.,  0., -1.,  2., -1.],\n",
        "       [ 0.,  0.,  0.,  0.,  0., -1.,  1.]])"
       ]
      }
     ],
     "prompt_number": 247
    },
    {
     "cell_type": "code",
     "collapsed": false,
     "input": [
      "Sc"
     ],
     "language": "python",
     "metadata": {},
     "outputs": [
      {
       "metadata": {},
       "output_type": "pyout",
       "prompt_number": 248,
       "text": [
        "array([[ 1., -1.,  0.,  0.,  0.,  0.,  0.],\n",
        "       [-1.,  2., -1.,  0.,  0.,  0.,  0.],\n",
        "       [ 0., -1.,  2., -1.,  0.,  0.,  0.],\n",
        "       [ 0.,  0., -1.,  2., -1.,  0.,  0.],\n",
        "       [ 0.,  0.,  0., -1.,  2., -1.,  0.],\n",
        "       [ 0.,  0.,  0.,  0., -1.,  2., -1.],\n",
        "       [ 0.,  0.,  0.,  0.,  0., -1.,  1.]])"
       ]
      }
     ],
     "prompt_number": 248
    },
    {
     "cell_type": "code",
     "collapsed": false,
     "input": [
      "Sc"
     ],
     "language": "python",
     "metadata": {},
     "outputs": [
      {
       "metadata": {},
       "output_type": "pyout",
       "prompt_number": 265,
       "text": [
        "array([[ 1., -1.,  0.,  0.,  0.,  0.,  0.],\n",
        "       [-1.,  2., -1.,  0.,  0.,  0.,  0.],\n",
        "       [ 0., -1.,  2., -1.,  0.,  0.,  0.],\n",
        "       [ 0.,  0., -1.,  2., -1.,  0.,  0.],\n",
        "       [ 0.,  0.,  0., -1.,  2., -1.,  0.],\n",
        "       [ 0.,  0.,  0.,  0., -1.,  2., -1.],\n",
        "       [ 0.,  0.,  0.,  0.,  0., -1.,  1.]])"
       ]
      }
     ],
     "prompt_number": 265
    },
    {
     "cell_type": "markdown",
     "metadata": {},
     "source": [
      "#### \uac01 segment\uac00 \ub2e4\ub978 segment\uc5d0 \ubbf8\uce58\ub294 \uc601\ud5a5\uc744 \ub098\ud0c0\ub0c4 !\n",
      "\n",
      "-1 \ub35c \uc601\ud5a5 \uc90c\n",
      "\n",
      "1 \uc601\ud5a5 \uc90c\n",
      "\n",
      "2 \ub9ce\uc774 \uc601\ud5a5 \uc90c\n",
      "\n",
      "0 \uc601\ud5a5 \uc8fc\uc9c0 \uc54a\uc74c"
     ]
    },
    {
     "cell_type": "markdown",
     "metadata": {},
     "source": [
      "> ### simulate model"
     ]
    },
    {
     "cell_type": "markdown",
     "metadata": {},
     "source": [
      "##$$\\frac{dV}{dt} = \\frac{1}{C_m}(I_m - g_{Na}m^3h(V-E_{Na}) - g_kn^4(V-E_K) - g_l(V-E_l))$$"
     ]
    },
    {
     "cell_type": "code",
     "collapsed": false,
     "input": [
      "for i in range(1,len(time)):\n",
      "  g_Na = gbar_Na*(m**3)*h\n",
      "  g_K  = gbar_K*(n**4)\n",
      "  g_l  = gbar_l\n",
      "\n",
      "  # voltage-gated ion channel sensitivity update\n",
      "  m += dt*(alpha_m(Vm[:,i-1])*(1 - m) - beta_m(Vm[:,i-1])*m)\n",
      "  h += dt*(alpha_h(Vm[:,i-1])*(1 - h) - beta_h(Vm[:,i-1])*h)\n",
      "  n += dt*(alpha_n(Vm[:,i-1])*(1 - n) - beta_n(Vm[:,i-1])*n)\n",
      "\n",
      "  # Voltage\uc758 \ubcc0\ud654\n",
      "  # \ucf54\ub125\uc158 \uba54\ud2b8\ub9ad\uc2a4 \uc0ac\uc6a9\ud574\uc11c \uc606 segment\uc5d0 \ubcc0\ud654 \ubc18\uc601 !!!\n",
      "  dV = -hh(Vm[:,i-1], g_Na, g_K, g_l) - Sc.dot(Vm[:,i-1]) / Ra\n",
      "    \n",
      "  # elec = 3\n",
      "  # 4\ubc88\uc9f8 segment\ub97c \uc5c5\ub370\uc774\ud2b8\n",
      "  dV[elec] += I[i-1]\n",
      "\n",
      "  # Time point\ub97c loop through\ud558\uba74\uc11c\n",
      "  # Voltage\ub97c \uc5c5\ub370\uc774\ud2b8 \ud55c\ub2e4\n",
      "  Vm[:,i] = Vm[:,i-1] + dt * dV / Cm"
     ],
     "language": "python",
     "metadata": {},
     "outputs": [],
     "prompt_number": 329
    },
    {
     "cell_type": "code",
     "collapsed": false,
     "input": [
      "dV"
     ],
     "language": "python",
     "metadata": {},
     "outputs": [
      {
       "metadata": {},
       "output_type": "pyout",
       "prompt_number": 303,
       "text": [
        "array([ 1.11675469,  0.95286278,  0.74321059,  0.56314477,  0.74321059,\n",
        "        0.95286278,  1.11675469])"
       ]
      }
     ],
     "prompt_number": 303
    },
    {
     "cell_type": "code",
     "collapsed": false,
     "input": [
      "dV[3] += 3\n",
      "dV"
     ],
     "language": "python",
     "metadata": {},
     "outputs": [
      {
       "metadata": {},
       "output_type": "pyout",
       "prompt_number": 315,
       "text": [
        "array([  1.11675469,   0.95286278,   0.74321059,  33.56314477,\n",
        "         0.74321059,   0.95286278,   1.11675469])"
       ]
      }
     ],
     "prompt_number": 315
    },
    {
     "cell_type": "markdown",
     "metadata": {},
     "source": [
      "> ### Connection matrix\uc758 \uc640 \uacc4\uc0b0\ub41c membrane membrane potential\uc744 dot product !!\n",
      "    Sc.dot(Vm[:,i-1]) / Ra"
     ]
    },
    {
     "cell_type": "markdown",
     "metadata": {},
     "source": [
      "> connection matrix"
     ]
    },
    {
     "cell_type": "code",
     "collapsed": false,
     "input": [
      "scDf = pd.DataFrame(Sc)\n",
      "scDf"
     ],
     "language": "python",
     "metadata": {},
     "outputs": [
      {
       "html": [
        "<div style=\"max-height:1000px;max-width:1500px;overflow:auto;\">\n",
        "<table border=\"1\" class=\"dataframe\">\n",
        "  <thead>\n",
        "    <tr style=\"text-align: right;\">\n",
        "      <th></th>\n",
        "      <th>0</th>\n",
        "      <th>1</th>\n",
        "      <th>2</th>\n",
        "      <th>3</th>\n",
        "      <th>4</th>\n",
        "      <th>5</th>\n",
        "      <th>6</th>\n",
        "    </tr>\n",
        "  </thead>\n",
        "  <tbody>\n",
        "    <tr>\n",
        "      <th>0</th>\n",
        "      <td> 1</td>\n",
        "      <td>-1</td>\n",
        "      <td> 0</td>\n",
        "      <td> 0</td>\n",
        "      <td> 0</td>\n",
        "      <td> 0</td>\n",
        "      <td> 0</td>\n",
        "    </tr>\n",
        "    <tr>\n",
        "      <th>1</th>\n",
        "      <td>-1</td>\n",
        "      <td> 2</td>\n",
        "      <td>-1</td>\n",
        "      <td> 0</td>\n",
        "      <td> 0</td>\n",
        "      <td> 0</td>\n",
        "      <td> 0</td>\n",
        "    </tr>\n",
        "    <tr>\n",
        "      <th>2</th>\n",
        "      <td> 0</td>\n",
        "      <td>-1</td>\n",
        "      <td> 2</td>\n",
        "      <td>-1</td>\n",
        "      <td> 0</td>\n",
        "      <td> 0</td>\n",
        "      <td> 0</td>\n",
        "    </tr>\n",
        "    <tr>\n",
        "      <th>3</th>\n",
        "      <td> 0</td>\n",
        "      <td> 0</td>\n",
        "      <td>-1</td>\n",
        "      <td> 2</td>\n",
        "      <td>-1</td>\n",
        "      <td> 0</td>\n",
        "      <td> 0</td>\n",
        "    </tr>\n",
        "    <tr>\n",
        "      <th>4</th>\n",
        "      <td> 0</td>\n",
        "      <td> 0</td>\n",
        "      <td> 0</td>\n",
        "      <td>-1</td>\n",
        "      <td> 2</td>\n",
        "      <td>-1</td>\n",
        "      <td> 0</td>\n",
        "    </tr>\n",
        "    <tr>\n",
        "      <th>5</th>\n",
        "      <td> 0</td>\n",
        "      <td> 0</td>\n",
        "      <td> 0</td>\n",
        "      <td> 0</td>\n",
        "      <td>-1</td>\n",
        "      <td> 2</td>\n",
        "      <td>-1</td>\n",
        "    </tr>\n",
        "    <tr>\n",
        "      <th>6</th>\n",
        "      <td> 0</td>\n",
        "      <td> 0</td>\n",
        "      <td> 0</td>\n",
        "      <td> 0</td>\n",
        "      <td> 0</td>\n",
        "      <td>-1</td>\n",
        "      <td> 1</td>\n",
        "    </tr>\n",
        "  </tbody>\n",
        "</table>\n",
        "</div>"
       ],
       "metadata": {},
       "output_type": "pyout",
       "prompt_number": 320,
       "text": [
        "   0  1  2  3  4  5  6\n",
        "0  1 -1  0  0  0  0  0\n",
        "1 -1  2 -1  0  0  0  0\n",
        "2  0 -1  2 -1  0  0  0\n",
        "3  0  0 -1  2 -1  0  0\n",
        "4  0  0  0 -1  2 -1  0\n",
        "5  0  0  0  0 -1  2 -1\n",
        "6  0  0  0  0  0 -1  1"
       ]
      }
     ],
     "prompt_number": 320
    },
    {
     "cell_type": "markdown",
     "metadata": {},
     "source": [
      "> Examples"
     ]
    },
    {
     "cell_type": "code",
     "collapsed": false,
     "input": [
      "Sc.dot([0,0,0,1,0,0,0])"
     ],
     "language": "python",
     "metadata": {},
     "outputs": [
      {
       "metadata": {},
       "output_type": "pyout",
       "prompt_number": 327,
       "text": [
        "array([ 0.,  0., -1.,  2., -1.,  0.,  0.])"
       ]
      }
     ],
     "prompt_number": 327
    },
    {
     "cell_type": "code",
     "collapsed": false,
     "input": [
      "Sc.dot([1,0,0,1,0,0,1])"
     ],
     "language": "python",
     "metadata": {},
     "outputs": [
      {
       "metadata": {},
       "output_type": "pyout",
       "prompt_number": 328,
       "text": [
        "array([ 1., -1., -1.,  2., -1., -1.,  1.])"
       ]
      }
     ],
     "prompt_number": 328
    },
    {
     "cell_type": "markdown",
     "metadata": {},
     "source": [
      "> ### plot membrane potential traces"
     ]
    },
    {
     "cell_type": "code",
     "collapsed": false,
     "input": [
      "ylabel_set = False\n",
      "figure(num=None, figsize=(15, 10), dpi=80, facecolor='w', edgecolor='k')\n",
      "for i,tr in enumerate(Vm):\n",
      "  ax = subplot(S,1,i+1)\n",
      "  ax.plot(time, tr)\n",
      "  if i == 0: ## \ucc98\uc74c\uadf8\ub77c\ud504\uc774\uba74 \ud5e4\ub529\uc744 \ub123\uace0\n",
      "    ax.set_title('Hodgkin-Huxley Active Compartment Example')\n",
      "  if i == floor(S/2) and not ylabel_set: # \uc911\uac04 \ucef4\ud3ec\ub10c\ud2b8\uc5d0 y label\uc744 \ub123\uace0\n",
      "    ax.set_ylabel('Membrane Potential (mV)')\n",
      "    ylabel_set == True\n",
      "  if i != S-1:\n",
      "    ax.set_xticklabels([]) # \ub9c8\uc9c0\ub9c9 \ucef4\ud3ec\ub10c\ud2b8\uc5d0\ub9cc x tick label\uc744 \ub123\ub294\ub2e4\n",
      "  ax.set_yticks([-20, 50, 120])\n",
      "xlabel('Time (msec)')\n",
      "show()"
     ],
     "language": "python",
     "metadata": {},
     "outputs": [
      {
       "metadata": {},
       "output_type": "display_data",
       "png": "[encoded data removed]",
       "text": [
        "<matplotlib.figure.Figure at 0x1141df8d0>"
       ]
      }
     ],
     "prompt_number": 295
    },
    {
     "cell_type": "markdown",
     "metadata": {},
     "source": [
      "# Tools\n",
      "\n",
      "---\n",
      "\n",
      "### http://www.neuron.yale.edu/neuron/\n",
      "### http://www.genesis-sim.org"
     ]
    }
   ],
   "metadata": {}
  }
 ]
}