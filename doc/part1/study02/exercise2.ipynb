{
 "cells": [
  {
   "cell_type": "markdown",
   "metadata": {},
   "source": [
    "# 연습문제2-1\n",
    "### 이 문제는 파이썬의 데이터 타입 중 하나인 list를 이용해 indexing 과 반복문(loop)를 이용한 데이터 처리 방법을 다룹니다."
   ]
  },
  {
   "cell_type": "code",
   "execution_count": 1,
   "metadata": {
    "collapsed": false
   },
   "outputs": [],
   "source": [
    "student_info = [\"Name\", \"Gender\", \"Korean\", \"English\", \"Mathmatics\", \"Science\", \"SocialStudies\"]"
   ]
  },
  {
   "cell_type": "markdown",
   "metadata": {},
   "source": [
    "위 list의 각 항목은 학생의 이름, 성별, 그리고 국어, 영어, 수학, 과학, 사회의 성적을 뜻합니다.\n",
    "이제부터 위의 list 를 이용해 학생 10명의 데이터를 완성해야 합니다. 문제를 풀기 위해 각 항목에 대한 변수와\n",
    "10명분의 데이터를 임의로 입력하세요.\n",
    "\n",
    "eg.\n",
    "> name = [\"Ka-Kyung Kim\", \"MooSung Kim\", .... \"Sung-Ho Lee\"]\n",
    "\n",
    "> gender = [\"Female\", \"Male\", .... \"Male\"]\n",
    "\n",
    "> korean = [...]\n",
    "\n",
    "> english = [...]\n",
    "\n",
    "> math = [...]\n",
    "\n",
    "> science = [...]\n",
    "\n",
    "> social = [...]"
   ]
  },
  {
   "cell_type": "code",
   "execution_count": 2,
   "metadata": {
    "collapsed": false
   },
   "outputs": [],
   "source": [
    "names = []\n",
    "genders = []\n",
    "english = []\n",
    "math = []\n",
    "science = []\n",
    "social = []"
   ]
  },
  {
   "cell_type": "markdown",
   "metadata": {},
   "source": [
    "for 문과 list 의 append method 를 이용해여 10개의 student_info를 데이터로 갖는 students 라는 list 를 생성합니다.\n",
    "\n",
    "eg.\n",
    "> students = [[\"Name\", \"Gender\" .... \"SocialStudies\"], [\"Name\", \"Gender\" .... \"SocialStudies\"] .... [\"Name\", Gender\" .... \"SocialStudies\"]\n",
    "\n",
    "아래 명령어를 수행하면 10 이라는 결과물이 나와야 합니다.\n",
    "> len(students)"
   ]
  },
  {
   "cell_type": "code",
   "execution_count": 3,
   "metadata": {
    "collapsed": false
   },
   "outputs": [],
   "source": [
    "students = [] # 비어있는 리스트 생성\n",
    "# for 문을 이용해 10번 반복\n",
    "    # students 리스트에 student_info 를 append"
   ]
  },
  {
   "cell_type": "markdown",
   "metadata": {},
   "source": [
    "아래 명령어를 실행하면 student_info 가 10번 출력되야 합니다."
   ]
  },
  {
   "cell_type": "code",
   "execution_count": null,
   "metadata": {
    "collapsed": false
   },
   "outputs": [],
   "source": [
    "for student in students: # students 리스트 내의 각 항목을 순서대로 student 라는 변수에 지정\n",
    "    print student # student 변수를 출력"
   ]
  },
  {
   "cell_type": "markdown",
   "metadata": {},
   "source": [
    "for 문을 이용해 name 에 있는 이름들을 students 내의 항목을 대체하는 코드는 다음과 같습니다.\n",
    "\n",
    "    for i in range(len(names)):\n",
    "        students[i][0] = names[i]\n",
    "\n",
    "위의 반복문과 indexing 을 이용해 students 리스트에 names, genders과 각 과목의 성적을 채워 넣으세요."
   ]
  },
  {
   "cell_type": "markdown",
   "metadata": {},
   "source": [
    "다음을 수행하면 다음과 같은 결과가 나와야 합니다.\n",
    "\n",
    "> [\"Ka-Kyung Kim\", \"Female\", .... \"100\"]\n",
    "\n",
    "> [\"MooSung Kim\", \"Male\", .... \"100\"] \n",
    "\n",
    "> ....\n",
    "\n",
    "> [\"Sung-Ho Lee, \"Male\", .... \"100\"]]"
   ]
  },
  {
   "cell_type": "code",
   "execution_count": 6,
   "metadata": {
    "collapsed": false
   },
   "outputs": [],
   "source": [
    "for student in students: # students 리스트 내의 각 항목을 순서대로 student 라는 변수에 지정\n",
    "    print student # student 변수를 출력"
   ]
  },
  {
   "cell_type": "markdown",
   "metadata": {},
   "source": [
    "# 연습문제2-2\n",
    "\n",
    "### 이 문제는 list 내에 있는 데이터를 활용해 간단한 통계수치를 얻고 반복문과 조건문 등을 이용해 원하는 정보를 출력하는 방법을 다룹니다."
   ]
  },
  {
   "cell_type": "markdown",
   "metadata": {},
   "source": [
    "다음과 같이 10명의 sample data set 을 만들어 students 라는 변수에 지정합니다."
   ]
  },
  {
   "cell_type": "code",
   "execution_count": null,
   "metadata": {
    "collapsed": false
   },
   "outputs": [],
   "source": [
    "students = [[\"Ka-Kyung Kim\", \"Female\", \"95\", \"98\", \"100\", \"95\", \"100\"],\n",
    "            [\"MooSung Kim\", \"Male\", \"\", \"\", \"\", \"\", \"\"],\n",
    "            [\"\", \"\", \"\", \"\", \"\", \"\", \"\"],\n",
    "            [\"\", \"\", \"\", \"\", \"\", \"\", \"\"],\n",
    "            [\"\", \"\", \"\", \"\", \"\", \"\", \"\"],\n",
    "            [\"\", \"\", \"\", \"\", \"\", \"\", \"\"],\n",
    "            [\"\", \"\", \"\", \"\", \"\", \"\", \"\"],\n",
    "            [\"\", \"\", \"\", \"\", \"\", \"\", \"\"],\n",
    "            [\"\", \"\", \"\", \"\", \"\", \"\", \"\"],\n",
    "            [\"Sung-Ho Lee\", \"Male\", \"\", \"\", \"\", \"\", \"\"]]"
   ]
  },
  {
   "cell_type": "markdown",
   "metadata": {},
   "source": [
    "위의 각 숫자는 국어, 영어, 수학, 과학, 사회 의 성적을 의미합니다.\n",
    "\n",
    "- 위의 data set 을 이용해 각 학생별 전과목 평균값을 출력하고 1등한 학생의 이름을 출력하시오.\n",
    "\n",
    "eg.\n",
    "\n",
    "> Name: Ka-Kyung Kim, Average Score: 97.6\n",
    "\n",
    "> Name: MooSung Kim, Average Score: XX.X\n",
    "\n",
    "> ...\n",
    "\n",
    "> Name: Sung-Ho Lee, Average Score: XX.X\n",
    "\n",
    "> XXX is the top student\n",
    "\n",
    "- 각 과목별 평균점수와 표준편차를 구하여 출력하고 평균값이 가장 높은 과목을 출력하시오.\n",
    "\n",
    "eg.\n",
    "\n",
    "> Korean: average score = XX, SD = XX\n",
    "\n",
    "> English: average score = XX, SD = XX\n",
    "\n",
    "> ...\n",
    "\n",
    "> SocialScience = average score = XX, SD = XX\n",
    "\n",
    "> XXX shows highest average score!\n",
    "\n",
    "- 각 과목별 남자와 여자의 평균값을 구하여 높은 쪽을 출력하고 각 성별별로 몇과목에서 더 높은 성적을 차지했는지 출력하시오.\n",
    "\n",
    "eg.\n",
    "\n",
    "> Korean: Male group win!\n",
    "\n",
    "> English: Female group win!\n",
    "\n",
    "> ....\n",
    "\n",
    "> Male: 3 courses, Female: 2 courses"
   ]
  },
  {
   "cell_type": "code",
   "execution_count": null,
   "metadata": {
    "collapsed": false
   },
   "outputs": [],
   "source": []
  }
 ],
 "metadata": {
  "kernelspec": {
   "display_name": "Python 2",
   "language": "python",
   "name": "python2"
  },
  "language_info": {
   "codemirror_mode": {
    "name": "ipython",
    "version": 2
   },
   "file_extension": ".py",
   "mimetype": "text/x-python",
   "name": "python",
   "nbconvert_exporter": "python",
   "pygments_lexer": "ipython2",
   "version": "2.7.9"
  }
 },
 "nbformat": 4,
 "nbformat_minor": 0
}
