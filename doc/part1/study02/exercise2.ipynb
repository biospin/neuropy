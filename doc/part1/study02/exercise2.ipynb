{
 "metadata": {
  "name": "",
  "signature": "sha256:1f936e3c79e6f1fa323079478f46c66c507b9b11a0da3fc7e82edbe99f9fb646"
 },
 "nbformat": 3,
 "nbformat_minor": 0,
 "worksheets": [
  {
   "cells": [
    {
     "cell_type": "markdown",
     "metadata": {},
     "source": [
      "# \uc5f0\uc2b5\ubb38\uc81c2-1\n",
      "### \uc774 \ubb38\uc81c\ub294 \ud30c\uc774\uc36c\uc758 \ub370\uc774\ud130 \ud0c0\uc785 \uc911 \ud558\ub098\uc778 list\ub97c \uc774\uc6a9\ud574 indexing \uacfc \ubc18\ubcf5\ubb38(loop)\ub97c \uc774\uc6a9\ud55c \ub370\uc774\ud130 \ucc98\ub9ac \ubc29\ubc95\uc744 \ub2e4\ub8f9\ub2c8\ub2e4."
     ]
    },
    {
     "cell_type": "code",
     "collapsed": false,
     "input": [
      "student_info = [\"Name\", \"Gender\", \"Korean\", \"English\", \"Mathmatics\", \"Science\", \"SocialStudies\"]"
     ],
     "language": "python",
     "metadata": {},
     "outputs": [],
     "prompt_number": 1
    },
    {
     "cell_type": "markdown",
     "metadata": {},
     "source": [
      "\uc704 list\uc758 \uac01 \ud56d\ubaa9\uc740 \ud559\uc0dd\uc758 \uc774\ub984, \uc131\ubcc4, \uadf8\ub9ac\uace0 \uad6d\uc5b4, \uc601\uc5b4, \uc218\ud559, \uacfc\ud559, \uc0ac\ud68c\uc758 \uc131\uc801\uc744 \ub73b\ud569\ub2c8\ub2e4.\n",
      "\uc774\uc81c\ubd80\ud130 \uc704\uc758 list \ub97c \uc774\uc6a9\ud574 \ud559\uc0dd 10\uba85\uc758 \ub370\uc774\ud130\ub97c \uc644\uc131\ud574\uc57c \ud569\ub2c8\ub2e4. \ubb38\uc81c\ub97c \ud480\uae30 \uc704\ud574 \uac01 \ud56d\ubaa9\uc5d0 \ub300\ud55c \ubcc0\uc218\uc640\n",
      "10\uba85\ubd84\uc758 \ub370\uc774\ud130\ub97c \uc784\uc758\ub85c \uc785\ub825\ud558\uc138\uc694.\n",
      "\n",
      "eg.\n",
      "> name = [\"Ka-Kyung Kim\", \"MooSung Kim\", .... \"Sung-Ho Lee\"]\n",
      "\n",
      "> gender = [\"Female\", \"Male\", .... \"Male\"]\n",
      "\n",
      "> korean = [...]\n",
      "\n",
      "> english = [...]\n",
      "\n",
      "> math = [...]\n",
      "\n",
      "> science = [...]\n",
      "\n",
      "> social = [...]"
     ]
    },
    {
     "cell_type": "code",
     "collapsed": false,
     "input": [
      "names = []\n",
      "genders = []\n",
      "english = []\n",
      "math = []\n",
      "science = []\n",
      "social = []"
     ],
     "language": "python",
     "metadata": {},
     "outputs": [],
     "prompt_number": 2
    },
    {
     "cell_type": "markdown",
     "metadata": {},
     "source": [
      "for \ubb38\uacfc list \uc758 append method \ub97c \uc774\uc6a9\ud574\uc5ec 10\uac1c\uc758 student_info\ub97c \ub370\uc774\ud130\ub85c \uac16\ub294 students \ub77c\ub294 list \ub97c \uc0dd\uc131\ud569\ub2c8\ub2e4.\n",
      "\n",
      "eg.\n",
      "> students = [[\"Name\", \"Gender\" .... \"SocialStudies\"], [\"Name\", \"Gender\" .... \"SocialStudies\"] .... [\"Name\", Gender\" .... \"SocialStudies\"]\n",
      "\n",
      "\uc544\ub798 \uba85\ub839\uc5b4\ub97c \uc218\ud589\ud558\uba74 10 \uc774\ub77c\ub294 \uacb0\uacfc\ubb3c\uc774 \ub098\uc640\uc57c \ud569\ub2c8\ub2e4.\n",
      "> len(students)"
     ]
    },
    {
     "cell_type": "code",
     "collapsed": false,
     "input": [
      "students = [] # \ube44\uc5b4\uc788\ub294 \ub9ac\uc2a4\ud2b8 \uc0dd\uc131\n",
      "# for \ubb38\uc744 \uc774\uc6a9\ud574 10\ubc88 \ubc18\ubcf5\n",
      "    # students \ub9ac\uc2a4\ud2b8\uc5d0 student_info \ub97c append"
     ],
     "language": "python",
     "metadata": {},
     "outputs": [],
     "prompt_number": 3
    },
    {
     "cell_type": "markdown",
     "metadata": {},
     "source": [
      "\uc544\ub798 \uba85\ub839\uc5b4\ub97c \uc2e4\ud589\ud558\uba74 student_info \uac00 10\ubc88 \ucd9c\ub825\ub418\uc57c \ud569\ub2c8\ub2e4."
     ]
    },
    {
     "cell_type": "code",
     "collapsed": false,
     "input": [
      "for student in students: # students \ub9ac\uc2a4\ud2b8 \ub0b4\uc758 \uac01 \ud56d\ubaa9\uc744 \uc21c\uc11c\ub300\ub85c student \ub77c\ub294 \ubcc0\uc218\uc5d0 \uc9c0\uc815\n",
      "    print student # student \ubcc0\uc218\ub97c \ucd9c\ub825"
     ],
     "language": "python",
     "metadata": {},
     "outputs": []
    },
    {
     "cell_type": "markdown",
     "metadata": {},
     "source": [
      "for \ubb38\uc744 \uc774\uc6a9\ud574 name \uc5d0 \uc788\ub294 \uc774\ub984\ub4e4\uc744 students \ub0b4\uc758 \ud56d\ubaa9\uc744 \ub300\uccb4\ud558\ub294 \ucf54\ub4dc\ub294 \ub2e4\uc74c\uacfc \uac19\uc2b5\ub2c8\ub2e4.\n",
      "\n",
      "    for i in range(len(names)):\n",
      "        students[i][0] = names[i]\n",
      "\n",
      "\uc704\uc758 \ubc18\ubcf5\ubb38\uacfc indexing \uc744 \uc774\uc6a9\ud574 students \ub9ac\uc2a4\ud2b8\uc5d0 names, genders\uacfc \uac01 \uacfc\ubaa9\uc758 \uc131\uc801\uc744 \ucc44\uc6cc \ub123\uc73c\uc138\uc694."
     ]
    },
    {
     "cell_type": "markdown",
     "metadata": {},
     "source": [
      "\ub2e4\uc74c\uc744 \uc218\ud589\ud558\uba74 \ub2e4\uc74c\uacfc \uac19\uc740 \uacb0\uacfc\uac00 \ub098\uc640\uc57c \ud569\ub2c8\ub2e4.\n",
      "\n",
      "> [\"Ka-Kyung Kim\", \"Female\", .... \"100\"]\n",
      "\n",
      "> [\"MooSung Kim\", \"Male\", .... \"100\"] \n",
      "\n",
      "> ....\n",
      "\n",
      "> [\"Sung-Ho Lee, \"Male\", .... \"100\"]]"
     ]
    },
    {
     "cell_type": "code",
     "collapsed": false,
     "input": [
      "for student in students: # students \ub9ac\uc2a4\ud2b8 \ub0b4\uc758 \uac01 \ud56d\ubaa9\uc744 \uc21c\uc11c\ub300\ub85c student \ub77c\ub294 \ubcc0\uc218\uc5d0 \uc9c0\uc815\n",
      "    print student # student \ubcc0\uc218\ub97c \ucd9c\ub825"
     ],
     "language": "python",
     "metadata": {},
     "outputs": [],
     "prompt_number": 6
    },
    {
     "cell_type": "markdown",
     "metadata": {},
     "source": [
      "# \uc5f0\uc2b5\ubb38\uc81c2-2\n",
      "\n",
      "### \uc774 \ubb38\uc81c\ub294 list \ub0b4\uc5d0 \uc788\ub294 \ub370\uc774\ud130\ub97c \ud65c\uc6a9\ud574 \uac04\ub2e8\ud55c \ud1b5\uacc4\uc218\uce58\ub97c \uc5bb\uace0 \ubc18\ubcf5\ubb38\uacfc \uc870\uac74\ubb38 \ub4f1\uc744 \uc774\uc6a9\ud574 \uc6d0\ud558\ub294 \uc815\ubcf4\ub97c \ucd9c\ub825\ud558\ub294 \ubc29\ubc95\uc744 \ub2e4\ub8f9\ub2c8\ub2e4."
     ]
    },
    {
     "cell_type": "markdown",
     "metadata": {},
     "source": [
      "\ub2e4\uc74c\uacfc \uac19\uc774 10\uba85\uc758 sample data set \uc744 \ub9cc\ub4e4\uc5b4 students \ub77c\ub294 \ubcc0\uc218\uc5d0 \uc9c0\uc815\ud569\ub2c8\ub2e4."
     ]
    },
    {
     "cell_type": "code",
     "collapsed": false,
     "input": [
      "students = [[\"Ka-Kyung Kim\", \"Female\", \"95\", \"98\", \"100\", \"95\", \"100\"],\n",
      "            [\"MooSung Kim\", \"Male\", \"\", \"\", \"\", \"\", \"\"],\n",
      "            [\"\", \"\", \"\", \"\", \"\", \"\", \"\"],\n",
      "            [\"\", \"\", \"\", \"\", \"\", \"\", \"\"],\n",
      "            [\"\", \"\", \"\", \"\", \"\", \"\", \"\"],\n",
      "            [\"\", \"\", \"\", \"\", \"\", \"\", \"\"],\n",
      "            [\"\", \"\", \"\", \"\", \"\", \"\", \"\"],\n",
      "            [\"\", \"\", \"\", \"\", \"\", \"\", \"\"],\n",
      "            [\"\", \"\", \"\", \"\", \"\", \"\", \"\"],\n",
      "            [\"Sung-Ho Lee\", \"Male\", \"\", \"\", \"\", \"\", \"\"]]"
     ],
     "language": "python",
     "metadata": {},
     "outputs": []
    },
    {
     "cell_type": "markdown",
     "metadata": {},
     "source": [
      "\uc704\uc758 \uac01 \uc22b\uc790\ub294 \uad6d\uc5b4, \uc601\uc5b4, \uc218\ud559, \uacfc\ud559, \uc0ac\ud68c \uc758 \uc131\uc801\uc744 \uc758\ubbf8\ud569\ub2c8\ub2e4.\n",
      "\n",
      "- \uc704\uc758 data set \uc744 \uc774\uc6a9\ud574 \uac01 \ud559\uc0dd\ubcc4 \uc804\uacfc\ubaa9 \ud3c9\uade0\uac12\uc744 \ucd9c\ub825\ud558\uace0 1\ub4f1\ud55c \ud559\uc0dd\uc758 \uc774\ub984\uc744 \ucd9c\ub825\ud558\uc2dc\uc624.\n",
      "\n",
      "eg.\n",
      "\n",
      "> Name: Ka-Kyung Kim, Average Score: 97.6\n",
      "\n",
      "> Name: MooSung Kim, Average Score: XX.X\n",
      "\n",
      "> ...\n",
      "\n",
      "> Name: Sung-Ho Lee, Average Score: XX.X\n",
      "\n",
      "> XXX is the top student\n",
      "\n",
      "- \uac01 \uacfc\ubaa9\ubcc4 \ud3c9\uade0\uc810\uc218\uc640 \ud45c\uc900\ud3b8\ucc28\ub97c \uad6c\ud558\uc5ec \ucd9c\ub825\ud558\uace0 \ud3c9\uade0\uac12\uc774 \uac00\uc7a5 \ub192\uc740 \uacfc\ubaa9\uc744 \ucd9c\ub825\ud558\uc2dc\uc624.\n",
      "\n",
      "eg.\n",
      "\n",
      "> Korean: average score = XX, SD = XX\n",
      "\n",
      "> English: average score = XX, SD = XX\n",
      "\n",
      "> ...\n",
      "\n",
      "> SocialScience = average score = XX, SD = XX\n",
      "\n",
      "> XXX shows highest average score!\n",
      "\n",
      "- \uac01 \uacfc\ubaa9\ubcc4 \ub0a8\uc790\uc640 \uc5ec\uc790\uc758 \ud3c9\uade0\uac12\uc744 \uad6c\ud558\uc5ec \ub192\uc740 \ucabd\uc744 \ucd9c\ub825\ud558\uace0 \uac01 \uc131\ubcc4\ubcc4\ub85c \uba87\uacfc\ubaa9\uc5d0\uc11c \ub354 \ub192\uc740 \uc131\uc801\uc744 \ucc28\uc9c0\ud588\ub294\uc9c0 \ucd9c\ub825\ud558\uc2dc\uc624.\n",
      "\n",
      "eg.\n",
      "\n",
      "> Korean: Male group win!\n",
      "\n",
      "> English: Female group win!\n",
      "\n",
      "> ....\n",
      "\n",
      "> Male: 3 courses, Female: 2 courses"
     ]
    },
    {
     "cell_type": "code",
     "collapsed": false,
     "input": [],
     "language": "python",
     "metadata": {},
     "outputs": []
    }
   ],
   "metadata": {}
  }
 ]
}